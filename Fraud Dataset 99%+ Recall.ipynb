{
 "cells": [
  {
   "cell_type": "markdown",
   "id": "9fc06d71",
   "metadata": {},
   "source": [
    "### This is my improved version of the analysis and prediction of data on fraudlent transactions."
   ]
  },
  {
   "cell_type": "code",
   "execution_count": null,
   "id": "cb88519a",
   "metadata": {},
   "outputs": [],
   "source": [
    "# The SMOTE-ENN takes around 30+ minutes to run each time. I would recommend running the notebook on GPU, or view the notebook\n",
    "# on my Kaggle/Github account."
   ]
  },
  {
   "cell_type": "markdown",
   "id": "f9e750e8",
   "metadata": {},
   "source": [
    "##### Please find the detailed explanation at the end of the notebook."
   ]
  },
  {
   "cell_type": "code",
   "execution_count": null,
   "id": "aa4ec99e",
   "metadata": {},
   "outputs": [],
   "source": []
  },
  {
   "cell_type": "code",
   "execution_count": null,
   "id": "75409a09",
   "metadata": {},
   "outputs": [],
   "source": []
  },
  {
   "cell_type": "code",
   "execution_count": 1,
   "id": "5998250b",
   "metadata": {},
   "outputs": [],
   "source": [
    "# Prediction of Fraudlent transactions."
   ]
  },
  {
   "cell_type": "code",
   "execution_count": 2,
   "id": "e8414d5a",
   "metadata": {},
   "outputs": [],
   "source": [
    "# Importing necessary libraries"
   ]
  },
  {
   "cell_type": "code",
   "execution_count": 3,
   "id": "4d31a100",
   "metadata": {},
   "outputs": [],
   "source": [
    "import numpy as np\n",
    "import pandas as pd\n",
    "import seaborn as sns\n",
    "import matplotlib.pyplot as plt"
   ]
  },
  {
   "cell_type": "code",
   "execution_count": 4,
   "id": "73cda126",
   "metadata": {},
   "outputs": [],
   "source": [
    "# Reading data into a DataFrame"
   ]
  },
  {
   "cell_type": "code",
   "execution_count": 5,
   "id": "a97a717b",
   "metadata": {},
   "outputs": [
    {
     "data": {
      "text/html": [
       "<div>\n",
       "<style scoped>\n",
       "    .dataframe tbody tr th:only-of-type {\n",
       "        vertical-align: middle;\n",
       "    }\n",
       "\n",
       "    .dataframe tbody tr th {\n",
       "        vertical-align: top;\n",
       "    }\n",
       "\n",
       "    .dataframe thead th {\n",
       "        text-align: right;\n",
       "    }\n",
       "</style>\n",
       "<table border=\"1\" class=\"dataframe\">\n",
       "  <thead>\n",
       "    <tr style=\"text-align: right;\">\n",
       "      <th></th>\n",
       "      <th>step</th>\n",
       "      <th>type</th>\n",
       "      <th>amount</th>\n",
       "      <th>nameOrig</th>\n",
       "      <th>oldbalanceOrg</th>\n",
       "      <th>newbalanceOrig</th>\n",
       "      <th>nameDest</th>\n",
       "      <th>oldbalanceDest</th>\n",
       "      <th>newbalanceDest</th>\n",
       "      <th>isFraud</th>\n",
       "      <th>isFlaggedFraud</th>\n",
       "    </tr>\n",
       "  </thead>\n",
       "  <tbody>\n",
       "    <tr>\n",
       "      <th>0</th>\n",
       "      <td>1</td>\n",
       "      <td>PAYMENT</td>\n",
       "      <td>9839.64</td>\n",
       "      <td>C1231006815</td>\n",
       "      <td>170136.00</td>\n",
       "      <td>160296.36</td>\n",
       "      <td>M1979787155</td>\n",
       "      <td>0.00</td>\n",
       "      <td>0.00</td>\n",
       "      <td>0</td>\n",
       "      <td>0</td>\n",
       "    </tr>\n",
       "    <tr>\n",
       "      <th>1</th>\n",
       "      <td>1</td>\n",
       "      <td>PAYMENT</td>\n",
       "      <td>1864.28</td>\n",
       "      <td>C1666544295</td>\n",
       "      <td>21249.00</td>\n",
       "      <td>19384.72</td>\n",
       "      <td>M2044282225</td>\n",
       "      <td>0.00</td>\n",
       "      <td>0.00</td>\n",
       "      <td>0</td>\n",
       "      <td>0</td>\n",
       "    </tr>\n",
       "    <tr>\n",
       "      <th>2</th>\n",
       "      <td>1</td>\n",
       "      <td>TRANSFER</td>\n",
       "      <td>181.00</td>\n",
       "      <td>C1305486145</td>\n",
       "      <td>181.00</td>\n",
       "      <td>0.00</td>\n",
       "      <td>C553264065</td>\n",
       "      <td>0.00</td>\n",
       "      <td>0.00</td>\n",
       "      <td>1</td>\n",
       "      <td>0</td>\n",
       "    </tr>\n",
       "    <tr>\n",
       "      <th>3</th>\n",
       "      <td>1</td>\n",
       "      <td>CASH_OUT</td>\n",
       "      <td>181.00</td>\n",
       "      <td>C840083671</td>\n",
       "      <td>181.00</td>\n",
       "      <td>0.00</td>\n",
       "      <td>C38997010</td>\n",
       "      <td>21182.00</td>\n",
       "      <td>0.00</td>\n",
       "      <td>1</td>\n",
       "      <td>0</td>\n",
       "    </tr>\n",
       "    <tr>\n",
       "      <th>4</th>\n",
       "      <td>1</td>\n",
       "      <td>PAYMENT</td>\n",
       "      <td>11668.14</td>\n",
       "      <td>C2048537720</td>\n",
       "      <td>41554.00</td>\n",
       "      <td>29885.86</td>\n",
       "      <td>M1230701703</td>\n",
       "      <td>0.00</td>\n",
       "      <td>0.00</td>\n",
       "      <td>0</td>\n",
       "      <td>0</td>\n",
       "    </tr>\n",
       "    <tr>\n",
       "      <th>...</th>\n",
       "      <td>...</td>\n",
       "      <td>...</td>\n",
       "      <td>...</td>\n",
       "      <td>...</td>\n",
       "      <td>...</td>\n",
       "      <td>...</td>\n",
       "      <td>...</td>\n",
       "      <td>...</td>\n",
       "      <td>...</td>\n",
       "      <td>...</td>\n",
       "      <td>...</td>\n",
       "    </tr>\n",
       "    <tr>\n",
       "      <th>6362615</th>\n",
       "      <td>743</td>\n",
       "      <td>CASH_OUT</td>\n",
       "      <td>339682.13</td>\n",
       "      <td>C786484425</td>\n",
       "      <td>339682.13</td>\n",
       "      <td>0.00</td>\n",
       "      <td>C776919290</td>\n",
       "      <td>0.00</td>\n",
       "      <td>339682.13</td>\n",
       "      <td>1</td>\n",
       "      <td>0</td>\n",
       "    </tr>\n",
       "    <tr>\n",
       "      <th>6362616</th>\n",
       "      <td>743</td>\n",
       "      <td>TRANSFER</td>\n",
       "      <td>6311409.28</td>\n",
       "      <td>C1529008245</td>\n",
       "      <td>6311409.28</td>\n",
       "      <td>0.00</td>\n",
       "      <td>C1881841831</td>\n",
       "      <td>0.00</td>\n",
       "      <td>0.00</td>\n",
       "      <td>1</td>\n",
       "      <td>0</td>\n",
       "    </tr>\n",
       "    <tr>\n",
       "      <th>6362617</th>\n",
       "      <td>743</td>\n",
       "      <td>CASH_OUT</td>\n",
       "      <td>6311409.28</td>\n",
       "      <td>C1162922333</td>\n",
       "      <td>6311409.28</td>\n",
       "      <td>0.00</td>\n",
       "      <td>C1365125890</td>\n",
       "      <td>68488.84</td>\n",
       "      <td>6379898.11</td>\n",
       "      <td>1</td>\n",
       "      <td>0</td>\n",
       "    </tr>\n",
       "    <tr>\n",
       "      <th>6362618</th>\n",
       "      <td>743</td>\n",
       "      <td>TRANSFER</td>\n",
       "      <td>850002.52</td>\n",
       "      <td>C1685995037</td>\n",
       "      <td>850002.52</td>\n",
       "      <td>0.00</td>\n",
       "      <td>C2080388513</td>\n",
       "      <td>0.00</td>\n",
       "      <td>0.00</td>\n",
       "      <td>1</td>\n",
       "      <td>0</td>\n",
       "    </tr>\n",
       "    <tr>\n",
       "      <th>6362619</th>\n",
       "      <td>743</td>\n",
       "      <td>CASH_OUT</td>\n",
       "      <td>850002.52</td>\n",
       "      <td>C1280323807</td>\n",
       "      <td>850002.52</td>\n",
       "      <td>0.00</td>\n",
       "      <td>C873221189</td>\n",
       "      <td>6510099.11</td>\n",
       "      <td>7360101.63</td>\n",
       "      <td>1</td>\n",
       "      <td>0</td>\n",
       "    </tr>\n",
       "  </tbody>\n",
       "</table>\n",
       "<p>6362620 rows × 11 columns</p>\n",
       "</div>"
      ],
      "text/plain": [
       "         step      type      amount     nameOrig  oldbalanceOrg  \\\n",
       "0           1   PAYMENT     9839.64  C1231006815      170136.00   \n",
       "1           1   PAYMENT     1864.28  C1666544295       21249.00   \n",
       "2           1  TRANSFER      181.00  C1305486145         181.00   \n",
       "3           1  CASH_OUT      181.00   C840083671         181.00   \n",
       "4           1   PAYMENT    11668.14  C2048537720       41554.00   \n",
       "...       ...       ...         ...          ...            ...   \n",
       "6362615   743  CASH_OUT   339682.13   C786484425      339682.13   \n",
       "6362616   743  TRANSFER  6311409.28  C1529008245     6311409.28   \n",
       "6362617   743  CASH_OUT  6311409.28  C1162922333     6311409.28   \n",
       "6362618   743  TRANSFER   850002.52  C1685995037      850002.52   \n",
       "6362619   743  CASH_OUT   850002.52  C1280323807      850002.52   \n",
       "\n",
       "         newbalanceOrig     nameDest  oldbalanceDest  newbalanceDest  isFraud  \\\n",
       "0             160296.36  M1979787155            0.00            0.00        0   \n",
       "1              19384.72  M2044282225            0.00            0.00        0   \n",
       "2                  0.00   C553264065            0.00            0.00        1   \n",
       "3                  0.00    C38997010        21182.00            0.00        1   \n",
       "4              29885.86  M1230701703            0.00            0.00        0   \n",
       "...                 ...          ...             ...             ...      ...   \n",
       "6362615            0.00   C776919290            0.00       339682.13        1   \n",
       "6362616            0.00  C1881841831            0.00            0.00        1   \n",
       "6362617            0.00  C1365125890        68488.84      6379898.11        1   \n",
       "6362618            0.00  C2080388513            0.00            0.00        1   \n",
       "6362619            0.00   C873221189      6510099.11      7360101.63        1   \n",
       "\n",
       "         isFlaggedFraud  \n",
       "0                     0  \n",
       "1                     0  \n",
       "2                     0  \n",
       "3                     0  \n",
       "4                     0  \n",
       "...                 ...  \n",
       "6362615               0  \n",
       "6362616               0  \n",
       "6362617               0  \n",
       "6362618               0  \n",
       "6362619               0  \n",
       "\n",
       "[6362620 rows x 11 columns]"
      ]
     },
     "execution_count": 5,
     "metadata": {},
     "output_type": "execute_result"
    }
   ],
   "source": [
    "df = pd.read_csv('C:/Fraud.csv')\n",
    "df"
   ]
  },
  {
   "cell_type": "code",
   "execution_count": 6,
   "id": "cd84aa92",
   "metadata": {},
   "outputs": [
    {
     "data": {
      "text/plain": [
       "(6362620, 11)"
      ]
     },
     "execution_count": 6,
     "metadata": {},
     "output_type": "execute_result"
    }
   ],
   "source": [
    "df.shape"
   ]
  },
  {
   "cell_type": "code",
   "execution_count": 7,
   "id": "0d13bfa1",
   "metadata": {},
   "outputs": [],
   "source": [
    "# Contains 6362620 rows and 11 columns"
   ]
  },
  {
   "cell_type": "code",
   "execution_count": 8,
   "id": "0b259e19",
   "metadata": {},
   "outputs": [],
   "source": [
    "# Viewing the head and tail of the df to get a basic idea of the dataset."
   ]
  },
  {
   "cell_type": "code",
   "execution_count": 9,
   "id": "bd08e02a",
   "metadata": {},
   "outputs": [
    {
     "data": {
      "text/html": [
       "<div>\n",
       "<style scoped>\n",
       "    .dataframe tbody tr th:only-of-type {\n",
       "        vertical-align: middle;\n",
       "    }\n",
       "\n",
       "    .dataframe tbody tr th {\n",
       "        vertical-align: top;\n",
       "    }\n",
       "\n",
       "    .dataframe thead th {\n",
       "        text-align: right;\n",
       "    }\n",
       "</style>\n",
       "<table border=\"1\" class=\"dataframe\">\n",
       "  <thead>\n",
       "    <tr style=\"text-align: right;\">\n",
       "      <th></th>\n",
       "      <th>step</th>\n",
       "      <th>type</th>\n",
       "      <th>amount</th>\n",
       "      <th>nameOrig</th>\n",
       "      <th>oldbalanceOrg</th>\n",
       "      <th>newbalanceOrig</th>\n",
       "      <th>nameDest</th>\n",
       "      <th>oldbalanceDest</th>\n",
       "      <th>newbalanceDest</th>\n",
       "      <th>isFraud</th>\n",
       "      <th>isFlaggedFraud</th>\n",
       "    </tr>\n",
       "  </thead>\n",
       "  <tbody>\n",
       "    <tr>\n",
       "      <th>0</th>\n",
       "      <td>1</td>\n",
       "      <td>PAYMENT</td>\n",
       "      <td>9839.64</td>\n",
       "      <td>C1231006815</td>\n",
       "      <td>170136.00</td>\n",
       "      <td>160296.36</td>\n",
       "      <td>M1979787155</td>\n",
       "      <td>0.0</td>\n",
       "      <td>0.00</td>\n",
       "      <td>0</td>\n",
       "      <td>0</td>\n",
       "    </tr>\n",
       "    <tr>\n",
       "      <th>1</th>\n",
       "      <td>1</td>\n",
       "      <td>PAYMENT</td>\n",
       "      <td>1864.28</td>\n",
       "      <td>C1666544295</td>\n",
       "      <td>21249.00</td>\n",
       "      <td>19384.72</td>\n",
       "      <td>M2044282225</td>\n",
       "      <td>0.0</td>\n",
       "      <td>0.00</td>\n",
       "      <td>0</td>\n",
       "      <td>0</td>\n",
       "    </tr>\n",
       "    <tr>\n",
       "      <th>2</th>\n",
       "      <td>1</td>\n",
       "      <td>TRANSFER</td>\n",
       "      <td>181.00</td>\n",
       "      <td>C1305486145</td>\n",
       "      <td>181.00</td>\n",
       "      <td>0.00</td>\n",
       "      <td>C553264065</td>\n",
       "      <td>0.0</td>\n",
       "      <td>0.00</td>\n",
       "      <td>1</td>\n",
       "      <td>0</td>\n",
       "    </tr>\n",
       "    <tr>\n",
       "      <th>3</th>\n",
       "      <td>1</td>\n",
       "      <td>CASH_OUT</td>\n",
       "      <td>181.00</td>\n",
       "      <td>C840083671</td>\n",
       "      <td>181.00</td>\n",
       "      <td>0.00</td>\n",
       "      <td>C38997010</td>\n",
       "      <td>21182.0</td>\n",
       "      <td>0.00</td>\n",
       "      <td>1</td>\n",
       "      <td>0</td>\n",
       "    </tr>\n",
       "    <tr>\n",
       "      <th>4</th>\n",
       "      <td>1</td>\n",
       "      <td>PAYMENT</td>\n",
       "      <td>11668.14</td>\n",
       "      <td>C2048537720</td>\n",
       "      <td>41554.00</td>\n",
       "      <td>29885.86</td>\n",
       "      <td>M1230701703</td>\n",
       "      <td>0.0</td>\n",
       "      <td>0.00</td>\n",
       "      <td>0</td>\n",
       "      <td>0</td>\n",
       "    </tr>\n",
       "    <tr>\n",
       "      <th>5</th>\n",
       "      <td>1</td>\n",
       "      <td>PAYMENT</td>\n",
       "      <td>7817.71</td>\n",
       "      <td>C90045638</td>\n",
       "      <td>53860.00</td>\n",
       "      <td>46042.29</td>\n",
       "      <td>M573487274</td>\n",
       "      <td>0.0</td>\n",
       "      <td>0.00</td>\n",
       "      <td>0</td>\n",
       "      <td>0</td>\n",
       "    </tr>\n",
       "    <tr>\n",
       "      <th>6</th>\n",
       "      <td>1</td>\n",
       "      <td>PAYMENT</td>\n",
       "      <td>7107.77</td>\n",
       "      <td>C154988899</td>\n",
       "      <td>183195.00</td>\n",
       "      <td>176087.23</td>\n",
       "      <td>M408069119</td>\n",
       "      <td>0.0</td>\n",
       "      <td>0.00</td>\n",
       "      <td>0</td>\n",
       "      <td>0</td>\n",
       "    </tr>\n",
       "    <tr>\n",
       "      <th>7</th>\n",
       "      <td>1</td>\n",
       "      <td>PAYMENT</td>\n",
       "      <td>7861.64</td>\n",
       "      <td>C1912850431</td>\n",
       "      <td>176087.23</td>\n",
       "      <td>168225.59</td>\n",
       "      <td>M633326333</td>\n",
       "      <td>0.0</td>\n",
       "      <td>0.00</td>\n",
       "      <td>0</td>\n",
       "      <td>0</td>\n",
       "    </tr>\n",
       "    <tr>\n",
       "      <th>8</th>\n",
       "      <td>1</td>\n",
       "      <td>PAYMENT</td>\n",
       "      <td>4024.36</td>\n",
       "      <td>C1265012928</td>\n",
       "      <td>2671.00</td>\n",
       "      <td>0.00</td>\n",
       "      <td>M1176932104</td>\n",
       "      <td>0.0</td>\n",
       "      <td>0.00</td>\n",
       "      <td>0</td>\n",
       "      <td>0</td>\n",
       "    </tr>\n",
       "    <tr>\n",
       "      <th>9</th>\n",
       "      <td>1</td>\n",
       "      <td>DEBIT</td>\n",
       "      <td>5337.77</td>\n",
       "      <td>C712410124</td>\n",
       "      <td>41720.00</td>\n",
       "      <td>36382.23</td>\n",
       "      <td>C195600860</td>\n",
       "      <td>41898.0</td>\n",
       "      <td>40348.79</td>\n",
       "      <td>0</td>\n",
       "      <td>0</td>\n",
       "    </tr>\n",
       "  </tbody>\n",
       "</table>\n",
       "</div>"
      ],
      "text/plain": [
       "   step      type    amount     nameOrig  oldbalanceOrg  newbalanceOrig  \\\n",
       "0     1   PAYMENT   9839.64  C1231006815      170136.00       160296.36   \n",
       "1     1   PAYMENT   1864.28  C1666544295       21249.00        19384.72   \n",
       "2     1  TRANSFER    181.00  C1305486145         181.00            0.00   \n",
       "3     1  CASH_OUT    181.00   C840083671         181.00            0.00   \n",
       "4     1   PAYMENT  11668.14  C2048537720       41554.00        29885.86   \n",
       "5     1   PAYMENT   7817.71    C90045638       53860.00        46042.29   \n",
       "6     1   PAYMENT   7107.77   C154988899      183195.00       176087.23   \n",
       "7     1   PAYMENT   7861.64  C1912850431      176087.23       168225.59   \n",
       "8     1   PAYMENT   4024.36  C1265012928        2671.00            0.00   \n",
       "9     1     DEBIT   5337.77   C712410124       41720.00        36382.23   \n",
       "\n",
       "      nameDest  oldbalanceDest  newbalanceDest  isFraud  isFlaggedFraud  \n",
       "0  M1979787155             0.0            0.00        0               0  \n",
       "1  M2044282225             0.0            0.00        0               0  \n",
       "2   C553264065             0.0            0.00        1               0  \n",
       "3    C38997010         21182.0            0.00        1               0  \n",
       "4  M1230701703             0.0            0.00        0               0  \n",
       "5   M573487274             0.0            0.00        0               0  \n",
       "6   M408069119             0.0            0.00        0               0  \n",
       "7   M633326333             0.0            0.00        0               0  \n",
       "8  M1176932104             0.0            0.00        0               0  \n",
       "9   C195600860         41898.0        40348.79        0               0  "
      ]
     },
     "execution_count": 9,
     "metadata": {},
     "output_type": "execute_result"
    }
   ],
   "source": [
    "df.head(10)"
   ]
  },
  {
   "cell_type": "code",
   "execution_count": 10,
   "id": "427f2f71",
   "metadata": {},
   "outputs": [
    {
     "data": {
      "text/html": [
       "<div>\n",
       "<style scoped>\n",
       "    .dataframe tbody tr th:only-of-type {\n",
       "        vertical-align: middle;\n",
       "    }\n",
       "\n",
       "    .dataframe tbody tr th {\n",
       "        vertical-align: top;\n",
       "    }\n",
       "\n",
       "    .dataframe thead th {\n",
       "        text-align: right;\n",
       "    }\n",
       "</style>\n",
       "<table border=\"1\" class=\"dataframe\">\n",
       "  <thead>\n",
       "    <tr style=\"text-align: right;\">\n",
       "      <th></th>\n",
       "      <th>step</th>\n",
       "      <th>type</th>\n",
       "      <th>amount</th>\n",
       "      <th>nameOrig</th>\n",
       "      <th>oldbalanceOrg</th>\n",
       "      <th>newbalanceOrig</th>\n",
       "      <th>nameDest</th>\n",
       "      <th>oldbalanceDest</th>\n",
       "      <th>newbalanceDest</th>\n",
       "      <th>isFraud</th>\n",
       "      <th>isFlaggedFraud</th>\n",
       "    </tr>\n",
       "  </thead>\n",
       "  <tbody>\n",
       "    <tr>\n",
       "      <th>6362610</th>\n",
       "      <td>742</td>\n",
       "      <td>TRANSFER</td>\n",
       "      <td>63416.99</td>\n",
       "      <td>C778071008</td>\n",
       "      <td>63416.99</td>\n",
       "      <td>0.0</td>\n",
       "      <td>C1812552860</td>\n",
       "      <td>0.00</td>\n",
       "      <td>0.00</td>\n",
       "      <td>1</td>\n",
       "      <td>0</td>\n",
       "    </tr>\n",
       "    <tr>\n",
       "      <th>6362611</th>\n",
       "      <td>742</td>\n",
       "      <td>CASH_OUT</td>\n",
       "      <td>63416.99</td>\n",
       "      <td>C994950684</td>\n",
       "      <td>63416.99</td>\n",
       "      <td>0.0</td>\n",
       "      <td>C1662241365</td>\n",
       "      <td>276433.18</td>\n",
       "      <td>339850.17</td>\n",
       "      <td>1</td>\n",
       "      <td>0</td>\n",
       "    </tr>\n",
       "    <tr>\n",
       "      <th>6362612</th>\n",
       "      <td>743</td>\n",
       "      <td>TRANSFER</td>\n",
       "      <td>1258818.82</td>\n",
       "      <td>C1531301470</td>\n",
       "      <td>1258818.82</td>\n",
       "      <td>0.0</td>\n",
       "      <td>C1470998563</td>\n",
       "      <td>0.00</td>\n",
       "      <td>0.00</td>\n",
       "      <td>1</td>\n",
       "      <td>0</td>\n",
       "    </tr>\n",
       "    <tr>\n",
       "      <th>6362613</th>\n",
       "      <td>743</td>\n",
       "      <td>CASH_OUT</td>\n",
       "      <td>1258818.82</td>\n",
       "      <td>C1436118706</td>\n",
       "      <td>1258818.82</td>\n",
       "      <td>0.0</td>\n",
       "      <td>C1240760502</td>\n",
       "      <td>503464.50</td>\n",
       "      <td>1762283.33</td>\n",
       "      <td>1</td>\n",
       "      <td>0</td>\n",
       "    </tr>\n",
       "    <tr>\n",
       "      <th>6362614</th>\n",
       "      <td>743</td>\n",
       "      <td>TRANSFER</td>\n",
       "      <td>339682.13</td>\n",
       "      <td>C2013999242</td>\n",
       "      <td>339682.13</td>\n",
       "      <td>0.0</td>\n",
       "      <td>C1850423904</td>\n",
       "      <td>0.00</td>\n",
       "      <td>0.00</td>\n",
       "      <td>1</td>\n",
       "      <td>0</td>\n",
       "    </tr>\n",
       "    <tr>\n",
       "      <th>6362615</th>\n",
       "      <td>743</td>\n",
       "      <td>CASH_OUT</td>\n",
       "      <td>339682.13</td>\n",
       "      <td>C786484425</td>\n",
       "      <td>339682.13</td>\n",
       "      <td>0.0</td>\n",
       "      <td>C776919290</td>\n",
       "      <td>0.00</td>\n",
       "      <td>339682.13</td>\n",
       "      <td>1</td>\n",
       "      <td>0</td>\n",
       "    </tr>\n",
       "    <tr>\n",
       "      <th>6362616</th>\n",
       "      <td>743</td>\n",
       "      <td>TRANSFER</td>\n",
       "      <td>6311409.28</td>\n",
       "      <td>C1529008245</td>\n",
       "      <td>6311409.28</td>\n",
       "      <td>0.0</td>\n",
       "      <td>C1881841831</td>\n",
       "      <td>0.00</td>\n",
       "      <td>0.00</td>\n",
       "      <td>1</td>\n",
       "      <td>0</td>\n",
       "    </tr>\n",
       "    <tr>\n",
       "      <th>6362617</th>\n",
       "      <td>743</td>\n",
       "      <td>CASH_OUT</td>\n",
       "      <td>6311409.28</td>\n",
       "      <td>C1162922333</td>\n",
       "      <td>6311409.28</td>\n",
       "      <td>0.0</td>\n",
       "      <td>C1365125890</td>\n",
       "      <td>68488.84</td>\n",
       "      <td>6379898.11</td>\n",
       "      <td>1</td>\n",
       "      <td>0</td>\n",
       "    </tr>\n",
       "    <tr>\n",
       "      <th>6362618</th>\n",
       "      <td>743</td>\n",
       "      <td>TRANSFER</td>\n",
       "      <td>850002.52</td>\n",
       "      <td>C1685995037</td>\n",
       "      <td>850002.52</td>\n",
       "      <td>0.0</td>\n",
       "      <td>C2080388513</td>\n",
       "      <td>0.00</td>\n",
       "      <td>0.00</td>\n",
       "      <td>1</td>\n",
       "      <td>0</td>\n",
       "    </tr>\n",
       "    <tr>\n",
       "      <th>6362619</th>\n",
       "      <td>743</td>\n",
       "      <td>CASH_OUT</td>\n",
       "      <td>850002.52</td>\n",
       "      <td>C1280323807</td>\n",
       "      <td>850002.52</td>\n",
       "      <td>0.0</td>\n",
       "      <td>C873221189</td>\n",
       "      <td>6510099.11</td>\n",
       "      <td>7360101.63</td>\n",
       "      <td>1</td>\n",
       "      <td>0</td>\n",
       "    </tr>\n",
       "  </tbody>\n",
       "</table>\n",
       "</div>"
      ],
      "text/plain": [
       "         step      type      amount     nameOrig  oldbalanceOrg  \\\n",
       "6362610   742  TRANSFER    63416.99   C778071008       63416.99   \n",
       "6362611   742  CASH_OUT    63416.99   C994950684       63416.99   \n",
       "6362612   743  TRANSFER  1258818.82  C1531301470     1258818.82   \n",
       "6362613   743  CASH_OUT  1258818.82  C1436118706     1258818.82   \n",
       "6362614   743  TRANSFER   339682.13  C2013999242      339682.13   \n",
       "6362615   743  CASH_OUT   339682.13   C786484425      339682.13   \n",
       "6362616   743  TRANSFER  6311409.28  C1529008245     6311409.28   \n",
       "6362617   743  CASH_OUT  6311409.28  C1162922333     6311409.28   \n",
       "6362618   743  TRANSFER   850002.52  C1685995037      850002.52   \n",
       "6362619   743  CASH_OUT   850002.52  C1280323807      850002.52   \n",
       "\n",
       "         newbalanceOrig     nameDest  oldbalanceDest  newbalanceDest  isFraud  \\\n",
       "6362610             0.0  C1812552860            0.00            0.00        1   \n",
       "6362611             0.0  C1662241365       276433.18       339850.17        1   \n",
       "6362612             0.0  C1470998563            0.00            0.00        1   \n",
       "6362613             0.0  C1240760502       503464.50      1762283.33        1   \n",
       "6362614             0.0  C1850423904            0.00            0.00        1   \n",
       "6362615             0.0   C776919290            0.00       339682.13        1   \n",
       "6362616             0.0  C1881841831            0.00            0.00        1   \n",
       "6362617             0.0  C1365125890        68488.84      6379898.11        1   \n",
       "6362618             0.0  C2080388513            0.00            0.00        1   \n",
       "6362619             0.0   C873221189      6510099.11      7360101.63        1   \n",
       "\n",
       "         isFlaggedFraud  \n",
       "6362610               0  \n",
       "6362611               0  \n",
       "6362612               0  \n",
       "6362613               0  \n",
       "6362614               0  \n",
       "6362615               0  \n",
       "6362616               0  \n",
       "6362617               0  \n",
       "6362618               0  \n",
       "6362619               0  "
      ]
     },
     "execution_count": 10,
     "metadata": {},
     "output_type": "execute_result"
    }
   ],
   "source": [
    "df.tail(10)"
   ]
  },
  {
   "cell_type": "code",
   "execution_count": 11,
   "id": "7d4004f5",
   "metadata": {},
   "outputs": [
    {
     "name": "stdout",
     "output_type": "stream",
     "text": [
      "<class 'pandas.core.frame.DataFrame'>\n",
      "RangeIndex: 6362620 entries, 0 to 6362619\n",
      "Data columns (total 11 columns):\n",
      " #   Column          Dtype  \n",
      "---  ------          -----  \n",
      " 0   step            int64  \n",
      " 1   type            object \n",
      " 2   amount          float64\n",
      " 3   nameOrig        object \n",
      " 4   oldbalanceOrg   float64\n",
      " 5   newbalanceOrig  float64\n",
      " 6   nameDest        object \n",
      " 7   oldbalanceDest  float64\n",
      " 8   newbalanceDest  float64\n",
      " 9   isFraud         int64  \n",
      " 10  isFlaggedFraud  int64  \n",
      "dtypes: float64(5), int64(3), object(3)\n",
      "memory usage: 534.0+ MB\n"
     ]
    }
   ],
   "source": [
    "df.info()"
   ]
  },
  {
   "cell_type": "code",
   "execution_count": 12,
   "id": "d6b92374",
   "metadata": {},
   "outputs": [],
   "source": [
    "# 5 Float, 3 int and 3 object type columns"
   ]
  },
  {
   "cell_type": "markdown",
   "id": "1c43adf0",
   "metadata": {},
   "source": [
    "# Null Values"
   ]
  },
  {
   "cell_type": "code",
   "execution_count": 13,
   "id": "d638ca33",
   "metadata": {},
   "outputs": [],
   "source": [
    "# Checking for null values."
   ]
  },
  {
   "cell_type": "code",
   "execution_count": 14,
   "id": "faa877de",
   "metadata": {},
   "outputs": [
    {
     "data": {
      "text/plain": [
       "step              0\n",
       "type              0\n",
       "amount            0\n",
       "nameOrig          0\n",
       "oldbalanceOrg     0\n",
       "newbalanceOrig    0\n",
       "nameDest          0\n",
       "oldbalanceDest    0\n",
       "newbalanceDest    0\n",
       "isFraud           0\n",
       "isFlaggedFraud    0\n",
       "dtype: int64"
      ]
     },
     "execution_count": 14,
     "metadata": {},
     "output_type": "execute_result"
    }
   ],
   "source": [
    "df.isnull().sum()"
   ]
  },
  {
   "cell_type": "code",
   "execution_count": 15,
   "id": "b42752a1",
   "metadata": {},
   "outputs": [],
   "source": [
    "# No obvious null values. We will check for numerical discrepancies later."
   ]
  },
  {
   "cell_type": "code",
   "execution_count": 16,
   "id": "c222ceab",
   "metadata": {},
   "outputs": [],
   "source": [
    "# Checking duplicate values."
   ]
  },
  {
   "cell_type": "code",
   "execution_count": 17,
   "id": "944db078",
   "metadata": {},
   "outputs": [
    {
     "data": {
      "text/plain": [
       "0"
      ]
     },
     "execution_count": 17,
     "metadata": {},
     "output_type": "execute_result"
    }
   ],
   "source": [
    "df.duplicated().sum()"
   ]
  },
  {
   "cell_type": "code",
   "execution_count": 18,
   "id": "a4605e16",
   "metadata": {},
   "outputs": [],
   "source": [
    "# No duplicate values."
   ]
  },
  {
   "cell_type": "code",
   "execution_count": 19,
   "id": "2cfb08ea",
   "metadata": {},
   "outputs": [
    {
     "data": {
      "text/html": [
       "<div>\n",
       "<style scoped>\n",
       "    .dataframe tbody tr th:only-of-type {\n",
       "        vertical-align: middle;\n",
       "    }\n",
       "\n",
       "    .dataframe tbody tr th {\n",
       "        vertical-align: top;\n",
       "    }\n",
       "\n",
       "    .dataframe thead th {\n",
       "        text-align: right;\n",
       "    }\n",
       "</style>\n",
       "<table border=\"1\" class=\"dataframe\">\n",
       "  <thead>\n",
       "    <tr style=\"text-align: right;\">\n",
       "      <th></th>\n",
       "      <th>count</th>\n",
       "      <th>unique</th>\n",
       "      <th>top</th>\n",
       "      <th>freq</th>\n",
       "      <th>mean</th>\n",
       "      <th>std</th>\n",
       "      <th>min</th>\n",
       "      <th>25%</th>\n",
       "      <th>50%</th>\n",
       "      <th>75%</th>\n",
       "      <th>max</th>\n",
       "    </tr>\n",
       "  </thead>\n",
       "  <tbody>\n",
       "    <tr>\n",
       "      <th>step</th>\n",
       "      <td>6362620.0</td>\n",
       "      <td>NaN</td>\n",
       "      <td>NaN</td>\n",
       "      <td>NaN</td>\n",
       "      <td>243.397246</td>\n",
       "      <td>142.331971</td>\n",
       "      <td>1.0</td>\n",
       "      <td>156.0</td>\n",
       "      <td>239.0</td>\n",
       "      <td>335.0</td>\n",
       "      <td>743.0</td>\n",
       "    </tr>\n",
       "    <tr>\n",
       "      <th>type</th>\n",
       "      <td>6362620</td>\n",
       "      <td>5</td>\n",
       "      <td>CASH_OUT</td>\n",
       "      <td>2237500</td>\n",
       "      <td>NaN</td>\n",
       "      <td>NaN</td>\n",
       "      <td>NaN</td>\n",
       "      <td>NaN</td>\n",
       "      <td>NaN</td>\n",
       "      <td>NaN</td>\n",
       "      <td>NaN</td>\n",
       "    </tr>\n",
       "    <tr>\n",
       "      <th>amount</th>\n",
       "      <td>6362620.0</td>\n",
       "      <td>NaN</td>\n",
       "      <td>NaN</td>\n",
       "      <td>NaN</td>\n",
       "      <td>179861.903549</td>\n",
       "      <td>603858.231463</td>\n",
       "      <td>0.0</td>\n",
       "      <td>13389.57</td>\n",
       "      <td>74871.94</td>\n",
       "      <td>208721.4775</td>\n",
       "      <td>92445516.64</td>\n",
       "    </tr>\n",
       "    <tr>\n",
       "      <th>nameOrig</th>\n",
       "      <td>6362620</td>\n",
       "      <td>6353307</td>\n",
       "      <td>C1902386530</td>\n",
       "      <td>3</td>\n",
       "      <td>NaN</td>\n",
       "      <td>NaN</td>\n",
       "      <td>NaN</td>\n",
       "      <td>NaN</td>\n",
       "      <td>NaN</td>\n",
       "      <td>NaN</td>\n",
       "      <td>NaN</td>\n",
       "    </tr>\n",
       "    <tr>\n",
       "      <th>oldbalanceOrg</th>\n",
       "      <td>6362620.0</td>\n",
       "      <td>NaN</td>\n",
       "      <td>NaN</td>\n",
       "      <td>NaN</td>\n",
       "      <td>833883.104074</td>\n",
       "      <td>2888242.673007</td>\n",
       "      <td>0.0</td>\n",
       "      <td>0.0</td>\n",
       "      <td>14208.0</td>\n",
       "      <td>107315.175</td>\n",
       "      <td>59585040.37</td>\n",
       "    </tr>\n",
       "    <tr>\n",
       "      <th>newbalanceOrig</th>\n",
       "      <td>6362620.0</td>\n",
       "      <td>NaN</td>\n",
       "      <td>NaN</td>\n",
       "      <td>NaN</td>\n",
       "      <td>855113.668579</td>\n",
       "      <td>2924048.502971</td>\n",
       "      <td>0.0</td>\n",
       "      <td>0.0</td>\n",
       "      <td>0.0</td>\n",
       "      <td>144258.41</td>\n",
       "      <td>49585040.37</td>\n",
       "    </tr>\n",
       "    <tr>\n",
       "      <th>nameDest</th>\n",
       "      <td>6362620</td>\n",
       "      <td>2722362</td>\n",
       "      <td>C1286084959</td>\n",
       "      <td>113</td>\n",
       "      <td>NaN</td>\n",
       "      <td>NaN</td>\n",
       "      <td>NaN</td>\n",
       "      <td>NaN</td>\n",
       "      <td>NaN</td>\n",
       "      <td>NaN</td>\n",
       "      <td>NaN</td>\n",
       "    </tr>\n",
       "    <tr>\n",
       "      <th>oldbalanceDest</th>\n",
       "      <td>6362620.0</td>\n",
       "      <td>NaN</td>\n",
       "      <td>NaN</td>\n",
       "      <td>NaN</td>\n",
       "      <td>1100701.66652</td>\n",
       "      <td>3399180.112969</td>\n",
       "      <td>0.0</td>\n",
       "      <td>0.0</td>\n",
       "      <td>132705.665</td>\n",
       "      <td>943036.7075</td>\n",
       "      <td>356015889.35</td>\n",
       "    </tr>\n",
       "    <tr>\n",
       "      <th>newbalanceDest</th>\n",
       "      <td>6362620.0</td>\n",
       "      <td>NaN</td>\n",
       "      <td>NaN</td>\n",
       "      <td>NaN</td>\n",
       "      <td>1224996.398202</td>\n",
       "      <td>3674128.942094</td>\n",
       "      <td>0.0</td>\n",
       "      <td>0.0</td>\n",
       "      <td>214661.44</td>\n",
       "      <td>1111909.25</td>\n",
       "      <td>356179278.92</td>\n",
       "    </tr>\n",
       "    <tr>\n",
       "      <th>isFraud</th>\n",
       "      <td>6362620.0</td>\n",
       "      <td>NaN</td>\n",
       "      <td>NaN</td>\n",
       "      <td>NaN</td>\n",
       "      <td>0.001291</td>\n",
       "      <td>0.035905</td>\n",
       "      <td>0.0</td>\n",
       "      <td>0.0</td>\n",
       "      <td>0.0</td>\n",
       "      <td>0.0</td>\n",
       "      <td>1.0</td>\n",
       "    </tr>\n",
       "    <tr>\n",
       "      <th>isFlaggedFraud</th>\n",
       "      <td>6362620.0</td>\n",
       "      <td>NaN</td>\n",
       "      <td>NaN</td>\n",
       "      <td>NaN</td>\n",
       "      <td>0.000003</td>\n",
       "      <td>0.001586</td>\n",
       "      <td>0.0</td>\n",
       "      <td>0.0</td>\n",
       "      <td>0.0</td>\n",
       "      <td>0.0</td>\n",
       "      <td>1.0</td>\n",
       "    </tr>\n",
       "  </tbody>\n",
       "</table>\n",
       "</div>"
      ],
      "text/plain": [
       "                    count   unique          top     freq            mean  \\\n",
       "step            6362620.0      NaN          NaN      NaN      243.397246   \n",
       "type              6362620        5     CASH_OUT  2237500             NaN   \n",
       "amount          6362620.0      NaN          NaN      NaN   179861.903549   \n",
       "nameOrig          6362620  6353307  C1902386530        3             NaN   \n",
       "oldbalanceOrg   6362620.0      NaN          NaN      NaN   833883.104074   \n",
       "newbalanceOrig  6362620.0      NaN          NaN      NaN   855113.668579   \n",
       "nameDest          6362620  2722362  C1286084959      113             NaN   \n",
       "oldbalanceDest  6362620.0      NaN          NaN      NaN   1100701.66652   \n",
       "newbalanceDest  6362620.0      NaN          NaN      NaN  1224996.398202   \n",
       "isFraud         6362620.0      NaN          NaN      NaN        0.001291   \n",
       "isFlaggedFraud  6362620.0      NaN          NaN      NaN        0.000003   \n",
       "\n",
       "                           std  min       25%         50%          75%  \\\n",
       "step                142.331971  1.0     156.0       239.0        335.0   \n",
       "type                       NaN  NaN       NaN         NaN          NaN   \n",
       "amount           603858.231463  0.0  13389.57    74871.94  208721.4775   \n",
       "nameOrig                   NaN  NaN       NaN         NaN          NaN   \n",
       "oldbalanceOrg   2888242.673007  0.0       0.0     14208.0   107315.175   \n",
       "newbalanceOrig  2924048.502971  0.0       0.0         0.0    144258.41   \n",
       "nameDest                   NaN  NaN       NaN         NaN          NaN   \n",
       "oldbalanceDest  3399180.112969  0.0       0.0  132705.665  943036.7075   \n",
       "newbalanceDest  3674128.942094  0.0       0.0   214661.44   1111909.25   \n",
       "isFraud               0.035905  0.0       0.0         0.0          0.0   \n",
       "isFlaggedFraud        0.001586  0.0       0.0         0.0          0.0   \n",
       "\n",
       "                         max  \n",
       "step                   743.0  \n",
       "type                     NaN  \n",
       "amount           92445516.64  \n",
       "nameOrig                 NaN  \n",
       "oldbalanceOrg    59585040.37  \n",
       "newbalanceOrig   49585040.37  \n",
       "nameDest                 NaN  \n",
       "oldbalanceDest  356015889.35  \n",
       "newbalanceDest  356179278.92  \n",
       "isFraud                  1.0  \n",
       "isFlaggedFraud           1.0  "
      ]
     },
     "execution_count": 19,
     "metadata": {},
     "output_type": "execute_result"
    }
   ],
   "source": [
    "df.describe(include='all').T"
   ]
  },
  {
   "cell_type": "code",
   "execution_count": 20,
   "id": "1c8f89bf",
   "metadata": {},
   "outputs": [],
   "source": [
    "# From the above descriptive statistics - \n",
    "\n",
    "# There are 5 unique types of transactions. CASH_OUT is the most frequent.\n",
    "# The mean and median for Amount have too much difference. Hence, there is presence of outliers.\n",
    "# 25th percentile of all the balance columns shows that a lot of data in those columns is 0\n",
    "\n",
    "# The number of unique values in nameOrig is more than the number of unique values in nameDest. Hence, the unique number of people \n",
    "# sending money is more than the unique number of people receiving money.\n",
    "\n",
    "\n"
   ]
  },
  {
   "cell_type": "code",
   "execution_count": 21,
   "id": "be77a32f",
   "metadata": {},
   "outputs": [
    {
     "data": {
      "text/plain": [
       "0    6354407\n",
       "1       8213\n",
       "Name: isFraud, dtype: int64"
      ]
     },
     "execution_count": 21,
     "metadata": {},
     "output_type": "execute_result"
    }
   ],
   "source": [
    "df.isFraud.value_counts()"
   ]
  },
  {
   "cell_type": "code",
   "execution_count": 22,
   "id": "1aede190",
   "metadata": {},
   "outputs": [
    {
     "data": {
      "text/plain": [
       "0    0.998709\n",
       "1    0.001291\n",
       "Name: isFraud, dtype: float64"
      ]
     },
     "execution_count": 22,
     "metadata": {},
     "output_type": "execute_result"
    }
   ],
   "source": [
    "df.isFraud.value_counts()/len(df)"
   ]
  },
  {
   "cell_type": "code",
   "execution_count": 23,
   "id": "55ad7f81",
   "metadata": {},
   "outputs": [],
   "source": [
    "# Data is highly imbalanced. There is only 0.0012% fraud transactions, while 99.87% transactions are not fraud."
   ]
  },
  {
   "cell_type": "code",
   "execution_count": 24,
   "id": "d2d2a121",
   "metadata": {},
   "outputs": [],
   "source": [
    "# Plotting the transactions."
   ]
  },
  {
   "cell_type": "code",
   "execution_count": 25,
   "id": "742cf961",
   "metadata": {},
   "outputs": [
    {
     "name": "stderr",
     "output_type": "stream",
     "text": [
      "C:\\ProgramData\\Anaconda3\\lib\\site-packages\\seaborn\\_decorators.py:36: FutureWarning: Pass the following variable as a keyword arg: x. From version 0.12, the only valid positional argument will be `data`, and passing other arguments without an explicit keyword will result in an error or misinterpretation.\n",
      "  warnings.warn(\n"
     ]
    },
    {
     "data": {
      "image/png": "[encoded data removed]",
      "text/plain": [
       "<Figure size 504x504 with 1 Axes>"
      ]
     },
     "metadata": {
      "needs_background": "light"
     },
     "output_type": "display_data"
    }
   ],
   "source": [
    "plt.figure(figsize=(7,7))\n",
    "fig = sns.countplot(df.isFraud)\n",
    "fig.set(title='Number of Fraud Transactions')\n",
    "fig.set_ylabel(\"Count of transaction\")\n",
    "for p in fig.patches:\n",
    "    fig.annotate(format(p.get_height(), '.2f'), (p.get_x() + p.get_width() / 2., p.get_height()), ha = 'center', va = 'center', xytext = (0, 10), textcoords = 'offset points')"
   ]
  },
  {
   "cell_type": "code",
   "execution_count": 26,
   "id": "e9541ca7",
   "metadata": {},
   "outputs": [
    {
     "data": {
      "text/plain": [
       "CASH_OUT    2237500\n",
       "PAYMENT     2151495\n",
       "CASH_IN     1399284\n",
       "TRANSFER     532909\n",
       "DEBIT         41432\n",
       "Name: type, dtype: int64"
      ]
     },
     "execution_count": 26,
     "metadata": {},
     "output_type": "execute_result"
    }
   ],
   "source": [
    "df_type=df.type.value_counts().head(5)\n",
    "df_type"
   ]
  },
  {
   "cell_type": "code",
   "execution_count": 27,
   "id": "4a24d8df",
   "metadata": {},
   "outputs": [
    {
     "data": {
      "text/plain": [
       "Text(0.5, 1.0, 'Percentage distribution of transactions by type')"
      ]
     },
     "execution_count": 27,
     "metadata": {},
     "output_type": "execute_result"
    },
    {
     "data": {
      "image/png": "[encoded data removed]",
      "text/plain": [
       "<Figure size 432x432 with 1 Axes>"
      ]
     },
     "metadata": {},
     "output_type": "display_data"
    }
   ],
   "source": [
    "plt.figure(figsize=(6,6))\n",
    "labels=['CASH_OUT','PAYMENT','CASH_IN','TRANSFER','DEBIT']\n",
    "plt.pie(df_type,labels=labels,autopct='%.2f%%',shadow=True,explode=[0.1]*len(labels))\n",
    "plt.title('Percentage distribution of transactions by type')"
   ]
  },
  {
   "cell_type": "code",
   "execution_count": null,
   "id": "1a56682e",
   "metadata": {},
   "outputs": [],
   "source": []
  },
  {
   "cell_type": "code",
   "execution_count": 28,
   "id": "aa53f238",
   "metadata": {},
   "outputs": [],
   "source": [
    "# Number of Fraud and non-Fraud transactions by type"
   ]
  },
  {
   "cell_type": "code",
   "execution_count": 29,
   "id": "ea33298e",
   "metadata": {},
   "outputs": [
    {
     "name": "stderr",
     "output_type": "stream",
     "text": [
      "C:\\ProgramData\\Anaconda3\\lib\\site-packages\\seaborn\\_decorators.py:36: FutureWarning: Pass the following variable as a keyword arg: x. From version 0.12, the only valid positional argument will be `data`, and passing other arguments without an explicit keyword will result in an error or misinterpretation.\n",
      "  warnings.warn(\n"
     ]
    },
    {
     "data": {
      "image/png": "[encoded data removed]",
      "text/plain": [
       "<Figure size 648x648 with 1 Axes>"
      ]
     },
     "metadata": {
      "needs_background": "light"
     },
     "output_type": "display_data"
    }
   ],
   "source": [
    "plt.figure(figsize=(9,9))\n",
    "fig = sns.countplot(df.type,hue='isFraud',data=df)\n",
    "fig.set(title='Number of Fraud Transactions by transaction type')\n",
    "fig.set_xlabel(\"(Type of transaction)\")\n",
    "fig.set_ylabel(\"Count of transaction\")\n",
    "for p in fig.patches:\n",
    "    fig.annotate(format(p.get_height(), '.2f'), (p.get_x() + p.get_width() / 2., p.get_height()), ha = 'center', va = 'center', xytext = (0, 10), textcoords = 'offset points')"
   ]
  },
  {
   "cell_type": "code",
   "execution_count": 30,
   "id": "95924b9a",
   "metadata": {},
   "outputs": [
    {
     "data": {
      "text/plain": [
       "isFraud  type    \n",
       "0        CASH_OUT    2233384\n",
       "         PAYMENT     2151495\n",
       "         CASH_IN     1399284\n",
       "         TRANSFER     528812\n",
       "         DEBIT         41432\n",
       "1        CASH_OUT       4116\n",
       "         TRANSFER       4097\n",
       "Name: type, dtype: int64"
      ]
     },
     "execution_count": 30,
     "metadata": {},
     "output_type": "execute_result"
    }
   ],
   "source": [
    "df.groupby('isFraud')['type'].value_counts()"
   ]
  },
  {
   "cell_type": "code",
   "execution_count": 31,
   "id": "37c7475f",
   "metadata": {},
   "outputs": [],
   "source": [
    "# Only CASH_OUT and TRANSFER type of transactions have fraus transactions."
   ]
  },
  {
   "cell_type": "code",
   "execution_count": null,
   "id": "62dfee93",
   "metadata": {},
   "outputs": [],
   "source": []
  },
  {
   "cell_type": "code",
   "execution_count": 32,
   "id": "d3e5b5bd",
   "metadata": {},
   "outputs": [],
   "source": [
    "# Creating new dataframe with only Fraud transactions"
   ]
  },
  {
   "cell_type": "code",
   "execution_count": 33,
   "id": "2f9bea34",
   "metadata": {},
   "outputs": [],
   "source": [
    "df_isfraud = df[df.isFraud==1]"
   ]
  },
  {
   "cell_type": "code",
   "execution_count": 34,
   "id": "a583c7c1",
   "metadata": {},
   "outputs": [
    {
     "data": {
      "text/plain": [
       "step               741\n",
       "type                 2\n",
       "amount            3977\n",
       "nameOrig          8213\n",
       "oldbalanceOrg     4094\n",
       "newbalanceOrig     145\n",
       "nameDest          8169\n",
       "oldbalanceDest    2863\n",
       "newbalanceDest    4067\n",
       "isFraud              1\n",
       "isFlaggedFraud       2\n",
       "dtype: int64"
      ]
     },
     "execution_count": 34,
     "metadata": {},
     "output_type": "execute_result"
    }
   ],
   "source": [
    "df_isfraud.nunique()"
   ]
  },
  {
   "cell_type": "code",
   "execution_count": 35,
   "id": "9e69a83d",
   "metadata": {},
   "outputs": [],
   "source": [
    "# nameOrig has 8213 unique values and nameDest has 8169 unique values. There does not seem to be any unique correlation between\n",
    "# these 2 columns."
   ]
  },
  {
   "cell_type": "code",
   "execution_count": 36,
   "id": "ec0548e4",
   "metadata": {},
   "outputs": [
    {
     "data": {
      "text/plain": [
       "<AxesSubplot:>"
      ]
     },
     "execution_count": 36,
     "metadata": {},
     "output_type": "execute_result"
    },
    {
     "data": {
      "image/png": "[encoded data removed]",
      "text/plain": [
       "<Figure size 432x288 with 1 Axes>"
      ]
     },
     "metadata": {
      "needs_background": "light"
     },
     "output_type": "display_data"
    }
   ],
   "source": [
    "df_isfraud.amount.hist()"
   ]
  },
  {
   "cell_type": "code",
   "execution_count": 37,
   "id": "8dca592a",
   "metadata": {},
   "outputs": [],
   "source": [
    "# Most of the fraud transactions are below $200,000."
   ]
  },
  {
   "cell_type": "code",
   "execution_count": 38,
   "id": "f6bf67e2",
   "metadata": {},
   "outputs": [
    {
     "name": "stderr",
     "output_type": "stream",
     "text": [
      "C:\\ProgramData\\Anaconda3\\lib\\site-packages\\seaborn\\_decorators.py:36: FutureWarning: Pass the following variable as a keyword arg: x. From version 0.12, the only valid positional argument will be `data`, and passing other arguments without an explicit keyword will result in an error or misinterpretation.\n",
      "  warnings.warn(\n"
     ]
    },
    {
     "data": {
      "text/plain": [
       "<AxesSubplot:xlabel='amount'>"
      ]
     },
     "execution_count": 38,
     "metadata": {},
     "output_type": "execute_result"
    },
    {
     "data": {
      "image/png": "[encoded data removed]",
      "text/plain": [
       "<Figure size 432x288 with 1 Axes>"
      ]
     },
     "metadata": {
      "needs_background": "light"
     },
     "output_type": "display_data"
    }
   ],
   "source": [
    "sns.boxplot(df.amount)"
   ]
  },
  {
   "cell_type": "code",
   "execution_count": 39,
   "id": "9662c426",
   "metadata": {},
   "outputs": [],
   "source": [
    "# Boxplot shows that there are too many outliers. We will treat the outliers by scaling, later on in the notebook."
   ]
  },
  {
   "cell_type": "code",
   "execution_count": null,
   "id": "b0844619",
   "metadata": {},
   "outputs": [],
   "source": []
  },
  {
   "cell_type": "code",
   "execution_count": 40,
   "id": "0814e772",
   "metadata": {},
   "outputs": [],
   "source": [
    "# Heatmap of correlation of all numeric variables"
   ]
  },
  {
   "cell_type": "code",
   "execution_count": 41,
   "id": "b5f0a9e7",
   "metadata": {},
   "outputs": [
    {
     "data": {
      "text/plain": [
       "<AxesSubplot:>"
      ]
     },
     "execution_count": 41,
     "metadata": {},
     "output_type": "execute_result"
    },
    {
     "data": {
      "image/png": "[encoded data removed]",
      "text/plain": [
       "<Figure size 720x576 with 2 Axes>"
      ]
     },
     "metadata": {
      "needs_background": "light"
     },
     "output_type": "display_data"
    }
   ],
   "source": [
    "plt.figure(figsize=(10,8))\n",
    "sns.heatmap(df.corr(),cmap=\"Blues\",annot=True,fmt='.2f')"
   ]
  },
  {
   "cell_type": "code",
   "execution_count": 42,
   "id": "e2c7261e",
   "metadata": {},
   "outputs": [],
   "source": [
    "# There is very high correlation between oldbalanceOrg and newbalanceOrig.\n",
    "# There is also very high correlation between oldbalanceDest and newbalanceDest.\n",
    "# There is multi-collinearity.\n",
    "\n",
    "# We will be using Logistic Regression. The basic principle suggests that there should be no multi-collinearity.\n",
    "# Having multicollinearity would mean that the beta coefficients are dependent on each other and any change in one will\n",
    "# inadvertently result in a change in the highly correlated variable.\n",
    "\n",
    "# Since they are so highly correlated features, dropping one of them is the a good way to go forward,\n",
    "# as keeping both of them will lead to undesirable results."
   ]
  },
  {
   "cell_type": "code",
   "execution_count": null,
   "id": "95adc0a0",
   "metadata": {},
   "outputs": [],
   "source": []
  },
  {
   "cell_type": "code",
   "execution_count": 43,
   "id": "8bc25b6e",
   "metadata": {},
   "outputs": [],
   "source": [
    "# We will be dropping two of the multicollinear features, and nameOrig and nameDest as they are irrelevant to the prediction.\n",
    "\n",
    "# We will also be dropping the isFlaggedFraud column, as it is irrelevant. It is not correlated to any column.\n",
    "# And, the description of the dataset stated that the isFlaggedFraud is only an indicator of transactions of \n",
    "# value greater $200,000, which makes it insignificant."
   ]
  },
  {
   "cell_type": "code",
   "execution_count": null,
   "id": "1cf9c5c8",
   "metadata": {},
   "outputs": [],
   "source": []
  },
  {
   "cell_type": "code",
   "execution_count": 44,
   "id": "74e24624",
   "metadata": {},
   "outputs": [],
   "source": [
    "# Since the dataset is very large, running SMOTE-ENN on it takes too much time and processing power.\n",
    "# Hence, I will be working on a 10% sample of the original dataset hereafter in this notebook.\n",
    "\n",
    "# Creating a sample in such a way that the 'isFraud' values are proportional to the original dataset."
   ]
  },
  {
   "cell_type": "code",
   "execution_count": 45,
   "id": "b1a95da5",
   "metadata": {},
   "outputs": [],
   "source": [
    "df_samp = df.groupby('isFraud', group_keys=False).apply(lambda x: x.sample(frac=0.1))"
   ]
  },
  {
   "cell_type": "code",
   "execution_count": 46,
   "id": "64349a93",
   "metadata": {},
   "outputs": [
    {
     "data": {
      "text/plain": [
       "(636262, 11)"
      ]
     },
     "execution_count": 46,
     "metadata": {},
     "output_type": "execute_result"
    }
   ],
   "source": [
    "df_samp.shape"
   ]
  },
  {
   "cell_type": "code",
   "execution_count": 47,
   "id": "e267fb6a",
   "metadata": {},
   "outputs": [],
   "source": [
    "# Verifying the proportion of Fraudlent transactions in the sample dataset"
   ]
  },
  {
   "cell_type": "code",
   "execution_count": 48,
   "id": "f0a8c45a",
   "metadata": {},
   "outputs": [
    {
     "data": {
      "text/plain": [
       "0    0.99871\n",
       "1    0.00129\n",
       "Name: isFraud, dtype: float64"
      ]
     },
     "execution_count": 48,
     "metadata": {},
     "output_type": "execute_result"
    }
   ],
   "source": [
    "df_samp.isFraud.value_counts()/len(df_samp)"
   ]
  },
  {
   "cell_type": "code",
   "execution_count": 49,
   "id": "e40dbd73",
   "metadata": {},
   "outputs": [
    {
     "data": {
      "text/html": [
       "<div>\n",
       "<style scoped>\n",
       "    .dataframe tbody tr th:only-of-type {\n",
       "        vertical-align: middle;\n",
       "    }\n",
       "\n",
       "    .dataframe tbody tr th {\n",
       "        vertical-align: top;\n",
       "    }\n",
       "\n",
       "    .dataframe thead th {\n",
       "        text-align: right;\n",
       "    }\n",
       "</style>\n",
       "<table border=\"1\" class=\"dataframe\">\n",
       "  <thead>\n",
       "    <tr style=\"text-align: right;\">\n",
       "      <th></th>\n",
       "      <th>step</th>\n",
       "      <th>amount</th>\n",
       "      <th>nameOrig</th>\n",
       "      <th>oldbalanceOrg</th>\n",
       "      <th>newbalanceOrig</th>\n",
       "      <th>nameDest</th>\n",
       "      <th>oldbalanceDest</th>\n",
       "      <th>newbalanceDest</th>\n",
       "      <th>isFraud</th>\n",
       "      <th>isFlaggedFraud</th>\n",
       "      <th>type_CASH_OUT</th>\n",
       "      <th>type_DEBIT</th>\n",
       "      <th>type_PAYMENT</th>\n",
       "      <th>type_TRANSFER</th>\n",
       "    </tr>\n",
       "  </thead>\n",
       "  <tbody>\n",
       "    <tr>\n",
       "      <th>2070622</th>\n",
       "      <td>181</td>\n",
       "      <td>329629.61</td>\n",
       "      <td>C841049046</td>\n",
       "      <td>210922.0</td>\n",
       "      <td>0.00</td>\n",
       "      <td>C1777751234</td>\n",
       "      <td>0.00</td>\n",
       "      <td>329629.61</td>\n",
       "      <td>0</td>\n",
       "      <td>0</td>\n",
       "      <td>1</td>\n",
       "      <td>0</td>\n",
       "      <td>0</td>\n",
       "      <td>0</td>\n",
       "    </tr>\n",
       "    <tr>\n",
       "      <th>2808856</th>\n",
       "      <td>225</td>\n",
       "      <td>52069.17</td>\n",
       "      <td>C1587388988</td>\n",
       "      <td>1513.0</td>\n",
       "      <td>0.00</td>\n",
       "      <td>M74846338</td>\n",
       "      <td>0.00</td>\n",
       "      <td>0.00</td>\n",
       "      <td>0</td>\n",
       "      <td>0</td>\n",
       "      <td>0</td>\n",
       "      <td>0</td>\n",
       "      <td>1</td>\n",
       "      <td>0</td>\n",
       "    </tr>\n",
       "    <tr>\n",
       "      <th>1123498</th>\n",
       "      <td>130</td>\n",
       "      <td>346418.00</td>\n",
       "      <td>C81806814</td>\n",
       "      <td>710.0</td>\n",
       "      <td>0.00</td>\n",
       "      <td>C1957765154</td>\n",
       "      <td>0.00</td>\n",
       "      <td>346418.00</td>\n",
       "      <td>0</td>\n",
       "      <td>0</td>\n",
       "      <td>1</td>\n",
       "      <td>0</td>\n",
       "      <td>0</td>\n",
       "      <td>0</td>\n",
       "    </tr>\n",
       "    <tr>\n",
       "      <th>5861505</th>\n",
       "      <td>403</td>\n",
       "      <td>241947.31</td>\n",
       "      <td>C490491491</td>\n",
       "      <td>0.0</td>\n",
       "      <td>0.00</td>\n",
       "      <td>C1339115423</td>\n",
       "      <td>255208.66</td>\n",
       "      <td>497155.98</td>\n",
       "      <td>0</td>\n",
       "      <td>0</td>\n",
       "      <td>1</td>\n",
       "      <td>0</td>\n",
       "      <td>0</td>\n",
       "      <td>0</td>\n",
       "    </tr>\n",
       "    <tr>\n",
       "      <th>842262</th>\n",
       "      <td>41</td>\n",
       "      <td>336399.44</td>\n",
       "      <td>C124127899</td>\n",
       "      <td>12476.0</td>\n",
       "      <td>348875.44</td>\n",
       "      <td>C1606758858</td>\n",
       "      <td>0.00</td>\n",
       "      <td>0.00</td>\n",
       "      <td>0</td>\n",
       "      <td>0</td>\n",
       "      <td>0</td>\n",
       "      <td>0</td>\n",
       "      <td>0</td>\n",
       "      <td>0</td>\n",
       "    </tr>\n",
       "  </tbody>\n",
       "</table>\n",
       "</div>"
      ],
      "text/plain": [
       "         step     amount     nameOrig  oldbalanceOrg  newbalanceOrig  \\\n",
       "2070622   181  329629.61   C841049046       210922.0            0.00   \n",
       "2808856   225   52069.17  C1587388988         1513.0            0.00   \n",
       "1123498   130  346418.00    C81806814          710.0            0.00   \n",
       "5861505   403  241947.31   C490491491            0.0            0.00   \n",
       "842262     41  336399.44   C124127899        12476.0       348875.44   \n",
       "\n",
       "            nameDest  oldbalanceDest  newbalanceDest  isFraud  isFlaggedFraud  \\\n",
       "2070622  C1777751234            0.00       329629.61        0               0   \n",
       "2808856    M74846338            0.00            0.00        0               0   \n",
       "1123498  C1957765154            0.00       346418.00        0               0   \n",
       "5861505  C1339115423       255208.66       497155.98        0               0   \n",
       "842262   C1606758858            0.00            0.00        0               0   \n",
       "\n",
       "         type_CASH_OUT  type_DEBIT  type_PAYMENT  type_TRANSFER  \n",
       "2070622              1           0             0              0  \n",
       "2808856              0           0             1              0  \n",
       "1123498              1           0             0              0  \n",
       "5861505              1           0             0              0  \n",
       "842262               0           0             0              0  "
      ]
     },
     "execution_count": 49,
     "metadata": {},
     "output_type": "execute_result"
    }
   ],
   "source": [
    "df_samp_reg =  pd.get_dummies(df_samp,columns=['type'],drop_first=True)\n",
    "df_samp_reg.head()"
   ]
  },
  {
   "cell_type": "code",
   "execution_count": 50,
   "id": "4ae36553",
   "metadata": {},
   "outputs": [
    {
     "data": {
      "text/plain": [
       "(636262, 14)"
      ]
     },
     "execution_count": 50,
     "metadata": {},
     "output_type": "execute_result"
    }
   ],
   "source": [
    "df_samp_reg.shape"
   ]
  },
  {
   "cell_type": "code",
   "execution_count": 51,
   "id": "29ad3d46",
   "metadata": {},
   "outputs": [
    {
     "data": {
      "text/plain": [
       "<AxesSubplot:>"
      ]
     },
     "execution_count": 51,
     "metadata": {},
     "output_type": "execute_result"
    },
    {
     "data": {
      "image/png": "[encoded data removed]",
      "text/plain": [
       "<Figure size 720x576 with 2 Axes>"
      ]
     },
     "metadata": {
      "needs_background": "light"
     },
     "output_type": "display_data"
    }
   ],
   "source": [
    "plt.figure(figsize=(10,8))\n",
    "sns.heatmap(df_samp_reg.corr(),cmap=\"Blues\",annot=True,fmt='.2f')"
   ]
  },
  {
   "cell_type": "code",
   "execution_count": 52,
   "id": "2797649f",
   "metadata": {},
   "outputs": [],
   "source": [
    "df_samp_reg1 = df_samp_reg.drop(['nameOrig','nameDest','isFlaggedFraud','oldbalanceOrg','newbalanceDest'],axis=1)"
   ]
  },
  {
   "cell_type": "code",
   "execution_count": 53,
   "id": "59ae6736",
   "metadata": {},
   "outputs": [
    {
     "data": {
      "text/plain": [
       "(636262, 9)"
      ]
     },
     "execution_count": 53,
     "metadata": {},
     "output_type": "execute_result"
    }
   ],
   "source": [
    "df_samp_reg1.shape"
   ]
  },
  {
   "cell_type": "code",
   "execution_count": null,
   "id": "004c3483",
   "metadata": {},
   "outputs": [],
   "source": []
  },
  {
   "cell_type": "code",
   "execution_count": 54,
   "id": "9e82f410",
   "metadata": {},
   "outputs": [],
   "source": [
    "# Importing library for data scaling."
   ]
  },
  {
   "cell_type": "code",
   "execution_count": 55,
   "id": "7348f1ed",
   "metadata": {},
   "outputs": [],
   "source": [
    "from sklearn.preprocessing import RobustScaler"
   ]
  },
  {
   "cell_type": "code",
   "execution_count": 56,
   "id": "9e3e909f",
   "metadata": {},
   "outputs": [],
   "source": [
    "scaler = RobustScaler()"
   ]
  },
  {
   "cell_type": "code",
   "execution_count": 57,
   "id": "6c7aa4c4",
   "metadata": {},
   "outputs": [],
   "source": [
    "df_samp_reg1_scaled=pd.DataFrame((scaler.fit_transform(df_samp_reg1)),columns=df_samp_reg1.columns)"
   ]
  },
  {
   "cell_type": "code",
   "execution_count": 58,
   "id": "dac51781",
   "metadata": {},
   "outputs": [
    {
     "data": {
      "text/html": [
       "<div>\n",
       "<style scoped>\n",
       "    .dataframe tbody tr th:only-of-type {\n",
       "        vertical-align: middle;\n",
       "    }\n",
       "\n",
       "    .dataframe tbody tr th {\n",
       "        vertical-align: top;\n",
       "    }\n",
       "\n",
       "    .dataframe thead th {\n",
       "        text-align: right;\n",
       "    }\n",
       "</style>\n",
       "<table border=\"1\" class=\"dataframe\">\n",
       "  <thead>\n",
       "    <tr style=\"text-align: right;\">\n",
       "      <th></th>\n",
       "      <th>step</th>\n",
       "      <th>amount</th>\n",
       "      <th>newbalanceOrig</th>\n",
       "      <th>oldbalanceDest</th>\n",
       "      <th>isFraud</th>\n",
       "      <th>type_CASH_OUT</th>\n",
       "      <th>type_DEBIT</th>\n",
       "      <th>type_PAYMENT</th>\n",
       "      <th>type_TRANSFER</th>\n",
       "    </tr>\n",
       "  </thead>\n",
       "  <tbody>\n",
       "    <tr>\n",
       "      <th>0</th>\n",
       "      <td>-0.332402</td>\n",
       "      <td>1.299719</td>\n",
       "      <td>0.000000</td>\n",
       "      <td>-0.142304</td>\n",
       "      <td>0.0</td>\n",
       "      <td>1.0</td>\n",
       "      <td>0.0</td>\n",
       "      <td>0.0</td>\n",
       "      <td>0.0</td>\n",
       "    </tr>\n",
       "    <tr>\n",
       "      <th>1</th>\n",
       "      <td>-0.086592</td>\n",
       "      <td>-0.118800</td>\n",
       "      <td>0.000000</td>\n",
       "      <td>-0.142304</td>\n",
       "      <td>0.0</td>\n",
       "      <td>0.0</td>\n",
       "      <td>0.0</td>\n",
       "      <td>1.0</td>\n",
       "      <td>0.0</td>\n",
       "    </tr>\n",
       "    <tr>\n",
       "      <th>2</th>\n",
       "      <td>-0.617318</td>\n",
       "      <td>1.385519</td>\n",
       "      <td>0.000000</td>\n",
       "      <td>-0.142304</td>\n",
       "      <td>0.0</td>\n",
       "      <td>1.0</td>\n",
       "      <td>0.0</td>\n",
       "      <td>0.0</td>\n",
       "      <td>0.0</td>\n",
       "    </tr>\n",
       "    <tr>\n",
       "      <th>3</th>\n",
       "      <td>0.907821</td>\n",
       "      <td>0.851604</td>\n",
       "      <td>0.000000</td>\n",
       "      <td>0.126808</td>\n",
       "      <td>0.0</td>\n",
       "      <td>1.0</td>\n",
       "      <td>0.0</td>\n",
       "      <td>0.0</td>\n",
       "      <td>0.0</td>\n",
       "    </tr>\n",
       "    <tr>\n",
       "      <th>4</th>\n",
       "      <td>-1.114525</td>\n",
       "      <td>1.334318</td>\n",
       "      <td>2.422394</td>\n",
       "      <td>-0.142304</td>\n",
       "      <td>0.0</td>\n",
       "      <td>0.0</td>\n",
       "      <td>0.0</td>\n",
       "      <td>0.0</td>\n",
       "      <td>0.0</td>\n",
       "    </tr>\n",
       "  </tbody>\n",
       "</table>\n",
       "</div>"
      ],
      "text/plain": [
       "       step    amount  newbalanceOrig  oldbalanceDest  isFraud  type_CASH_OUT  \\\n",
       "0 -0.332402  1.299719        0.000000       -0.142304      0.0            1.0   \n",
       "1 -0.086592 -0.118800        0.000000       -0.142304      0.0            0.0   \n",
       "2 -0.617318  1.385519        0.000000       -0.142304      0.0            1.0   \n",
       "3  0.907821  0.851604        0.000000        0.126808      0.0            1.0   \n",
       "4 -1.114525  1.334318        2.422394       -0.142304      0.0            0.0   \n",
       "\n",
       "   type_DEBIT  type_PAYMENT  type_TRANSFER  \n",
       "0         0.0           0.0            0.0  \n",
       "1         0.0           1.0            0.0  \n",
       "2         0.0           0.0            0.0  \n",
       "3         0.0           0.0            0.0  \n",
       "4         0.0           0.0            0.0  "
      ]
     },
     "execution_count": 58,
     "metadata": {},
     "output_type": "execute_result"
    }
   ],
   "source": [
    "df_samp_reg1_scaled.head()"
   ]
  },
  {
   "cell_type": "code",
   "execution_count": null,
   "id": "3154eeb9",
   "metadata": {},
   "outputs": [],
   "source": []
  },
  {
   "cell_type": "code",
   "execution_count": 59,
   "id": "172cde40",
   "metadata": {},
   "outputs": [],
   "source": [
    "# First, let us get a baseline regression model."
   ]
  },
  {
   "cell_type": "code",
   "execution_count": 60,
   "id": "d60beb24",
   "metadata": {},
   "outputs": [],
   "source": [
    "# Splitting the DataFrame into dependent and independent variables."
   ]
  },
  {
   "cell_type": "code",
   "execution_count": 61,
   "id": "06f36edb",
   "metadata": {},
   "outputs": [],
   "source": [
    "y=df_samp_reg1_scaled.isFraud\n",
    "x=df_samp_reg1_scaled.drop('isFraud',axis=1)"
   ]
  },
  {
   "cell_type": "code",
   "execution_count": 62,
   "id": "aad813ea",
   "metadata": {},
   "outputs": [],
   "source": [
    "# Splitting the variables into train and test data.\n",
    "\n",
    "# stratify=target, so that the target variable is split according to weight."
   ]
  },
  {
   "cell_type": "code",
   "execution_count": 63,
   "id": "7a07da7d",
   "metadata": {},
   "outputs": [],
   "source": [
    "from sklearn.model_selection import train_test_split\n",
    "x_train,x_test,y_train,y_test=train_test_split(x,y,random_state=0,test_size=0.2,stratify=y)"
   ]
  },
  {
   "cell_type": "code",
   "execution_count": 64,
   "id": "f0bbba36",
   "metadata": {},
   "outputs": [],
   "source": [
    "from sklearn.linear_model import LogisticRegression\n",
    "from sklearn.metrics import accuracy_score\n",
    "from sklearn.linear_model import LinearRegression\n",
    "from sklearn.model_selection import train_test_split\n",
    "from sklearn.metrics import r2_score\n",
    "from sklearn import linear_model\n",
    "from sklearn import metrics"
   ]
  },
  {
   "cell_type": "code",
   "execution_count": null,
   "id": "b42f4731",
   "metadata": {},
   "outputs": [],
   "source": [
    "# Fitting the train data on the logistic regression model."
   ]
  },
  {
   "cell_type": "code",
   "execution_count": 65,
   "id": "e862ba13",
   "metadata": {},
   "outputs": [
    {
     "name": "stdout",
     "output_type": "stream",
     "text": [
      "accuracy: 99.87230088269558%\n"
     ]
    },
    {
     "name": "stderr",
     "output_type": "stream",
     "text": [
      "C:\\ProgramData\\Anaconda3\\lib\\site-packages\\sklearn\\linear_model\\_logistic.py:763: ConvergenceWarning: lbfgs failed to converge (status=1):\n",
      "STOP: TOTAL NO. of ITERATIONS REACHED LIMIT.\n",
      "\n",
      "Increase the number of iterations (max_iter) or scale the data as shown in:\n",
      "    https://scikit-learn.org/stable/modules/preprocessing.html\n",
      "Please also refer to the documentation for alternative solver options:\n",
      "    https://scikit-learn.org/stable/modules/linear_model.html#logistic-regression\n",
      "  n_iter_i = _check_optimize_result(\n"
     ]
    }
   ],
   "source": [
    "reg=linear_model.LogisticRegression()\n",
    "reg.fit(x_train,y_train)\n",
    "y_pred=reg.predict(x_train)\n",
    "print(\"accuracy: \"+ str(reg.score(x_train,y_train)*100) + \"%\")"
   ]
  },
  {
   "cell_type": "code",
   "execution_count": 123,
   "id": "604933c7",
   "metadata": {},
   "outputs": [],
   "source": [
    "# Confusion matrix."
   ]
  },
  {
   "cell_type": "code",
   "execution_count": 66,
   "id": "7257ed15",
   "metadata": {},
   "outputs": [
    {
     "data": {
      "text/plain": [
       "array([[508349,      3],\n",
       "       [   647,     10]], dtype=int64)"
      ]
     },
     "execution_count": 66,
     "metadata": {},
     "output_type": "execute_result"
    }
   ],
   "source": [
    "cm = metrics.confusion_matrix(y_train, y_pred)\n",
    "cm"
   ]
  },
  {
   "cell_type": "code",
   "execution_count": 124,
   "id": "1ce86360",
   "metadata": {},
   "outputs": [],
   "source": [
    "# Visualizing the confusion matrix."
   ]
  },
  {
   "cell_type": "code",
   "execution_count": 67,
   "id": "39ed1dc3",
   "metadata": {},
   "outputs": [
    {
     "data": {
      "image/png": "[encoded data removed]",
      "text/plain": [
       "<Figure size 648x648 with 2 Axes>"
      ]
     },
     "metadata": {
      "needs_background": "light"
     },
     "output_type": "display_data"
    }
   ],
   "source": [
    "plt.figure(figsize=(9,9))\n",
    "sns.heatmap(cm, annot=True, fmt=\".3f\", linewidths=.5, square = True, cmap = 'Blues_r');\n",
    "plt.ylabel('Actual label');\n",
    "plt.xlabel('Predicted label');\n",
    "all_sample_title = 'Accuracy Score: {0}'.format(reg.score(x_train,y_train))\n",
    "plt.title(all_sample_title, size = 15);"
   ]
  },
  {
   "cell_type": "code",
   "execution_count": 68,
   "id": "c228f262",
   "metadata": {},
   "outputs": [
    {
     "name": "stdout",
     "output_type": "stream",
     "text": [
      "Accuracy: 0.9987230088269559\n",
      "Precision: 0.7692307692307693\n",
      "Recall: 0.015220700152207\n",
      "F1 Score: 0.9981096948605576\n"
     ]
    }
   ],
   "source": [
    "print(\"Accuracy:\",metrics.accuracy_score(y_train, y_pred))\n",
    "print(\"Precision:\",metrics.precision_score(y_train, y_pred))\n",
    "print(\"Recall:\",metrics.recall_score(y_train, y_pred))\n",
    "print(\"F1 Score:\",metrics.f1_score(y_train, y_pred,average=\"weighted\"))"
   ]
  },
  {
   "cell_type": "code",
   "execution_count": 69,
   "id": "4d7dc44d",
   "metadata": {},
   "outputs": [],
   "source": [
    "# Test data"
   ]
  },
  {
   "cell_type": "code",
   "execution_count": 70,
   "id": "e3e43bd0",
   "metadata": {},
   "outputs": [
    {
     "name": "stdout",
     "output_type": "stream",
     "text": [
      "accuracy: 99.87269455337005%\n"
     ]
    }
   ],
   "source": [
    "y_pred_test=reg.predict(x_test)\n",
    "print(\"accuracy: \"+ str(reg.score(x_test,y_test)*100) + \"%\")"
   ]
  },
  {
   "cell_type": "code",
   "execution_count": 71,
   "id": "71535f83",
   "metadata": {},
   "outputs": [
    {
     "data": {
      "text/plain": [
       "array([[127089,      0],\n",
       "       [   162,      2]], dtype=int64)"
      ]
     },
     "execution_count": 71,
     "metadata": {},
     "output_type": "execute_result"
    }
   ],
   "source": [
    "cm_test = metrics.confusion_matrix(y_test, y_pred_test)\n",
    "cm_test"
   ]
  },
  {
   "cell_type": "code",
   "execution_count": 72,
   "id": "a7711adb",
   "metadata": {},
   "outputs": [
    {
     "data": {
      "image/png": "[encoded data removed]",
      "text/plain": [
       "<Figure size 648x648 with 2 Axes>"
      ]
     },
     "metadata": {
      "needs_background": "light"
     },
     "output_type": "display_data"
    }
   ],
   "source": [
    "plt.figure(figsize=(9,9))\n",
    "sns.heatmap(cm_test, annot=True, fmt=\".3f\", linewidths=.5, square = True, cmap = 'Blues_r');\n",
    "plt.ylabel('Actual label');\n",
    "plt.xlabel('Predicted label');\n",
    "all_sample_title = 'Accuracy Score: {0}'.format(reg.score(x_test,y_test))\n",
    "plt.title(all_sample_title, size = 15);"
   ]
  },
  {
   "cell_type": "code",
   "execution_count": 73,
   "id": "20bd3801",
   "metadata": {},
   "outputs": [
    {
     "name": "stdout",
     "output_type": "stream",
     "text": [
      "Accuracy: 0.9987269455337006\n",
      "Precision: 1.0\n",
      "Recall: 0.012195121951219513\n",
      "F1 Score: 0.9981061617375276\n"
     ]
    }
   ],
   "source": [
    "print(\"Accuracy:\",metrics.accuracy_score(y_test, y_pred_test))\n",
    "print(\"Precision:\",metrics.precision_score(y_test, y_pred_test))\n",
    "print(\"Recall:\",metrics.recall_score(y_test, y_pred_test))\n",
    "print(\"F1 Score:\",metrics.f1_score(y_test, y_pred_test,average=\"weighted\"))"
   ]
  },
  {
   "cell_type": "code",
   "execution_count": null,
   "id": "9e9180da",
   "metadata": {},
   "outputs": [],
   "source": [
    "# We can clearly see that the above model with the imbalanced data is not good. The accuracy might be 99.8%, but the\n",
    "# Recall is only 1%."
   ]
  },
  {
   "cell_type": "code",
   "execution_count": 125,
   "id": "84ee29ec",
   "metadata": {},
   "outputs": [],
   "source": [
    "# The above model failed."
   ]
  },
  {
   "cell_type": "code",
   "execution_count": null,
   "id": "1f02e56e",
   "metadata": {},
   "outputs": [],
   "source": []
  },
  {
   "cell_type": "code",
   "execution_count": 74,
   "id": "8d830a4d",
   "metadata": {},
   "outputs": [],
   "source": [
    "# Now, we will use synthetic oversampling to balance the target data imbalance.\n",
    "\n",
    "# Using SMOTE-EEN on the data to oversample and then undersample"
   ]
  },
  {
   "cell_type": "code",
   "execution_count": null,
   "id": "a40f758a",
   "metadata": {},
   "outputs": [],
   "source": [
    "# Importing library for SMOTE-ENN"
   ]
  },
  {
   "cell_type": "code",
   "execution_count": 75,
   "id": "f3598827",
   "metadata": {},
   "outputs": [],
   "source": [
    "from imblearn.combine import SMOTEENN"
   ]
  },
  {
   "cell_type": "code",
   "execution_count": 76,
   "id": "5c1f7381",
   "metadata": {},
   "outputs": [],
   "source": [
    "smt = SMOTEENN(random_state=42,sampling_strategy='all')"
   ]
  },
  {
   "cell_type": "code",
   "execution_count": 77,
   "id": "93dc93e7",
   "metadata": {},
   "outputs": [],
   "source": [
    "x1, y1 = smt.fit_resample(x, y)"
   ]
  },
  {
   "cell_type": "code",
   "execution_count": 78,
   "id": "8c9d5b14",
   "metadata": {},
   "outputs": [
    {
     "data": {
      "text/plain": [
       "(1255202, 8)"
      ]
     },
     "execution_count": 78,
     "metadata": {},
     "output_type": "execute_result"
    }
   ],
   "source": [
    "x1.shape"
   ]
  },
  {
   "cell_type": "code",
   "execution_count": null,
   "id": "7eab9b0c",
   "metadata": {},
   "outputs": [],
   "source": [
    "# Above is the resampled data."
   ]
  },
  {
   "cell_type": "code",
   "execution_count": null,
   "id": "f5500393",
   "metadata": {},
   "outputs": [],
   "source": []
  },
  {
   "cell_type": "code",
   "execution_count": 79,
   "id": "13130f9b",
   "metadata": {},
   "outputs": [],
   "source": [
    "# Logistic Regression on SMOTE resampled data."
   ]
  },
  {
   "cell_type": "code",
   "execution_count": 80,
   "id": "c5b0eeab",
   "metadata": {},
   "outputs": [],
   "source": [
    "x_train_smt,x_test_smt,y_train_smt,y_test_smt=train_test_split(x1,y1,random_state=0,test_size=0.2,stratify=y1)"
   ]
  },
  {
   "cell_type": "code",
   "execution_count": null,
   "id": "01fc2e51",
   "metadata": {},
   "outputs": [],
   "source": [
    "# Fitting the train data on logistic regression model."
   ]
  },
  {
   "cell_type": "code",
   "execution_count": 81,
   "id": "0bd9861b",
   "metadata": {},
   "outputs": [
    {
     "name": "stdout",
     "output_type": "stream",
     "text": [
      "accuracy: 83.80090443663914%\n"
     ]
    }
   ],
   "source": [
    "reg_smt=linear_model.LogisticRegression()\n",
    "reg_smt.fit(x_train_smt,y_train_smt)\n",
    "y_pred_smt=reg_smt.predict(x_train_smt)\n",
    "print(\"accuracy: \"+ str(reg_smt.score(x_train_smt,y_train_smt)*100) + \"%\")"
   ]
  },
  {
   "cell_type": "code",
   "execution_count": 82,
   "id": "4fa0da8a",
   "metadata": {},
   "outputs": [
    {
     "data": {
      "text/plain": [
       "array([[390541, 107432],\n",
       "       [ 55233, 450955]], dtype=int64)"
      ]
     },
     "execution_count": 82,
     "metadata": {},
     "output_type": "execute_result"
    }
   ],
   "source": [
    "cm_smt = metrics.confusion_matrix(y_train_smt, y_pred_smt)\n",
    "cm_smt"
   ]
  },
  {
   "cell_type": "code",
   "execution_count": 83,
   "id": "6754efea",
   "metadata": {},
   "outputs": [
    {
     "data": {
      "image/png": "[encoded data removed]",
      "text/plain": [
       "<Figure size 648x648 with 2 Axes>"
      ]
     },
     "metadata": {
      "needs_background": "light"
     },
     "output_type": "display_data"
    }
   ],
   "source": [
    "plt.figure(figsize=(9,9))\n",
    "sns.heatmap(cm_smt, annot=True, fmt=\".3f\", linewidths=.5, square = True, cmap = 'Blues_r');\n",
    "plt.ylabel('Actual label');\n",
    "plt.xlabel('Predicted label');\n",
    "all_sample_title = 'Accuracy Score: {0}'.format(reg_smt.score(x_train_smt,y_train_smt))\n",
    "plt.title(all_sample_title, size = 15);"
   ]
  },
  {
   "cell_type": "code",
   "execution_count": 84,
   "id": "4ff166d8",
   "metadata": {},
   "outputs": [
    {
     "name": "stdout",
     "output_type": "stream",
     "text": [
      "Accuracy: 0.8380090443663915\n",
      "Precision: 0.8076029706995328\n",
      "Recall: 0.8908844144863174\n",
      "F1 Score: 0.8375005821402794\n"
     ]
    }
   ],
   "source": [
    "print(\"Accuracy:\",metrics.accuracy_score(y_train_smt, y_pred_smt))\n",
    "print(\"Precision:\",metrics.precision_score(y_train_smt, y_pred_smt))\n",
    "print(\"Recall:\",metrics.recall_score(y_train_smt, y_pred_smt))\n",
    "print(\"F1 Score:\",metrics.f1_score(y_train_smt, y_pred_smt,average=\"weighted\"))"
   ]
  },
  {
   "cell_type": "code",
   "execution_count": 85,
   "id": "73ade810",
   "metadata": {},
   "outputs": [],
   "source": [
    "# Prediction on Test Data"
   ]
  },
  {
   "cell_type": "code",
   "execution_count": 86,
   "id": "2d4e5917",
   "metadata": {},
   "outputs": [
    {
     "name": "stdout",
     "output_type": "stream",
     "text": [
      "accuracy: 83.71142562370291%\n"
     ]
    }
   ],
   "source": [
    "y_pred_smt_test=reg_smt.predict(x_test_smt)\n",
    "print(\"accuracy: \"+ str(reg_smt.score(x_test_smt,y_test_smt)*100) + \"%\")"
   ]
  },
  {
   "cell_type": "code",
   "execution_count": 87,
   "id": "07302ec5",
   "metadata": {},
   "outputs": [
    {
     "data": {
      "text/plain": [
       "array([[ 97511,  26982],\n",
       "       [ 13909, 112639]], dtype=int64)"
      ]
     },
     "execution_count": 87,
     "metadata": {},
     "output_type": "execute_result"
    }
   ],
   "source": [
    "cm_smt_test = metrics.confusion_matrix(y_test_smt, y_pred_smt_test)\n",
    "cm_smt_test"
   ]
  },
  {
   "cell_type": "code",
   "execution_count": 88,
   "id": "1b07f13e",
   "metadata": {},
   "outputs": [
    {
     "data": {
      "image/png": "[encoded data removed]",
      "text/plain": [
       "<Figure size 648x648 with 2 Axes>"
      ]
     },
     "metadata": {
      "needs_background": "light"
     },
     "output_type": "display_data"
    }
   ],
   "source": [
    "plt.figure(figsize=(9,9))\n",
    "sns.heatmap(cm_smt_test, annot=True, fmt=\".3f\", linewidths=.5, square = True, cmap = 'Blues_r');\n",
    "plt.ylabel('Actual label');\n",
    "plt.xlabel('Predicted label');\n",
    "all_sample_title = 'Accuracy Score: {0}'.format(reg_smt.score(x_test_smt,y_test_smt))\n",
    "plt.title(all_sample_title, size = 15);"
   ]
  },
  {
   "cell_type": "code",
   "execution_count": 89,
   "id": "c561d6d9",
   "metadata": {},
   "outputs": [
    {
     "name": "stdout",
     "output_type": "stream",
     "text": [
      "Accuracy: 0.8371142562370291\n",
      "Precision: 0.8067482685269408\n",
      "Recall: 0.8900891361380662\n",
      "F1 Score: 0.8366012407145013\n"
     ]
    }
   ],
   "source": [
    "print(\"Accuracy:\",metrics.accuracy_score(y_test_smt, y_pred_smt_test))\n",
    "print(\"Precision:\",metrics.precision_score(y_test_smt, y_pred_smt_test))\n",
    "print(\"Recall:\",metrics.recall_score(y_test_smt, y_pred_smt_test))\n",
    "print(\"F1 Score:\",metrics.f1_score(y_test_smt, y_pred_smt_test,average=\"weighted\"))"
   ]
  },
  {
   "cell_type": "code",
   "execution_count": null,
   "id": "11dd191b",
   "metadata": {},
   "outputs": [],
   "source": [
    "# The accuracy has fallen a bit to 83.1%, but the recall has improved greatly to 89%, which was our target.\n",
    "# This model will capture 89.1% of all fraudlent transactions, which is a significant improvement.\n"
   ]
  },
  {
   "cell_type": "code",
   "execution_count": null,
   "id": "0034ca09",
   "metadata": {},
   "outputs": [],
   "source": []
  },
  {
   "cell_type": "markdown",
   "id": "1a4a85a3",
   "metadata": {},
   "source": [
    "# Random Forest Classification"
   ]
  },
  {
   "cell_type": "code",
   "execution_count": null,
   "id": "b87424c1",
   "metadata": {},
   "outputs": [],
   "source": [
    "# Outlliers do not affect Decision Trees, hence I'll be using non-scaled data."
   ]
  },
  {
   "cell_type": "code",
   "execution_count": 90,
   "id": "31aa940b",
   "metadata": {},
   "outputs": [],
   "source": [
    "y=df_samp_reg1.isFraud\n",
    "x=df_samp_reg1.drop('isFraud',axis=1)"
   ]
  },
  {
   "cell_type": "code",
   "execution_count": null,
   "id": "620cf4ee",
   "metadata": {},
   "outputs": [],
   "source": [
    "# Splitting the variables into train and test data.\n",
    "\n",
    "# stratify=target, so that the target variable is split according to weight."
   ]
  },
  {
   "cell_type": "code",
   "execution_count": 91,
   "id": "558bd89e",
   "metadata": {},
   "outputs": [],
   "source": [
    "x_train,x_test,y_train,y_test=train_test_split(x,y,random_state=0,test_size=0.2,stratify=y)"
   ]
  },
  {
   "cell_type": "code",
   "execution_count": 92,
   "id": "54ce61e4",
   "metadata": {},
   "outputs": [],
   "source": [
    "from sklearn.linear_model import LogisticRegression\n",
    "from sklearn.metrics import accuracy_score\n",
    "from sklearn.linear_model import LinearRegression\n",
    "from sklearn.model_selection import train_test_split\n",
    "from sklearn.metrics import r2_score\n",
    "from sklearn import linear_model\n",
    "from sklearn import metrics"
   ]
  },
  {
   "cell_type": "code",
   "execution_count": 93,
   "id": "00d046ac",
   "metadata": {},
   "outputs": [],
   "source": [
    "# Importing libraries necessary for Random Forest Classifier"
   ]
  },
  {
   "cell_type": "code",
   "execution_count": 94,
   "id": "730971a6",
   "metadata": {},
   "outputs": [],
   "source": [
    "from sklearn.ensemble import RandomForestClassifier\n",
    "from sklearn.metrics import accuracy_score"
   ]
  },
  {
   "cell_type": "code",
   "execution_count": 95,
   "id": "82bf0a67",
   "metadata": {},
   "outputs": [],
   "source": [
    "# Fitting the model with data before SMOTE oversampling and scaling."
   ]
  },
  {
   "cell_type": "code",
   "execution_count": 96,
   "id": "63b37626",
   "metadata": {},
   "outputs": [
    {
     "name": "stdout",
     "output_type": "stream",
     "text": [
      "Accuracy Score: 0.9999960707963906\n"
     ]
    }
   ],
   "source": [
    "model = RandomForestClassifier(random_state=1)\n",
    "model.fit(x_train,y_train)\n",
    "y_pred1 = model.predict(x_train)\n",
    "\n",
    "print(\"Accuracy Score:\",accuracy_score(y_train,y_pred1))"
   ]
  },
  {
   "cell_type": "code",
   "execution_count": null,
   "id": "3185c1da",
   "metadata": {},
   "outputs": [],
   "source": [
    "# Confusion matrix."
   ]
  },
  {
   "cell_type": "code",
   "execution_count": 97,
   "id": "ce6031a6",
   "metadata": {},
   "outputs": [
    {
     "data": {
      "text/plain": [
       "array([[508352,      0],\n",
       "       [     2,    655]], dtype=int64)"
      ]
     },
     "execution_count": 97,
     "metadata": {},
     "output_type": "execute_result"
    }
   ],
   "source": [
    "cm1 = metrics.confusion_matrix(y_train, y_pred1)\n",
    "cm1"
   ]
  },
  {
   "cell_type": "code",
   "execution_count": null,
   "id": "ba930beb",
   "metadata": {},
   "outputs": [],
   "source": [
    "# Visualizing the confusion matrix."
   ]
  },
  {
   "cell_type": "code",
   "execution_count": 98,
   "id": "34e97836",
   "metadata": {},
   "outputs": [
    {
     "data": {
      "image/png": "[encoded data removed]",
      "text/plain": [
       "<Figure size 648x648 with 2 Axes>"
      ]
     },
     "metadata": {
      "needs_background": "light"
     },
     "output_type": "display_data"
    }
   ],
   "source": [
    "plt.figure(figsize=(9,9))\n",
    "sns.heatmap(cm1, annot=True, fmt=\".3f\", linewidths=.5, square = True, cmap = 'Blues_r');\n",
    "plt.ylabel('Actual label');\n",
    "plt.xlabel('Predicted label');\n",
    "all_sample_title = 'Accuracy Score: {0}'.format(model.score(x_train,y_train))\n",
    "plt.title(all_sample_title, size = 15);"
   ]
  },
  {
   "cell_type": "code",
   "execution_count": 99,
   "id": "bf478ebb",
   "metadata": {},
   "outputs": [
    {
     "name": "stdout",
     "output_type": "stream",
     "text": [
      "Accuracy: 0.9999960707963906\n",
      "Precision: 1.0\n",
      "Recall: 0.9969558599695586\n",
      "F1 Score: 0.9999960678054356\n"
     ]
    }
   ],
   "source": [
    "print(\"Accuracy:\",metrics.accuracy_score(y_train, y_pred1))\n",
    "print(\"Precision:\",metrics.precision_score(y_train, y_pred1))\n",
    "print(\"Recall:\",metrics.recall_score(y_train, y_pred1))\n",
    "print(\"F1 Score:\",metrics.f1_score(y_train, y_pred1,average=\"weighted\"))"
   ]
  },
  {
   "cell_type": "code",
   "execution_count": 100,
   "id": "86e9bf79",
   "metadata": {},
   "outputs": [],
   "source": [
    "# Prediction on Test Data"
   ]
  },
  {
   "cell_type": "code",
   "execution_count": 101,
   "id": "8cb3763c",
   "metadata": {},
   "outputs": [
    {
     "name": "stdout",
     "output_type": "stream",
     "text": [
      "Accuracy Score: 0.999143438661564\n"
     ]
    }
   ],
   "source": [
    "y_pred1_test = model.predict(x_test)\n",
    "\n",
    "print(\"Accuracy Score:\",accuracy_score(y_test,y_pred1_test))"
   ]
  },
  {
   "cell_type": "code",
   "execution_count": 102,
   "id": "81738af0",
   "metadata": {},
   "outputs": [
    {
     "data": {
      "text/plain": [
       "array([[127080,      9],\n",
       "       [   100,     64]], dtype=int64)"
      ]
     },
     "execution_count": 102,
     "metadata": {},
     "output_type": "execute_result"
    }
   ],
   "source": [
    "cm1_test = metrics.confusion_matrix(y_test, y_pred1_test)\n",
    "cm1_test"
   ]
  },
  {
   "cell_type": "code",
   "execution_count": 103,
   "id": "b871af9f",
   "metadata": {},
   "outputs": [
    {
     "data": {
      "image/png": "[encoded data removed]",
      "text/plain": [
       "<Figure size 648x648 with 2 Axes>"
      ]
     },
     "metadata": {
      "needs_background": "light"
     },
     "output_type": "display_data"
    }
   ],
   "source": [
    "plt.figure(figsize=(9,9))\n",
    "sns.heatmap(cm1_test, annot=True, fmt=\".3f\", linewidths=.5, square = True, cmap = 'Blues_r');\n",
    "plt.ylabel('Actual label');\n",
    "plt.xlabel('Predicted label');\n",
    "all_sample_title = 'Accuracy Score: {0}'.format(model.score(x_test,y_test))\n",
    "plt.title(all_sample_title, size = 15);"
   ]
  },
  {
   "cell_type": "code",
   "execution_count": 104,
   "id": "c13b0598",
   "metadata": {},
   "outputs": [
    {
     "name": "stdout",
     "output_type": "stream",
     "text": [
      "Accuracy: 0.999143438661564\n",
      "Precision: 0.8767123287671232\n",
      "Recall: 0.3902439024390244\n",
      "F1 Score: 0.9989791466181246\n"
     ]
    }
   ],
   "source": [
    "print(\"Accuracy:\",metrics.accuracy_score(y_test, y_pred1_test))\n",
    "print(\"Precision:\",metrics.precision_score(y_test, y_pred1_test))\n",
    "print(\"Recall:\",metrics.recall_score(y_test, y_pred1_test))\n",
    "print(\"F1 Score:\",metrics.f1_score(y_test, y_pred1_test,average=\"weighted\"))"
   ]
  },
  {
   "cell_type": "code",
   "execution_count": null,
   "id": "18683636",
   "metadata": {},
   "outputs": [],
   "source": [
    "# We can clearly see that the above model with the imbalanced data is not good. The accuracy might be 99.9%, but the\n",
    "# Recall is only 39%."
   ]
  },
  {
   "cell_type": "code",
   "execution_count": null,
   "id": "30379b73",
   "metadata": {},
   "outputs": [],
   "source": []
  },
  {
   "cell_type": "code",
   "execution_count": 105,
   "id": "8c3f220b",
   "metadata": {},
   "outputs": [],
   "source": [
    "# Using SMOTE-ENN on non-scaled data for Random Forest"
   ]
  },
  {
   "cell_type": "code",
   "execution_count": 106,
   "id": "b40d567e",
   "metadata": {},
   "outputs": [],
   "source": [
    "from imblearn.combine import SMOTEENN"
   ]
  },
  {
   "cell_type": "code",
   "execution_count": 107,
   "id": "b813eb5b",
   "metadata": {},
   "outputs": [],
   "source": [
    "smt = SMOTEENN(random_state=42,sampling_strategy='all')"
   ]
  },
  {
   "cell_type": "code",
   "execution_count": 108,
   "id": "e33f1e52",
   "metadata": {},
   "outputs": [],
   "source": [
    "x1, y1 = smt.fit_resample(x, y)"
   ]
  },
  {
   "cell_type": "code",
   "execution_count": 109,
   "id": "bb231916",
   "metadata": {},
   "outputs": [
    {
     "data": {
      "text/plain": [
       "(1161650, 8)"
      ]
     },
     "execution_count": 109,
     "metadata": {},
     "output_type": "execute_result"
    }
   ],
   "source": [
    "x1.shape"
   ]
  },
  {
   "cell_type": "code",
   "execution_count": 110,
   "id": "84af70e1",
   "metadata": {},
   "outputs": [],
   "source": [
    "# After SMOTEENN"
   ]
  },
  {
   "cell_type": "code",
   "execution_count": 111,
   "id": "e7a272b4",
   "metadata": {},
   "outputs": [],
   "source": [
    "x_train_smt,x_test_smt,y_train_smt,y_test_smt=train_test_split(x1,y1,random_state=0,test_size=0.2,stratify=y1)"
   ]
  },
  {
   "cell_type": "code",
   "execution_count": null,
   "id": "8724a7df",
   "metadata": {},
   "outputs": [],
   "source": []
  },
  {
   "cell_type": "code",
   "execution_count": 113,
   "id": "5eb69d7b",
   "metadata": {},
   "outputs": [],
   "source": [
    "# Random Forest Classifier on SMOTE resampled data."
   ]
  },
  {
   "cell_type": "code",
   "execution_count": 114,
   "id": "e73eecb1",
   "metadata": {},
   "outputs": [
    {
     "name": "stdout",
     "output_type": "stream",
     "text": [
      "accuracy: 99.99989239443894%\n"
     ]
    }
   ],
   "source": [
    "model_smt = RandomForestClassifier(random_state=1)\n",
    "model_smt.fit(x_train_smt,y_train_smt)\n",
    "y_pred_smt=model_smt.predict(x_train_smt)\n",
    "print(\"accuracy: \"+ str(model_smt.score(x_train_smt,y_train_smt)*100) + \"%\")"
   ]
  },
  {
   "cell_type": "code",
   "execution_count": 115,
   "id": "140d97aa",
   "metadata": {},
   "outputs": [
    {
     "data": {
      "text/plain": [
       "array([[458305,      1],\n",
       "       [     0, 471014]], dtype=int64)"
      ]
     },
     "execution_count": 115,
     "metadata": {},
     "output_type": "execute_result"
    }
   ],
   "source": [
    "cm_smt = metrics.confusion_matrix(y_train_smt, y_pred_smt)\n",
    "cm_smt"
   ]
  },
  {
   "cell_type": "code",
   "execution_count": 116,
   "id": "7c57caef",
   "metadata": {},
   "outputs": [
    {
     "data": {
      "image/png": "[encoded data removed]",
      "text/plain": [
       "<Figure size 648x648 with 2 Axes>"
      ]
     },
     "metadata": {
      "needs_background": "light"
     },
     "output_type": "display_data"
    }
   ],
   "source": [
    "plt.figure(figsize=(9,9))\n",
    "sns.heatmap(cm_smt, annot=True, fmt=\".3f\", linewidths=.5, square = True, cmap = 'Blues_r');\n",
    "plt.ylabel('Actual label');\n",
    "plt.xlabel('Predicted label');\n",
    "all_sample_title = 'Accuracy Score: {0}'.format(model_smt.score(x_train_smt,y_train_smt))\n",
    "plt.title(all_sample_title, size = 15);"
   ]
  },
  {
   "cell_type": "code",
   "execution_count": 117,
   "id": "3ff8b7be",
   "metadata": {},
   "outputs": [
    {
     "name": "stdout",
     "output_type": "stream",
     "text": [
      "Accuracy: 0.9999989239443895\n",
      "Precision: 0.9999978769253633\n",
      "Recall: 1.0\n",
      "F1 Score: 0.9999989239443735\n"
     ]
    }
   ],
   "source": [
    "print(\"Accuracy:\",metrics.accuracy_score(y_train_smt, y_pred_smt))\n",
    "print(\"Precision:\",metrics.precision_score(y_train_smt, y_pred_smt))\n",
    "print(\"Recall:\",metrics.recall_score(y_train_smt, y_pred_smt))\n",
    "print(\"F1 Score:\",metrics.f1_score(y_train_smt, y_pred_smt,average=\"weighted\"))"
   ]
  },
  {
   "cell_type": "code",
   "execution_count": 118,
   "id": "792ca717",
   "metadata": {},
   "outputs": [],
   "source": [
    "# Predicting on Test Data"
   ]
  },
  {
   "cell_type": "code",
   "execution_count": 119,
   "id": "5c7e166d",
   "metadata": {},
   "outputs": [
    {
     "name": "stdout",
     "output_type": "stream",
     "text": [
      "accuracy: 99.67546162785693%\n"
     ]
    }
   ],
   "source": [
    "y_pred_smt_test=model_smt.predict(x_test_smt)\n",
    "print(\"accuracy: \"+ str(model_smt.score(x_test_smt,y_test_smt)*100) + \"%\")"
   ]
  },
  {
   "cell_type": "code",
   "execution_count": 120,
   "id": "1966cd43",
   "metadata": {},
   "outputs": [
    {
     "data": {
      "text/plain": [
       "array([[113959,    617],\n",
       "       [   137, 117617]], dtype=int64)"
      ]
     },
     "execution_count": 120,
     "metadata": {},
     "output_type": "execute_result"
    }
   ],
   "source": [
    "cm_smt_test = metrics.confusion_matrix(y_test_smt, y_pred_smt_test)\n",
    "cm_smt_test"
   ]
  },
  {
   "cell_type": "code",
   "execution_count": 121,
   "id": "aa924f19",
   "metadata": {},
   "outputs": [
    {
     "data": {
      "image/png": "[encoded data removed]",
      "text/plain": [
       "<Figure size 648x648 with 2 Axes>"
      ]
     },
     "metadata": {
      "needs_background": "light"
     },
     "output_type": "display_data"
    }
   ],
   "source": [
    "plt.figure(figsize=(9,9))\n",
    "sns.heatmap(cm_smt_test, annot=True, fmt=\".3f\", linewidths=.5, square = True, cmap = 'Blues_r');\n",
    "plt.ylabel('Actual label');\n",
    "plt.xlabel('Predicted label');\n",
    "all_sample_title = 'Accuracy Score: {0}'.format(model_smt.score(x_test_smt,y_test_smt))\n",
    "plt.title(all_sample_title, size = 15);"
   ]
  },
  {
   "cell_type": "code",
   "execution_count": 122,
   "id": "38564a24",
   "metadata": {},
   "outputs": [
    {
     "name": "stdout",
     "output_type": "stream",
     "text": [
      "Accuracy: 0.9967546162785693\n",
      "Precision: 0.9947815349222728\n",
      "Recall: 0.9988365575691697\n",
      "F1 Score: 0.9967545106824198\n"
     ]
    }
   ],
   "source": [
    "print(\"Accuracy:\",metrics.accuracy_score(y_test_smt, y_pred_smt_test))\n",
    "print(\"Precision:\",metrics.precision_score(y_test_smt, y_pred_smt_test))\n",
    "print(\"Recall:\",metrics.recall_score(y_test_smt, y_pred_smt_test))\n",
    "print(\"F1 Score:\",metrics.f1_score(y_test_smt, y_pred_smt_test,average=\"weighted\"))"
   ]
  },
  {
   "cell_type": "code",
   "execution_count": 126,
   "id": "9a49747b",
   "metadata": {},
   "outputs": [],
   "source": [
    "# Accuracy is 99.6% and Recall is 99.88%. F1 Score is 99.6%.\n",
    "\n",
    "# The scores of validation on the test data prove that the trained model predicts the unseen data correctly.\n",
    "# All scores for this test data are very close to the scores of the train data.\n",
    "\n",
    "# This model will capture 99.88% of all fraudlent transactions."
   ]
  },
  {
   "cell_type": "code",
   "execution_count": null,
   "id": "d636244f",
   "metadata": {},
   "outputs": [],
   "source": []
  },
  {
   "cell_type": "code",
   "execution_count": 127,
   "id": "5dc2e35f",
   "metadata": {},
   "outputs": [],
   "source": [
    "# 1) No null values, outliers mitigated using RobustScaler, dropped 2 multi-collinear columns.\n",
    "\n",
    "# To remove multi-collinearity, Dimensionality Reduction techniques like Principal Component Analysis can also be implemented."
   ]
  },
  {
   "cell_type": "code",
   "execution_count": null,
   "id": "258f419d",
   "metadata": {},
   "outputs": [],
   "source": [
    "# 2) In the classification problems like Fraud detection, there is always target imbalance. In this particular dataset, the\n",
    "# Non-fradulent to fradulent cases were 99.87:0.13.\n",
    "# A mere 0.13% transactions were actually fraudlent.\n",
    "\n",
    "# In such cases, accuracy of the model is irrelevant, as a model like logistic regression will be biased towards the\n",
    "# majority class and will always predict the outcome as majority class.\n",
    "\n",
    "# Hence, here, Recall plays an important role. Here, False Negatives are the transactions that were fraudlent, but were \n",
    "# predicted as non-fradulent. Hence, if the recall is higher, more transactions will be caught which were predicted as \n",
    "# non-fraudlent, but were actually fraudlent.\n",
    "\n",
    "# Detecting and capturing a fraudlent transaction is the priority, and hence even if more non-fraudlent transactions are \n",
    "# classified as fraudlent, it is justifiable, as long as fraudlent transactions are correctly detected.\n",
    "\n",
    "# The number of False positives and False negatives can be reduced further, with hyperparameter tuning, given more time to\n",
    "# work on the dataset. Whether a company wants to reduce these will depend on the cost justification, (whether the company is\n",
    "# willing to spend that extra cost for the marginal benefit), and the processing power.\n",
    "\n",
    "# (For example, I was unable to use techniques like SMOTE-EEN due to the lack of processing power on my local machine.\n",
    "# Even decision tree models take a lot of time and processing power to run, hence I have used logistic regression in this example.)\n",
    "\n",
    "# So, to solve the problem of target imbalance, I have used basic SMOTE technique to oversample the minority class, as to train\n",
    "# the logistic regression properly."
   ]
  },
  {
   "cell_type": "code",
   "execution_count": null,
   "id": "b1caef96",
   "metadata": {},
   "outputs": [],
   "source": [
    "# 3) There were not too many variables to begin with. The isFlaggedFradulent variable was irrelevant, as mentioned in my \n",
    "# notebook.\n",
    "\n",
    "# The nameOrg and nameDest columns were not relevant either. Also, to convert them to numerical data using One Hot Encoder or\n",
    "# other encoders like Label Encoder or Label Binarizer would not be feasible, as the machine learning algorithm would interpret \n",
    "# the data incorrectly, giving importance to a higher value, for (ex. 15632) greater importance, than a lower value (ex. 745) \n",
    "# lower importance, when we know that there is no such relationship between the categories of those columns.\n",
    "# Hence, those columns were dropped too.\n",
    "\n",
    "# As mentioned in the notebook with reason, 2 multi-collinear columns were dropped. With enough processing power and time,\n",
    "# techniques like PCA can be implemented.\n",
    "\n",
    "# All other features were selected."
   ]
  },
  {
   "cell_type": "code",
   "execution_count": 128,
   "id": "ec37b7ca",
   "metadata": {},
   "outputs": [],
   "source": [
    "# 4) The accuracy and recall are a good indicator that the model is excellent, at predicting fraudlent transactions."
   ]
  },
  {
   "cell_type": "code",
   "execution_count": 129,
   "id": "f65a96f7",
   "metadata": {},
   "outputs": [],
   "source": [
    "# 5) The key factors that predict fraudlent transactions are Payment type and amount.\n",
    "# A large portion of the fraudlent transaction are concentrated below $ 200,000.\n",
    "# Fraudlent transactions were only found in CASH_OUT and PAYMENT type of transactions."
   ]
  },
  {
   "cell_type": "code",
   "execution_count": 130,
   "id": "6ad2839d",
   "metadata": {},
   "outputs": [],
   "source": [
    "# 6) Yes, the factors make sense, as per my opinion.\n",
    "# For example, stolen credit/debit cards can are used to make purchases and payments, which could be a contributing factor \n",
    "# towards those specific two types having all the fraudlent transactions in this dataset."
   ]
  },
  {
   "cell_type": "code",
   "execution_count": 131,
   "id": "41fdd6d0",
   "metadata": {},
   "outputs": [],
   "source": [
    "# 7) Building and maintaining AI and ML models enhanced by Reinforcement learning.\n",
    "# More safety checks in place before approving a transaction.\n",
    "# Assessing credit scores and risk profiles before approving credit lines to customers.\n",
    "# Spending analysis of individuals. For example, if a person has never used a card for international transaction and there\n",
    "# are sudden international charges to their card, they could be flagged as 'might be fraudlent'."
   ]
  },
  {
   "cell_type": "code",
   "execution_count": 132,
   "id": "d907d955",
   "metadata": {},
   "outputs": [],
   "source": [
    "# 8) Determination of AI and ML models can be done with real-time data, matched with the AI/ML's predicted results.\n",
    "# Checks like credit worthiness can be done manually by humans.\n",
    "# Systems can be built to automate the process to check discrepancies in spending analysis."
   ]
  },
  {
   "cell_type": "code",
   "execution_count": null,
   "id": "4ee961c8",
   "metadata": {},
   "outputs": [],
   "source": []
  }
 ],
 "metadata": {
  "hide_input": false,
  "kernelspec": {
   "display_name": "Python 3",
   "language": "python",
   "name": "python3"
  },
  "language_info": {
   "codemirror_mode": {
    "name": "ipython",
    "version": 3
   },
   "file_extension": ".py",
   "mimetype": "text/x-python",
   "name": "python",
   "nbconvert_exporter": "python",
   "pygments_lexer": "ipython3",
   "version": "3.8.8"
  },
  "toc": {
   "base_numbering": 1,
   "nav_menu": {},
   "number_sections": false,
   "sideBar": true,
   "skip_h1_title": false,
   "title_cell": "Table of Contents",
   "title_sidebar": "Contents",
   "toc_cell": false,
   "toc_position": {},
   "toc_section_display": true,
   "toc_window_display": false
  }
 },
 "nbformat": 4,
 "nbformat_minor": 5
}
