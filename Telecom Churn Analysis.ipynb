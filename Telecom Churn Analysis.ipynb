{
 "cells": [
  {
   "cell_type": "code",
   "execution_count": 1,
   "id": "0436770d",
   "metadata": {},
   "outputs": [],
   "source": [
    "# Importing necessary libraries"
   ]
  },
  {
   "cell_type": "code",
   "execution_count": 2,
   "id": "ba7edc68",
   "metadata": {},
   "outputs": [],
   "source": [
    "import numpy as np\n",
    "import pandas as pd\n",
    "import seaborn as sns\n",
    "import matplotlib.pyplot as plt\n",
    "import seaborn as sns"
   ]
  },
  {
   "cell_type": "code",
   "execution_count": 3,
   "id": "66ae2bfa",
   "metadata": {},
   "outputs": [],
   "source": [
    "# Reading data into a DataFrame from dataset stored on my Google Drive."
   ]
  },
  {
   "cell_type": "code",
   "execution_count": 4,
   "id": "1a2f1e71",
   "metadata": {},
   "outputs": [],
   "source": [
    "url='https://drive.google.com/file/d/1p7tkItKB5_bG740am0HKb5x0Ts44ONEj/view?usp=sharing'\n",
    "file_id=url.split('/')[-2]\n",
    "dwn_url='https://drive.google.com/uc?id=' + file_id\n",
    "telecom = pd.read_csv(dwn_url)"
   ]
  },
  {
   "cell_type": "code",
   "execution_count": 5,
   "id": "5099e939",
   "metadata": {},
   "outputs": [
    {
     "data": {
      "text/plain": [
       "(7043, 21)"
      ]
     },
     "execution_count": 5,
     "metadata": {},
     "output_type": "execute_result"
    }
   ],
   "source": [
    "telecom.shape"
   ]
  },
  {
   "cell_type": "code",
   "execution_count": 6,
   "id": "ce92b7b7",
   "metadata": {},
   "outputs": [],
   "source": [
    "# Contains 7043 rows and 21 columns"
   ]
  },
  {
   "cell_type": "code",
   "execution_count": 7,
   "id": "41e6cf80",
   "metadata": {},
   "outputs": [],
   "source": [
    "# Viewing the head and tail of the df to get a basic idea of the dataset."
   ]
  },
  {
   "cell_type": "code",
   "execution_count": 8,
   "id": "85b6943e",
   "metadata": {},
   "outputs": [
    {
     "data": {
      "text/html": [
       "<div>\n",
       "<style scoped>\n",
       "    .dataframe tbody tr th:only-of-type {\n",
       "        vertical-align: middle;\n",
       "    }\n",
       "\n",
       "    .dataframe tbody tr th {\n",
       "        vertical-align: top;\n",
       "    }\n",
       "\n",
       "    .dataframe thead th {\n",
       "        text-align: right;\n",
       "    }\n",
       "</style>\n",
       "<table border=\"1\" class=\"dataframe\">\n",
       "  <thead>\n",
       "    <tr style=\"text-align: right;\">\n",
       "      <th></th>\n",
       "      <th>customerID</th>\n",
       "      <th>gender</th>\n",
       "      <th>SeniorCitizen</th>\n",
       "      <th>Partner</th>\n",
       "      <th>Dependents</th>\n",
       "      <th>tenure</th>\n",
       "      <th>PhoneService</th>\n",
       "      <th>MultipleLines</th>\n",
       "      <th>InternetService</th>\n",
       "      <th>OnlineSecurity</th>\n",
       "      <th>...</th>\n",
       "      <th>DeviceProtection</th>\n",
       "      <th>TechSupport</th>\n",
       "      <th>StreamingTV</th>\n",
       "      <th>StreamingMovies</th>\n",
       "      <th>Contract</th>\n",
       "      <th>PaperlessBilling</th>\n",
       "      <th>PaymentMethod</th>\n",
       "      <th>MonthlyCharges</th>\n",
       "      <th>TotalCharges</th>\n",
       "      <th>Churn</th>\n",
       "    </tr>\n",
       "  </thead>\n",
       "  <tbody>\n",
       "    <tr>\n",
       "      <th>0</th>\n",
       "      <td>7590-VHVEG</td>\n",
       "      <td>Female</td>\n",
       "      <td>0</td>\n",
       "      <td>Yes</td>\n",
       "      <td>No</td>\n",
       "      <td>1</td>\n",
       "      <td>No</td>\n",
       "      <td>No phone service</td>\n",
       "      <td>DSL</td>\n",
       "      <td>No</td>\n",
       "      <td>...</td>\n",
       "      <td>No</td>\n",
       "      <td>No</td>\n",
       "      <td>No</td>\n",
       "      <td>No</td>\n",
       "      <td>Month-to-month</td>\n",
       "      <td>Yes</td>\n",
       "      <td>Electronic check</td>\n",
       "      <td>29.85</td>\n",
       "      <td>29.85</td>\n",
       "      <td>No</td>\n",
       "    </tr>\n",
       "    <tr>\n",
       "      <th>1</th>\n",
       "      <td>5575-GNVDE</td>\n",
       "      <td>Male</td>\n",
       "      <td>0</td>\n",
       "      <td>No</td>\n",
       "      <td>No</td>\n",
       "      <td>34</td>\n",
       "      <td>Yes</td>\n",
       "      <td>No</td>\n",
       "      <td>DSL</td>\n",
       "      <td>Yes</td>\n",
       "      <td>...</td>\n",
       "      <td>Yes</td>\n",
       "      <td>No</td>\n",
       "      <td>No</td>\n",
       "      <td>No</td>\n",
       "      <td>One year</td>\n",
       "      <td>No</td>\n",
       "      <td>Mailed check</td>\n",
       "      <td>56.95</td>\n",
       "      <td>1889.5</td>\n",
       "      <td>No</td>\n",
       "    </tr>\n",
       "    <tr>\n",
       "      <th>2</th>\n",
       "      <td>3668-QPYBK</td>\n",
       "      <td>Male</td>\n",
       "      <td>0</td>\n",
       "      <td>No</td>\n",
       "      <td>No</td>\n",
       "      <td>2</td>\n",
       "      <td>Yes</td>\n",
       "      <td>No</td>\n",
       "      <td>DSL</td>\n",
       "      <td>Yes</td>\n",
       "      <td>...</td>\n",
       "      <td>No</td>\n",
       "      <td>No</td>\n",
       "      <td>No</td>\n",
       "      <td>No</td>\n",
       "      <td>Month-to-month</td>\n",
       "      <td>Yes</td>\n",
       "      <td>Mailed check</td>\n",
       "      <td>53.85</td>\n",
       "      <td>108.15</td>\n",
       "      <td>Yes</td>\n",
       "    </tr>\n",
       "    <tr>\n",
       "      <th>3</th>\n",
       "      <td>7795-CFOCW</td>\n",
       "      <td>Male</td>\n",
       "      <td>0</td>\n",
       "      <td>No</td>\n",
       "      <td>No</td>\n",
       "      <td>45</td>\n",
       "      <td>No</td>\n",
       "      <td>No phone service</td>\n",
       "      <td>DSL</td>\n",
       "      <td>Yes</td>\n",
       "      <td>...</td>\n",
       "      <td>Yes</td>\n",
       "      <td>Yes</td>\n",
       "      <td>No</td>\n",
       "      <td>No</td>\n",
       "      <td>One year</td>\n",
       "      <td>No</td>\n",
       "      <td>Bank transfer (automatic)</td>\n",
       "      <td>42.30</td>\n",
       "      <td>1840.75</td>\n",
       "      <td>No</td>\n",
       "    </tr>\n",
       "    <tr>\n",
       "      <th>4</th>\n",
       "      <td>9237-HQITU</td>\n",
       "      <td>Female</td>\n",
       "      <td>0</td>\n",
       "      <td>No</td>\n",
       "      <td>No</td>\n",
       "      <td>2</td>\n",
       "      <td>Yes</td>\n",
       "      <td>No</td>\n",
       "      <td>Fiber optic</td>\n",
       "      <td>No</td>\n",
       "      <td>...</td>\n",
       "      <td>No</td>\n",
       "      <td>No</td>\n",
       "      <td>No</td>\n",
       "      <td>No</td>\n",
       "      <td>Month-to-month</td>\n",
       "      <td>Yes</td>\n",
       "      <td>Electronic check</td>\n",
       "      <td>70.70</td>\n",
       "      <td>151.65</td>\n",
       "      <td>Yes</td>\n",
       "    </tr>\n",
       "    <tr>\n",
       "      <th>5</th>\n",
       "      <td>9305-CDSKC</td>\n",
       "      <td>Female</td>\n",
       "      <td>0</td>\n",
       "      <td>No</td>\n",
       "      <td>No</td>\n",
       "      <td>8</td>\n",
       "      <td>Yes</td>\n",
       "      <td>Yes</td>\n",
       "      <td>Fiber optic</td>\n",
       "      <td>No</td>\n",
       "      <td>...</td>\n",
       "      <td>Yes</td>\n",
       "      <td>No</td>\n",
       "      <td>Yes</td>\n",
       "      <td>Yes</td>\n",
       "      <td>Month-to-month</td>\n",
       "      <td>Yes</td>\n",
       "      <td>Electronic check</td>\n",
       "      <td>99.65</td>\n",
       "      <td>820.5</td>\n",
       "      <td>Yes</td>\n",
       "    </tr>\n",
       "    <tr>\n",
       "      <th>6</th>\n",
       "      <td>1452-KIOVK</td>\n",
       "      <td>Male</td>\n",
       "      <td>0</td>\n",
       "      <td>No</td>\n",
       "      <td>Yes</td>\n",
       "      <td>22</td>\n",
       "      <td>Yes</td>\n",
       "      <td>Yes</td>\n",
       "      <td>Fiber optic</td>\n",
       "      <td>No</td>\n",
       "      <td>...</td>\n",
       "      <td>No</td>\n",
       "      <td>No</td>\n",
       "      <td>Yes</td>\n",
       "      <td>No</td>\n",
       "      <td>Month-to-month</td>\n",
       "      <td>Yes</td>\n",
       "      <td>Credit card (automatic)</td>\n",
       "      <td>89.10</td>\n",
       "      <td>1949.4</td>\n",
       "      <td>No</td>\n",
       "    </tr>\n",
       "    <tr>\n",
       "      <th>7</th>\n",
       "      <td>6713-OKOMC</td>\n",
       "      <td>Female</td>\n",
       "      <td>0</td>\n",
       "      <td>No</td>\n",
       "      <td>No</td>\n",
       "      <td>10</td>\n",
       "      <td>No</td>\n",
       "      <td>No phone service</td>\n",
       "      <td>DSL</td>\n",
       "      <td>Yes</td>\n",
       "      <td>...</td>\n",
       "      <td>No</td>\n",
       "      <td>No</td>\n",
       "      <td>No</td>\n",
       "      <td>No</td>\n",
       "      <td>Month-to-month</td>\n",
       "      <td>No</td>\n",
       "      <td>Mailed check</td>\n",
       "      <td>29.75</td>\n",
       "      <td>301.9</td>\n",
       "      <td>No</td>\n",
       "    </tr>\n",
       "    <tr>\n",
       "      <th>8</th>\n",
       "      <td>7892-POOKP</td>\n",
       "      <td>Female</td>\n",
       "      <td>0</td>\n",
       "      <td>Yes</td>\n",
       "      <td>No</td>\n",
       "      <td>28</td>\n",
       "      <td>Yes</td>\n",
       "      <td>Yes</td>\n",
       "      <td>Fiber optic</td>\n",
       "      <td>No</td>\n",
       "      <td>...</td>\n",
       "      <td>Yes</td>\n",
       "      <td>Yes</td>\n",
       "      <td>Yes</td>\n",
       "      <td>Yes</td>\n",
       "      <td>Month-to-month</td>\n",
       "      <td>Yes</td>\n",
       "      <td>Electronic check</td>\n",
       "      <td>104.80</td>\n",
       "      <td>3046.05</td>\n",
       "      <td>Yes</td>\n",
       "    </tr>\n",
       "    <tr>\n",
       "      <th>9</th>\n",
       "      <td>6388-TABGU</td>\n",
       "      <td>Male</td>\n",
       "      <td>0</td>\n",
       "      <td>No</td>\n",
       "      <td>Yes</td>\n",
       "      <td>62</td>\n",
       "      <td>Yes</td>\n",
       "      <td>No</td>\n",
       "      <td>DSL</td>\n",
       "      <td>Yes</td>\n",
       "      <td>...</td>\n",
       "      <td>No</td>\n",
       "      <td>No</td>\n",
       "      <td>No</td>\n",
       "      <td>No</td>\n",
       "      <td>One year</td>\n",
       "      <td>No</td>\n",
       "      <td>Bank transfer (automatic)</td>\n",
       "      <td>56.15</td>\n",
       "      <td>3487.95</td>\n",
       "      <td>No</td>\n",
       "    </tr>\n",
       "  </tbody>\n",
       "</table>\n",
       "<p>10 rows × 21 columns</p>\n",
       "</div>"
      ],
      "text/plain": [
       "   customerID  gender  SeniorCitizen Partner Dependents  tenure PhoneService  \\\n",
       "0  7590-VHVEG  Female              0     Yes         No       1           No   \n",
       "1  5575-GNVDE    Male              0      No         No      34          Yes   \n",
       "2  3668-QPYBK    Male              0      No         No       2          Yes   \n",
       "3  7795-CFOCW    Male              0      No         No      45           No   \n",
       "4  9237-HQITU  Female              0      No         No       2          Yes   \n",
       "5  9305-CDSKC  Female              0      No         No       8          Yes   \n",
       "6  1452-KIOVK    Male              0      No        Yes      22          Yes   \n",
       "7  6713-OKOMC  Female              0      No         No      10           No   \n",
       "8  7892-POOKP  Female              0     Yes         No      28          Yes   \n",
       "9  6388-TABGU    Male              0      No        Yes      62          Yes   \n",
       "\n",
       "      MultipleLines InternetService OnlineSecurity  ... DeviceProtection  \\\n",
       "0  No phone service             DSL             No  ...               No   \n",
       "1                No             DSL            Yes  ...              Yes   \n",
       "2                No             DSL            Yes  ...               No   \n",
       "3  No phone service             DSL            Yes  ...              Yes   \n",
       "4                No     Fiber optic             No  ...               No   \n",
       "5               Yes     Fiber optic             No  ...              Yes   \n",
       "6               Yes     Fiber optic             No  ...               No   \n",
       "7  No phone service             DSL            Yes  ...               No   \n",
       "8               Yes     Fiber optic             No  ...              Yes   \n",
       "9                No             DSL            Yes  ...               No   \n",
       "\n",
       "  TechSupport StreamingTV StreamingMovies        Contract PaperlessBilling  \\\n",
       "0          No          No              No  Month-to-month              Yes   \n",
       "1          No          No              No        One year               No   \n",
       "2          No          No              No  Month-to-month              Yes   \n",
       "3         Yes          No              No        One year               No   \n",
       "4          No          No              No  Month-to-month              Yes   \n",
       "5          No         Yes             Yes  Month-to-month              Yes   \n",
       "6          No         Yes              No  Month-to-month              Yes   \n",
       "7          No          No              No  Month-to-month               No   \n",
       "8         Yes         Yes             Yes  Month-to-month              Yes   \n",
       "9          No          No              No        One year               No   \n",
       "\n",
       "               PaymentMethod MonthlyCharges  TotalCharges Churn  \n",
       "0           Electronic check          29.85         29.85    No  \n",
       "1               Mailed check          56.95        1889.5    No  \n",
       "2               Mailed check          53.85        108.15   Yes  \n",
       "3  Bank transfer (automatic)          42.30       1840.75    No  \n",
       "4           Electronic check          70.70        151.65   Yes  \n",
       "5           Electronic check          99.65         820.5   Yes  \n",
       "6    Credit card (automatic)          89.10        1949.4    No  \n",
       "7               Mailed check          29.75         301.9    No  \n",
       "8           Electronic check         104.80       3046.05   Yes  \n",
       "9  Bank transfer (automatic)          56.15       3487.95    No  \n",
       "\n",
       "[10 rows x 21 columns]"
      ]
     },
     "execution_count": 8,
     "metadata": {},
     "output_type": "execute_result"
    }
   ],
   "source": [
    "telecom.head(10)"
   ]
  },
  {
   "cell_type": "code",
   "execution_count": 9,
   "id": "5818604c",
   "metadata": {},
   "outputs": [
    {
     "data": {
      "text/html": [
       "<div>\n",
       "<style scoped>\n",
       "    .dataframe tbody tr th:only-of-type {\n",
       "        vertical-align: middle;\n",
       "    }\n",
       "\n",
       "    .dataframe tbody tr th {\n",
       "        vertical-align: top;\n",
       "    }\n",
       "\n",
       "    .dataframe thead th {\n",
       "        text-align: right;\n",
       "    }\n",
       "</style>\n",
       "<table border=\"1\" class=\"dataframe\">\n",
       "  <thead>\n",
       "    <tr style=\"text-align: right;\">\n",
       "      <th></th>\n",
       "      <th>customerID</th>\n",
       "      <th>gender</th>\n",
       "      <th>SeniorCitizen</th>\n",
       "      <th>Partner</th>\n",
       "      <th>Dependents</th>\n",
       "      <th>tenure</th>\n",
       "      <th>PhoneService</th>\n",
       "      <th>MultipleLines</th>\n",
       "      <th>InternetService</th>\n",
       "      <th>OnlineSecurity</th>\n",
       "      <th>...</th>\n",
       "      <th>DeviceProtection</th>\n",
       "      <th>TechSupport</th>\n",
       "      <th>StreamingTV</th>\n",
       "      <th>StreamingMovies</th>\n",
       "      <th>Contract</th>\n",
       "      <th>PaperlessBilling</th>\n",
       "      <th>PaymentMethod</th>\n",
       "      <th>MonthlyCharges</th>\n",
       "      <th>TotalCharges</th>\n",
       "      <th>Churn</th>\n",
       "    </tr>\n",
       "  </thead>\n",
       "  <tbody>\n",
       "    <tr>\n",
       "      <th>7033</th>\n",
       "      <td>9767-FFLEM</td>\n",
       "      <td>Male</td>\n",
       "      <td>0</td>\n",
       "      <td>No</td>\n",
       "      <td>No</td>\n",
       "      <td>38</td>\n",
       "      <td>Yes</td>\n",
       "      <td>No</td>\n",
       "      <td>Fiber optic</td>\n",
       "      <td>No</td>\n",
       "      <td>...</td>\n",
       "      <td>No</td>\n",
       "      <td>No</td>\n",
       "      <td>No</td>\n",
       "      <td>No</td>\n",
       "      <td>Month-to-month</td>\n",
       "      <td>Yes</td>\n",
       "      <td>Credit card (automatic)</td>\n",
       "      <td>69.50</td>\n",
       "      <td>2625.25</td>\n",
       "      <td>No</td>\n",
       "    </tr>\n",
       "    <tr>\n",
       "      <th>7034</th>\n",
       "      <td>0639-TSIQW</td>\n",
       "      <td>Female</td>\n",
       "      <td>0</td>\n",
       "      <td>No</td>\n",
       "      <td>No</td>\n",
       "      <td>67</td>\n",
       "      <td>Yes</td>\n",
       "      <td>Yes</td>\n",
       "      <td>Fiber optic</td>\n",
       "      <td>Yes</td>\n",
       "      <td>...</td>\n",
       "      <td>Yes</td>\n",
       "      <td>No</td>\n",
       "      <td>Yes</td>\n",
       "      <td>No</td>\n",
       "      <td>Month-to-month</td>\n",
       "      <td>Yes</td>\n",
       "      <td>Credit card (automatic)</td>\n",
       "      <td>102.95</td>\n",
       "      <td>6886.25</td>\n",
       "      <td>Yes</td>\n",
       "    </tr>\n",
       "    <tr>\n",
       "      <th>7035</th>\n",
       "      <td>8456-QDAVC</td>\n",
       "      <td>Male</td>\n",
       "      <td>0</td>\n",
       "      <td>No</td>\n",
       "      <td>No</td>\n",
       "      <td>19</td>\n",
       "      <td>Yes</td>\n",
       "      <td>No</td>\n",
       "      <td>Fiber optic</td>\n",
       "      <td>No</td>\n",
       "      <td>...</td>\n",
       "      <td>No</td>\n",
       "      <td>No</td>\n",
       "      <td>Yes</td>\n",
       "      <td>No</td>\n",
       "      <td>Month-to-month</td>\n",
       "      <td>Yes</td>\n",
       "      <td>Bank transfer (automatic)</td>\n",
       "      <td>78.70</td>\n",
       "      <td>1495.1</td>\n",
       "      <td>No</td>\n",
       "    </tr>\n",
       "    <tr>\n",
       "      <th>7036</th>\n",
       "      <td>7750-EYXWZ</td>\n",
       "      <td>Female</td>\n",
       "      <td>0</td>\n",
       "      <td>No</td>\n",
       "      <td>No</td>\n",
       "      <td>12</td>\n",
       "      <td>No</td>\n",
       "      <td>No phone service</td>\n",
       "      <td>DSL</td>\n",
       "      <td>No</td>\n",
       "      <td>...</td>\n",
       "      <td>Yes</td>\n",
       "      <td>Yes</td>\n",
       "      <td>Yes</td>\n",
       "      <td>Yes</td>\n",
       "      <td>One year</td>\n",
       "      <td>No</td>\n",
       "      <td>Electronic check</td>\n",
       "      <td>60.65</td>\n",
       "      <td>743.3</td>\n",
       "      <td>No</td>\n",
       "    </tr>\n",
       "    <tr>\n",
       "      <th>7037</th>\n",
       "      <td>2569-WGERO</td>\n",
       "      <td>Female</td>\n",
       "      <td>0</td>\n",
       "      <td>No</td>\n",
       "      <td>No</td>\n",
       "      <td>72</td>\n",
       "      <td>Yes</td>\n",
       "      <td>No</td>\n",
       "      <td>No</td>\n",
       "      <td>No internet service</td>\n",
       "      <td>...</td>\n",
       "      <td>No internet service</td>\n",
       "      <td>No internet service</td>\n",
       "      <td>No internet service</td>\n",
       "      <td>No internet service</td>\n",
       "      <td>Two year</td>\n",
       "      <td>Yes</td>\n",
       "      <td>Bank transfer (automatic)</td>\n",
       "      <td>21.15</td>\n",
       "      <td>1419.4</td>\n",
       "      <td>No</td>\n",
       "    </tr>\n",
       "    <tr>\n",
       "      <th>7038</th>\n",
       "      <td>6840-RESVB</td>\n",
       "      <td>Male</td>\n",
       "      <td>0</td>\n",
       "      <td>Yes</td>\n",
       "      <td>Yes</td>\n",
       "      <td>24</td>\n",
       "      <td>Yes</td>\n",
       "      <td>Yes</td>\n",
       "      <td>DSL</td>\n",
       "      <td>Yes</td>\n",
       "      <td>...</td>\n",
       "      <td>Yes</td>\n",
       "      <td>Yes</td>\n",
       "      <td>Yes</td>\n",
       "      <td>Yes</td>\n",
       "      <td>One year</td>\n",
       "      <td>Yes</td>\n",
       "      <td>Mailed check</td>\n",
       "      <td>84.80</td>\n",
       "      <td>1990.5</td>\n",
       "      <td>No</td>\n",
       "    </tr>\n",
       "    <tr>\n",
       "      <th>7039</th>\n",
       "      <td>2234-XADUH</td>\n",
       "      <td>Female</td>\n",
       "      <td>0</td>\n",
       "      <td>Yes</td>\n",
       "      <td>Yes</td>\n",
       "      <td>72</td>\n",
       "      <td>Yes</td>\n",
       "      <td>Yes</td>\n",
       "      <td>Fiber optic</td>\n",
       "      <td>No</td>\n",
       "      <td>...</td>\n",
       "      <td>Yes</td>\n",
       "      <td>No</td>\n",
       "      <td>Yes</td>\n",
       "      <td>Yes</td>\n",
       "      <td>One year</td>\n",
       "      <td>Yes</td>\n",
       "      <td>Credit card (automatic)</td>\n",
       "      <td>103.20</td>\n",
       "      <td>7362.9</td>\n",
       "      <td>No</td>\n",
       "    </tr>\n",
       "    <tr>\n",
       "      <th>7040</th>\n",
       "      <td>4801-JZAZL</td>\n",
       "      <td>Female</td>\n",
       "      <td>0</td>\n",
       "      <td>Yes</td>\n",
       "      <td>Yes</td>\n",
       "      <td>11</td>\n",
       "      <td>No</td>\n",
       "      <td>No phone service</td>\n",
       "      <td>DSL</td>\n",
       "      <td>Yes</td>\n",
       "      <td>...</td>\n",
       "      <td>No</td>\n",
       "      <td>No</td>\n",
       "      <td>No</td>\n",
       "      <td>No</td>\n",
       "      <td>Month-to-month</td>\n",
       "      <td>Yes</td>\n",
       "      <td>Electronic check</td>\n",
       "      <td>29.60</td>\n",
       "      <td>346.45</td>\n",
       "      <td>No</td>\n",
       "    </tr>\n",
       "    <tr>\n",
       "      <th>7041</th>\n",
       "      <td>8361-LTMKD</td>\n",
       "      <td>Male</td>\n",
       "      <td>1</td>\n",
       "      <td>Yes</td>\n",
       "      <td>No</td>\n",
       "      <td>4</td>\n",
       "      <td>Yes</td>\n",
       "      <td>Yes</td>\n",
       "      <td>Fiber optic</td>\n",
       "      <td>No</td>\n",
       "      <td>...</td>\n",
       "      <td>No</td>\n",
       "      <td>No</td>\n",
       "      <td>No</td>\n",
       "      <td>No</td>\n",
       "      <td>Month-to-month</td>\n",
       "      <td>Yes</td>\n",
       "      <td>Mailed check</td>\n",
       "      <td>74.40</td>\n",
       "      <td>306.6</td>\n",
       "      <td>Yes</td>\n",
       "    </tr>\n",
       "    <tr>\n",
       "      <th>7042</th>\n",
       "      <td>3186-AJIEK</td>\n",
       "      <td>Male</td>\n",
       "      <td>0</td>\n",
       "      <td>No</td>\n",
       "      <td>No</td>\n",
       "      <td>66</td>\n",
       "      <td>Yes</td>\n",
       "      <td>No</td>\n",
       "      <td>Fiber optic</td>\n",
       "      <td>Yes</td>\n",
       "      <td>...</td>\n",
       "      <td>Yes</td>\n",
       "      <td>Yes</td>\n",
       "      <td>Yes</td>\n",
       "      <td>Yes</td>\n",
       "      <td>Two year</td>\n",
       "      <td>Yes</td>\n",
       "      <td>Bank transfer (automatic)</td>\n",
       "      <td>105.65</td>\n",
       "      <td>6844.5</td>\n",
       "      <td>No</td>\n",
       "    </tr>\n",
       "  </tbody>\n",
       "</table>\n",
       "<p>10 rows × 21 columns</p>\n",
       "</div>"
      ],
      "text/plain": [
       "      customerID  gender  SeniorCitizen Partner Dependents  tenure  \\\n",
       "7033  9767-FFLEM    Male              0      No         No      38   \n",
       "7034  0639-TSIQW  Female              0      No         No      67   \n",
       "7035  8456-QDAVC    Male              0      No         No      19   \n",
       "7036  7750-EYXWZ  Female              0      No         No      12   \n",
       "7037  2569-WGERO  Female              0      No         No      72   \n",
       "7038  6840-RESVB    Male              0     Yes        Yes      24   \n",
       "7039  2234-XADUH  Female              0     Yes        Yes      72   \n",
       "7040  4801-JZAZL  Female              0     Yes        Yes      11   \n",
       "7041  8361-LTMKD    Male              1     Yes         No       4   \n",
       "7042  3186-AJIEK    Male              0      No         No      66   \n",
       "\n",
       "     PhoneService     MultipleLines InternetService       OnlineSecurity  ...  \\\n",
       "7033          Yes                No     Fiber optic                   No  ...   \n",
       "7034          Yes               Yes     Fiber optic                  Yes  ...   \n",
       "7035          Yes                No     Fiber optic                   No  ...   \n",
       "7036           No  No phone service             DSL                   No  ...   \n",
       "7037          Yes                No              No  No internet service  ...   \n",
       "7038          Yes               Yes             DSL                  Yes  ...   \n",
       "7039          Yes               Yes     Fiber optic                   No  ...   \n",
       "7040           No  No phone service             DSL                  Yes  ...   \n",
       "7041          Yes               Yes     Fiber optic                   No  ...   \n",
       "7042          Yes                No     Fiber optic                  Yes  ...   \n",
       "\n",
       "         DeviceProtection          TechSupport          StreamingTV  \\\n",
       "7033                   No                   No                   No   \n",
       "7034                  Yes                   No                  Yes   \n",
       "7035                   No                   No                  Yes   \n",
       "7036                  Yes                  Yes                  Yes   \n",
       "7037  No internet service  No internet service  No internet service   \n",
       "7038                  Yes                  Yes                  Yes   \n",
       "7039                  Yes                   No                  Yes   \n",
       "7040                   No                   No                   No   \n",
       "7041                   No                   No                   No   \n",
       "7042                  Yes                  Yes                  Yes   \n",
       "\n",
       "          StreamingMovies        Contract PaperlessBilling  \\\n",
       "7033                   No  Month-to-month              Yes   \n",
       "7034                   No  Month-to-month              Yes   \n",
       "7035                   No  Month-to-month              Yes   \n",
       "7036                  Yes        One year               No   \n",
       "7037  No internet service        Two year              Yes   \n",
       "7038                  Yes        One year              Yes   \n",
       "7039                  Yes        One year              Yes   \n",
       "7040                   No  Month-to-month              Yes   \n",
       "7041                   No  Month-to-month              Yes   \n",
       "7042                  Yes        Two year              Yes   \n",
       "\n",
       "                  PaymentMethod MonthlyCharges  TotalCharges Churn  \n",
       "7033    Credit card (automatic)          69.50       2625.25    No  \n",
       "7034    Credit card (automatic)         102.95       6886.25   Yes  \n",
       "7035  Bank transfer (automatic)          78.70        1495.1    No  \n",
       "7036           Electronic check          60.65         743.3    No  \n",
       "7037  Bank transfer (automatic)          21.15        1419.4    No  \n",
       "7038               Mailed check          84.80        1990.5    No  \n",
       "7039    Credit card (automatic)         103.20        7362.9    No  \n",
       "7040           Electronic check          29.60        346.45    No  \n",
       "7041               Mailed check          74.40         306.6   Yes  \n",
       "7042  Bank transfer (automatic)         105.65        6844.5    No  \n",
       "\n",
       "[10 rows x 21 columns]"
      ]
     },
     "execution_count": 9,
     "metadata": {},
     "output_type": "execute_result"
    }
   ],
   "source": [
    "telecom.tail(10)"
   ]
  },
  {
   "cell_type": "code",
   "execution_count": 10,
   "id": "f4edb145",
   "metadata": {},
   "outputs": [
    {
     "name": "stdout",
     "output_type": "stream",
     "text": [
      "<class 'pandas.core.frame.DataFrame'>\n",
      "RangeIndex: 7043 entries, 0 to 7042\n",
      "Data columns (total 21 columns):\n",
      " #   Column            Non-Null Count  Dtype  \n",
      "---  ------            --------------  -----  \n",
      " 0   customerID        7043 non-null   object \n",
      " 1   gender            7043 non-null   object \n",
      " 2   SeniorCitizen     7043 non-null   int64  \n",
      " 3   Partner           7043 non-null   object \n",
      " 4   Dependents        7043 non-null   object \n",
      " 5   tenure            7043 non-null   int64  \n",
      " 6   PhoneService      7043 non-null   object \n",
      " 7   MultipleLines     7043 non-null   object \n",
      " 8   InternetService   7043 non-null   object \n",
      " 9   OnlineSecurity    7043 non-null   object \n",
      " 10  OnlineBackup      7043 non-null   object \n",
      " 11  DeviceProtection  7043 non-null   object \n",
      " 12  TechSupport       7043 non-null   object \n",
      " 13  StreamingTV       7043 non-null   object \n",
      " 14  StreamingMovies   7043 non-null   object \n",
      " 15  Contract          7043 non-null   object \n",
      " 16  PaperlessBilling  7043 non-null   object \n",
      " 17  PaymentMethod     7043 non-null   object \n",
      " 18  MonthlyCharges    7043 non-null   float64\n",
      " 19  TotalCharges      7043 non-null   object \n",
      " 20  Churn             7043 non-null   object \n",
      "dtypes: float64(1), int64(2), object(18)\n",
      "memory usage: 1.1+ MB\n"
     ]
    }
   ],
   "source": [
    "telecom.info()"
   ]
  },
  {
   "cell_type": "code",
   "execution_count": 11,
   "id": "8bf8f8b5",
   "metadata": {},
   "outputs": [],
   "source": [
    "# 1 Float, 2 integer and 18 object columns"
   ]
  },
  {
   "cell_type": "markdown",
   "id": "86fc61cb",
   "metadata": {},
   "source": [
    "# Data Cleaning"
   ]
  },
  {
   "cell_type": "code",
   "execution_count": 12,
   "id": "9a3cbf01",
   "metadata": {},
   "outputs": [],
   "source": [
    "# Making a copy of original data."
   ]
  },
  {
   "cell_type": "code",
   "execution_count": 13,
   "id": "3dc4be65",
   "metadata": {},
   "outputs": [],
   "source": [
    "df_orig = telecom.copy()"
   ]
  },
  {
   "cell_type": "code",
   "execution_count": 14,
   "id": "c094c7d7",
   "metadata": {},
   "outputs": [],
   "source": [
    "# Column 'Total Charges' should be numeric, but it is object datatype.\n",
    "# Converting the column to numeric."
   ]
  },
  {
   "cell_type": "code",
   "execution_count": 15,
   "id": "83737254",
   "metadata": {},
   "outputs": [],
   "source": [
    "telecom.TotalCharges = pd.to_numeric(telecom.TotalCharges,errors='coerce')"
   ]
  },
  {
   "cell_type": "code",
   "execution_count": 16,
   "id": "2d1074ce",
   "metadata": {},
   "outputs": [],
   "source": [
    "# Verifying the column's datatype has been changed."
   ]
  },
  {
   "cell_type": "code",
   "execution_count": 17,
   "id": "fe2604ac",
   "metadata": {},
   "outputs": [
    {
     "data": {
      "text/plain": [
       "dtype('float64')"
      ]
     },
     "execution_count": 17,
     "metadata": {},
     "output_type": "execute_result"
    }
   ],
   "source": [
    "telecom.TotalCharges.dtype"
   ]
  },
  {
   "cell_type": "code",
   "execution_count": 18,
   "id": "74b299cc",
   "metadata": {},
   "outputs": [],
   "source": [
    "# Checking for null values"
   ]
  },
  {
   "cell_type": "code",
   "execution_count": 19,
   "id": "17ac5065",
   "metadata": {},
   "outputs": [
    {
     "data": {
      "text/plain": [
       "customerID           0\n",
       "gender               0\n",
       "SeniorCitizen        0\n",
       "Partner              0\n",
       "Dependents           0\n",
       "tenure               0\n",
       "PhoneService         0\n",
       "MultipleLines        0\n",
       "InternetService      0\n",
       "OnlineSecurity       0\n",
       "OnlineBackup         0\n",
       "DeviceProtection     0\n",
       "TechSupport          0\n",
       "StreamingTV          0\n",
       "StreamingMovies      0\n",
       "Contract             0\n",
       "PaperlessBilling     0\n",
       "PaymentMethod        0\n",
       "MonthlyCharges       0\n",
       "TotalCharges        11\n",
       "Churn                0\n",
       "dtype: int64"
      ]
     },
     "execution_count": 19,
     "metadata": {},
     "output_type": "execute_result"
    }
   ],
   "source": [
    "telecom.isnull().sum()"
   ]
  },
  {
   "cell_type": "code",
   "execution_count": 20,
   "id": "f01a1f4f",
   "metadata": {},
   "outputs": [],
   "source": [
    "# 11 null values in Total Charges column."
   ]
  },
  {
   "cell_type": "code",
   "execution_count": 21,
   "id": "83e2aa01",
   "metadata": {},
   "outputs": [
    {
     "data": {
      "text/plain": [
       "0.1561834445548772"
      ]
     },
     "execution_count": 21,
     "metadata": {},
     "output_type": "execute_result"
    }
   ],
   "source": [
    "((telecom.TotalCharges.isnull().sum())/len(telecom.TotalCharges)*100)"
   ]
  },
  {
   "cell_type": "code",
   "execution_count": 22,
   "id": "4f6536d5",
   "metadata": {},
   "outputs": [],
   "source": [
    "# Dropping the null values since the null values are only 0.15% of the total data."
   ]
  },
  {
   "cell_type": "code",
   "execution_count": 23,
   "id": "8b07e446",
   "metadata": {},
   "outputs": [],
   "source": [
    "telecom_notna = telecom[telecom.TotalCharges.notna()]"
   ]
  },
  {
   "cell_type": "code",
   "execution_count": 24,
   "id": "1908c85f",
   "metadata": {},
   "outputs": [],
   "source": [
    "# Verifing the shape after rows were dropped"
   ]
  },
  {
   "cell_type": "code",
   "execution_count": 25,
   "id": "07fc39d1",
   "metadata": {},
   "outputs": [
    {
     "data": {
      "text/plain": [
       "(7032, 21)"
      ]
     },
     "execution_count": 25,
     "metadata": {},
     "output_type": "execute_result"
    }
   ],
   "source": [
    "telecom_notna.shape"
   ]
  },
  {
   "cell_type": "markdown",
   "id": "55ba5de3",
   "metadata": {},
   "source": [
    "# Data Plotting"
   ]
  },
  {
   "cell_type": "code",
   "execution_count": 26,
   "id": "5a30dabe",
   "metadata": {},
   "outputs": [],
   "source": [
    "# Count and percentage of Male and Female customers"
   ]
  },
  {
   "cell_type": "code",
   "execution_count": 27,
   "id": "3e4fc3c4",
   "metadata": {},
   "outputs": [
    {
     "data": {
      "text/plain": [
       "Male      3549\n",
       "Female    3483\n",
       "Name: gender, dtype: int64"
      ]
     },
     "execution_count": 27,
     "metadata": {},
     "output_type": "execute_result"
    }
   ],
   "source": [
    "telecom_notna.gender.value_counts()"
   ]
  },
  {
   "cell_type": "code",
   "execution_count": 28,
   "id": "bd7763bf",
   "metadata": {},
   "outputs": [
    {
     "data": {
      "text/plain": [
       "Male      50.469283\n",
       "Female    49.530717\n",
       "Name: gender, dtype: float64"
      ]
     },
     "execution_count": 28,
     "metadata": {},
     "output_type": "execute_result"
    }
   ],
   "source": [
    "(telecom_notna.gender.value_counts()/len(telecom_notna))*100"
   ]
  },
  {
   "cell_type": "code",
   "execution_count": 29,
   "id": "b07f3370",
   "metadata": {},
   "outputs": [],
   "source": [
    "# Plotting churn column according to gender"
   ]
  },
  {
   "cell_type": "code",
   "execution_count": 30,
   "id": "bd614f8f",
   "metadata": {
    "scrolled": true
   },
   "outputs": [
    {
     "name": "stderr",
     "output_type": "stream",
     "text": [
      "C:\\ProgramData\\Anaconda3\\lib\\site-packages\\seaborn\\_decorators.py:36: FutureWarning: Pass the following variable as a keyword arg: x. From version 0.12, the only valid positional argument will be `data`, and passing other arguments without an explicit keyword will result in an error or misinterpretation.\n",
      "  warnings.warn(\n"
     ]
    },
    {
     "data": {
      "text/plain": [
       "<AxesSubplot:xlabel='gender', ylabel='count'>"
      ]
     },
     "execution_count": 30,
     "metadata": {},
     "output_type": "execute_result"
    },
    {
     "data": {
      "image/png": "[encoded data removed]",
      "text/plain": [
       "<Figure size 432x288 with 1 Axes>"
      ]
     },
     "metadata": {
      "needs_background": "light"
     },
     "output_type": "display_data"
    }
   ],
   "source": [
    "sns.countplot('gender', hue='Churn', data=telecom_notna)"
   ]
  },
  {
   "cell_type": "code",
   "execution_count": 31,
   "id": "27b3208c",
   "metadata": {},
   "outputs": [],
   "source": [
    "# The number of males and females who have churned do not seem to have a vast difference."
   ]
  },
  {
   "cell_type": "code",
   "execution_count": 32,
   "id": "ae8200f1",
   "metadata": {},
   "outputs": [],
   "source": [
    "# Plotting the data of Payment methods used."
   ]
  },
  {
   "cell_type": "code",
   "execution_count": 33,
   "id": "62ff372f",
   "metadata": {},
   "outputs": [
    {
     "name": "stderr",
     "output_type": "stream",
     "text": [
      "C:\\ProgramData\\Anaconda3\\lib\\site-packages\\seaborn\\_decorators.py:36: FutureWarning: Pass the following variable as a keyword arg: x. From version 0.12, the only valid positional argument will be `data`, and passing other arguments without an explicit keyword will result in an error or misinterpretation.\n",
      "  warnings.warn(\n"
     ]
    },
    {
     "data": {
      "text/plain": [
       "(array([0, 1, 2, 3]),\n",
       " [Text(0, 0, 'Electronic check'),\n",
       "  Text(1, 0, 'Mailed check'),\n",
       "  Text(2, 0, 'Bank transfer (automatic)'),\n",
       "  Text(3, 0, 'Credit card (automatic)')])"
      ]
     },
     "execution_count": 33,
     "metadata": {},
     "output_type": "execute_result"
    },
    {
     "data": {
      "image/png": "[encoded data removed]",
      "text/plain": [
       "<Figure size 432x288 with 1 Axes>"
      ]
     },
     "metadata": {
      "needs_background": "light"
     },
     "output_type": "display_data"
    }
   ],
   "source": [
    "sns.countplot('PaymentMethod',hue='Churn', data=telecom_notna)\n",
    "plt.xticks(rotation = 45, ha = 'right')"
   ]
  },
  {
   "cell_type": "code",
   "execution_count": 34,
   "id": "5b6c7c52",
   "metadata": {},
   "outputs": [],
   "source": [
    "# The distribution of non-churned customers in all 4 payment categories seem to be in the same range.\n",
    "# Electronic check has the most churned customers, while Automatic Credit Card payment has the least."
   ]
  },
  {
   "cell_type": "code",
   "execution_count": 35,
   "id": "0e8c9bac",
   "metadata": {},
   "outputs": [],
   "source": [
    "# Churned customers grouped on the basis of Contract."
   ]
  },
  {
   "cell_type": "code",
   "execution_count": 36,
   "id": "3cfe0eff",
   "metadata": {},
   "outputs": [
    {
     "data": {
      "text/plain": [
       "Contract        Churn\n",
       "Month-to-month  No       2220\n",
       "                Yes      1655\n",
       "One year        No       1306\n",
       "                Yes       166\n",
       "Two year        No       1637\n",
       "                Yes        48\n",
       "Name: Churn, dtype: int64"
      ]
     },
     "execution_count": 36,
     "metadata": {},
     "output_type": "execute_result"
    }
   ],
   "source": [
    "(telecom_notna.groupby('Contract')['Churn']).value_counts()"
   ]
  },
  {
   "cell_type": "code",
   "execution_count": 37,
   "id": "04096d95",
   "metadata": {},
   "outputs": [],
   "source": [
    "# Plotting the above data"
   ]
  },
  {
   "cell_type": "code",
   "execution_count": 38,
   "id": "2718f62c",
   "metadata": {},
   "outputs": [
    {
     "name": "stderr",
     "output_type": "stream",
     "text": [
      "C:\\ProgramData\\Anaconda3\\lib\\site-packages\\seaborn\\_decorators.py:36: FutureWarning: Pass the following variable as a keyword arg: x. From version 0.12, the only valid positional argument will be `data`, and passing other arguments without an explicit keyword will result in an error or misinterpretation.\n",
      "  warnings.warn(\n"
     ]
    },
    {
     "data": {
      "text/plain": [
       "<AxesSubplot:xlabel='Contract', ylabel='count'>"
      ]
     },
     "execution_count": 38,
     "metadata": {},
     "output_type": "execute_result"
    },
    {
     "data": {
      "image/png": "[encoded data removed]",
      "text/plain": [
       "<Figure size 432x288 with 1 Axes>"
      ]
     },
     "metadata": {
      "needs_background": "light"
     },
     "output_type": "display_data"
    }
   ],
   "source": [
    "sns.countplot('Contract',hue='Churn',data=telecom_notna)"
   ]
  },
  {
   "cell_type": "code",
   "execution_count": 39,
   "id": "d218ca67",
   "metadata": {},
   "outputs": [],
   "source": [
    "# It is clear that customers with month-to-month contract churn the most, \n",
    "# while the churn of customers with One and Two years is very less.\n",
    "\n",
    "# To reduce the churn, a viable option would be to transform customers with Month-to-month contracts into yearly contracts\n",
    "# by giving them various offers."
   ]
  },
  {
   "cell_type": "code",
   "execution_count": 40,
   "id": "67171a01",
   "metadata": {},
   "outputs": [],
   "source": [
    "# Plotting data for Monthly Charges and Churn."
   ]
  },
  {
   "cell_type": "code",
   "execution_count": 41,
   "id": "9ae6ae57",
   "metadata": {},
   "outputs": [
    {
     "data": {
      "text/plain": [
       "<AxesSubplot:xlabel='MonthlyCharges', ylabel='Count'>"
      ]
     },
     "execution_count": 41,
     "metadata": {},
     "output_type": "execute_result"
    },
    {
     "data": {
      "image/png": "[encoded data removed]",
      "text/plain": [
       "<Figure size 432x288 with 1 Axes>"
      ]
     },
     "metadata": {
      "needs_background": "light"
     },
     "output_type": "display_data"
    }
   ],
   "source": [
    "sns.histplot(x='MonthlyCharges', hue='Churn',data=telecom_notna)"
   ]
  },
  {
   "cell_type": "code",
   "execution_count": 42,
   "id": "0cf4b4ad",
   "metadata": {},
   "outputs": [],
   "source": [
    "# The churn seems to be higher as the Monthly Charges tend to increase."
   ]
  },
  {
   "cell_type": "code",
   "execution_count": 43,
   "id": "49c9f9ec",
   "metadata": {},
   "outputs": [],
   "source": [
    "# Plotting data for Tenure and Churn."
   ]
  },
  {
   "cell_type": "code",
   "execution_count": 44,
   "id": "6b6342c3",
   "metadata": {},
   "outputs": [
    {
     "data": {
      "text/plain": [
       "<AxesSubplot:xlabel='tenure', ylabel='Count'>"
      ]
     },
     "execution_count": 44,
     "metadata": {},
     "output_type": "execute_result"
    },
    {
     "data": {
      "image/png": "[encoded data removed]",
      "text/plain": [
       "<Figure size 432x288 with 1 Axes>"
      ]
     },
     "metadata": {
      "needs_background": "light"
     },
     "output_type": "display_data"
    }
   ],
   "source": [
    "sns.histplot(x='tenure', hue='Churn',data=telecom_notna,)"
   ]
  },
  {
   "cell_type": "code",
   "execution_count": 45,
   "id": "01581a8a",
   "metadata": {},
   "outputs": [],
   "source": [
    "# Newer customers have a large Churn rate. As the tenure increases, Churn decreases."
   ]
  },
  {
   "cell_type": "code",
   "execution_count": 46,
   "id": "95e13d81",
   "metadata": {},
   "outputs": [],
   "source": [
    "# Plotting data for Total Charges and Churn."
   ]
  },
  {
   "cell_type": "code",
   "execution_count": 47,
   "id": "57d38d8c",
   "metadata": {},
   "outputs": [
    {
     "data": {
      "text/plain": [
       "<AxesSubplot:xlabel='TotalCharges', ylabel='Count'>"
      ]
     },
     "execution_count": 47,
     "metadata": {},
     "output_type": "execute_result"
    },
    {
     "data": {
      "image/png": "[encoded data removed]",
      "text/plain": [
       "<Figure size 432x288 with 1 Axes>"
      ]
     },
     "metadata": {
      "needs_background": "light"
     },
     "output_type": "display_data"
    }
   ],
   "source": [
    "sns.histplot(x='TotalCharges', hue='Churn',data=telecom_notna,)"
   ]
  },
  {
   "cell_type": "code",
   "execution_count": 48,
   "id": "94dd4cef",
   "metadata": {},
   "outputs": [],
   "source": [
    "# Customers with high Total Charges have a smaller Churn rate."
   ]
  },
  {
   "cell_type": "code",
   "execution_count": 49,
   "id": "b964da88",
   "metadata": {},
   "outputs": [],
   "source": [
    "# All of the above plots indicate that the Churn is higher in new customers, and low in loyal customers.\n",
    "# The customer churn is more for Monthly Charges between $70 and $110, but it lower for charges below $70 and above $110.\n",
    "\n",
    "# This could indicate that the telecom plans for the people in that range might need a tweak to reduce the churn."
   ]
  },
  {
   "cell_type": "markdown",
   "id": "ac674882",
   "metadata": {},
   "source": [
    "# Logistic Regression"
   ]
  },
  {
   "cell_type": "code",
   "execution_count": 50,
   "id": "d60af04e",
   "metadata": {},
   "outputs": [],
   "source": [
    "# Preparing data for Logistic Regression"
   ]
  },
  {
   "cell_type": "code",
   "execution_count": 51,
   "id": "6ce99d12",
   "metadata": {},
   "outputs": [],
   "source": [
    "# Dropping irrelevant column"
   ]
  },
  {
   "cell_type": "code",
   "execution_count": 52,
   "id": "cfa37796",
   "metadata": {},
   "outputs": [
    {
     "name": "stderr",
     "output_type": "stream",
     "text": [
      "C:\\Users\\Sourabh\\AppData\\Roaming\\Python\\Python38\\site-packages\\pandas\\core\\frame.py:4906: SettingWithCopyWarning: \n",
      "A value is trying to be set on a copy of a slice from a DataFrame\n",
      "\n",
      "See the caveats in the documentation: https://pandas.pydata.org/pandas-docs/stable/user_guide/indexing.html#returning-a-view-versus-a-copy\n",
      "  return super().drop(\n"
     ]
    }
   ],
   "source": [
    "telecom_notna.drop('customerID',axis=1,inplace=True)"
   ]
  },
  {
   "cell_type": "code",
   "execution_count": 53,
   "id": "4b3e26d8",
   "metadata": {},
   "outputs": [],
   "source": [
    "# Verifying that the column was dropped"
   ]
  },
  {
   "cell_type": "code",
   "execution_count": 54,
   "id": "63d17275",
   "metadata": {},
   "outputs": [
    {
     "data": {
      "text/plain": [
       "Index(['gender', 'SeniorCitizen', 'Partner', 'Dependents', 'tenure',\n",
       "       'PhoneService', 'MultipleLines', 'InternetService', 'OnlineSecurity',\n",
       "       'OnlineBackup', 'DeviceProtection', 'TechSupport', 'StreamingTV',\n",
       "       'StreamingMovies', 'Contract', 'PaperlessBilling', 'PaymentMethod',\n",
       "       'MonthlyCharges', 'TotalCharges', 'Churn'],\n",
       "      dtype='object')"
      ]
     },
     "execution_count": 54,
     "metadata": {},
     "output_type": "execute_result"
    }
   ],
   "source": [
    "telecom_notna.columns"
   ]
  },
  {
   "cell_type": "code",
   "execution_count": 55,
   "id": "81983098",
   "metadata": {},
   "outputs": [],
   "source": [
    "# Converting categorical features into numerical using get_dummies. \n",
    "# Dropping the first column of each encoding to reduce the number of columns without affecting the data."
   ]
  },
  {
   "cell_type": "code",
   "execution_count": 56,
   "id": "85b4fc0f",
   "metadata": {},
   "outputs": [
    {
     "data": {
      "text/html": [
       "<div>\n",
       "<style scoped>\n",
       "    .dataframe tbody tr th:only-of-type {\n",
       "        vertical-align: middle;\n",
       "    }\n",
       "\n",
       "    .dataframe tbody tr th {\n",
       "        vertical-align: top;\n",
       "    }\n",
       "\n",
       "    .dataframe thead th {\n",
       "        text-align: right;\n",
       "    }\n",
       "</style>\n",
       "<table border=\"1\" class=\"dataframe\">\n",
       "  <thead>\n",
       "    <tr style=\"text-align: right;\">\n",
       "      <th></th>\n",
       "      <th>SeniorCitizen</th>\n",
       "      <th>tenure</th>\n",
       "      <th>MonthlyCharges</th>\n",
       "      <th>TotalCharges</th>\n",
       "      <th>gender_Male</th>\n",
       "      <th>Partner_Yes</th>\n",
       "      <th>Dependents_Yes</th>\n",
       "      <th>PhoneService_Yes</th>\n",
       "      <th>MultipleLines_No phone service</th>\n",
       "      <th>MultipleLines_Yes</th>\n",
       "      <th>...</th>\n",
       "      <th>StreamingTV_Yes</th>\n",
       "      <th>StreamingMovies_No internet service</th>\n",
       "      <th>StreamingMovies_Yes</th>\n",
       "      <th>Contract_One year</th>\n",
       "      <th>Contract_Two year</th>\n",
       "      <th>PaperlessBilling_Yes</th>\n",
       "      <th>PaymentMethod_Credit card (automatic)</th>\n",
       "      <th>PaymentMethod_Electronic check</th>\n",
       "      <th>PaymentMethod_Mailed check</th>\n",
       "      <th>Churn_Yes</th>\n",
       "    </tr>\n",
       "  </thead>\n",
       "  <tbody>\n",
       "    <tr>\n",
       "      <th>0</th>\n",
       "      <td>0</td>\n",
       "      <td>1</td>\n",
       "      <td>29.85</td>\n",
       "      <td>29.85</td>\n",
       "      <td>0</td>\n",
       "      <td>1</td>\n",
       "      <td>0</td>\n",
       "      <td>0</td>\n",
       "      <td>1</td>\n",
       "      <td>0</td>\n",
       "      <td>...</td>\n",
       "      <td>0</td>\n",
       "      <td>0</td>\n",
       "      <td>0</td>\n",
       "      <td>0</td>\n",
       "      <td>0</td>\n",
       "      <td>1</td>\n",
       "      <td>0</td>\n",
       "      <td>1</td>\n",
       "      <td>0</td>\n",
       "      <td>0</td>\n",
       "    </tr>\n",
       "    <tr>\n",
       "      <th>1</th>\n",
       "      <td>0</td>\n",
       "      <td>34</td>\n",
       "      <td>56.95</td>\n",
       "      <td>1889.50</td>\n",
       "      <td>1</td>\n",
       "      <td>0</td>\n",
       "      <td>0</td>\n",
       "      <td>1</td>\n",
       "      <td>0</td>\n",
       "      <td>0</td>\n",
       "      <td>...</td>\n",
       "      <td>0</td>\n",
       "      <td>0</td>\n",
       "      <td>0</td>\n",
       "      <td>1</td>\n",
       "      <td>0</td>\n",
       "      <td>0</td>\n",
       "      <td>0</td>\n",
       "      <td>0</td>\n",
       "      <td>1</td>\n",
       "      <td>0</td>\n",
       "    </tr>\n",
       "    <tr>\n",
       "      <th>2</th>\n",
       "      <td>0</td>\n",
       "      <td>2</td>\n",
       "      <td>53.85</td>\n",
       "      <td>108.15</td>\n",
       "      <td>1</td>\n",
       "      <td>0</td>\n",
       "      <td>0</td>\n",
       "      <td>1</td>\n",
       "      <td>0</td>\n",
       "      <td>0</td>\n",
       "      <td>...</td>\n",
       "      <td>0</td>\n",
       "      <td>0</td>\n",
       "      <td>0</td>\n",
       "      <td>0</td>\n",
       "      <td>0</td>\n",
       "      <td>1</td>\n",
       "      <td>0</td>\n",
       "      <td>0</td>\n",
       "      <td>1</td>\n",
       "      <td>1</td>\n",
       "    </tr>\n",
       "    <tr>\n",
       "      <th>3</th>\n",
       "      <td>0</td>\n",
       "      <td>45</td>\n",
       "      <td>42.30</td>\n",
       "      <td>1840.75</td>\n",
       "      <td>1</td>\n",
       "      <td>0</td>\n",
       "      <td>0</td>\n",
       "      <td>0</td>\n",
       "      <td>1</td>\n",
       "      <td>0</td>\n",
       "      <td>...</td>\n",
       "      <td>0</td>\n",
       "      <td>0</td>\n",
       "      <td>0</td>\n",
       "      <td>1</td>\n",
       "      <td>0</td>\n",
       "      <td>0</td>\n",
       "      <td>0</td>\n",
       "      <td>0</td>\n",
       "      <td>0</td>\n",
       "      <td>0</td>\n",
       "    </tr>\n",
       "    <tr>\n",
       "      <th>4</th>\n",
       "      <td>0</td>\n",
       "      <td>2</td>\n",
       "      <td>70.70</td>\n",
       "      <td>151.65</td>\n",
       "      <td>0</td>\n",
       "      <td>0</td>\n",
       "      <td>0</td>\n",
       "      <td>1</td>\n",
       "      <td>0</td>\n",
       "      <td>0</td>\n",
       "      <td>...</td>\n",
       "      <td>0</td>\n",
       "      <td>0</td>\n",
       "      <td>0</td>\n",
       "      <td>0</td>\n",
       "      <td>0</td>\n",
       "      <td>1</td>\n",
       "      <td>0</td>\n",
       "      <td>1</td>\n",
       "      <td>0</td>\n",
       "      <td>1</td>\n",
       "    </tr>\n",
       "  </tbody>\n",
       "</table>\n",
       "<p>5 rows × 31 columns</p>\n",
       "</div>"
      ],
      "text/plain": [
       "   SeniorCitizen  tenure  MonthlyCharges  TotalCharges  gender_Male  \\\n",
       "0              0       1           29.85         29.85            0   \n",
       "1              0      34           56.95       1889.50            1   \n",
       "2              0       2           53.85        108.15            1   \n",
       "3              0      45           42.30       1840.75            1   \n",
       "4              0       2           70.70        151.65            0   \n",
       "\n",
       "   Partner_Yes  Dependents_Yes  PhoneService_Yes  \\\n",
       "0            1               0                 0   \n",
       "1            0               0                 1   \n",
       "2            0               0                 1   \n",
       "3            0               0                 0   \n",
       "4            0               0                 1   \n",
       "\n",
       "   MultipleLines_No phone service  MultipleLines_Yes  ...  StreamingTV_Yes  \\\n",
       "0                               1                  0  ...                0   \n",
       "1                               0                  0  ...                0   \n",
       "2                               0                  0  ...                0   \n",
       "3                               1                  0  ...                0   \n",
       "4                               0                  0  ...                0   \n",
       "\n",
       "   StreamingMovies_No internet service  StreamingMovies_Yes  \\\n",
       "0                                    0                    0   \n",
       "1                                    0                    0   \n",
       "2                                    0                    0   \n",
       "3                                    0                    0   \n",
       "4                                    0                    0   \n",
       "\n",
       "   Contract_One year  Contract_Two year  PaperlessBilling_Yes  \\\n",
       "0                  0                  0                     1   \n",
       "1                  1                  0                     0   \n",
       "2                  0                  0                     1   \n",
       "3                  1                  0                     0   \n",
       "4                  0                  0                     1   \n",
       "\n",
       "   PaymentMethod_Credit card (automatic)  PaymentMethod_Electronic check  \\\n",
       "0                                      0                               1   \n",
       "1                                      0                               0   \n",
       "2                                      0                               0   \n",
       "3                                      0                               0   \n",
       "4                                      0                               1   \n",
       "\n",
       "   PaymentMethod_Mailed check  Churn_Yes  \n",
       "0                           0          0  \n",
       "1                           1          0  \n",
       "2                           1          1  \n",
       "3                           0          0  \n",
       "4                           0          1  \n",
       "\n",
       "[5 rows x 31 columns]"
      ]
     },
     "execution_count": 56,
     "metadata": {},
     "output_type": "execute_result"
    }
   ],
   "source": [
    "telecom_reg =  pd.get_dummies(telecom_notna,drop_first=True)\n",
    "telecom_reg.head()"
   ]
  },
  {
   "cell_type": "code",
   "execution_count": 57,
   "id": "c0be1502",
   "metadata": {},
   "outputs": [],
   "source": [
    "# Importing library for data scaling."
   ]
  },
  {
   "cell_type": "code",
   "execution_count": 58,
   "id": "18f3d775",
   "metadata": {},
   "outputs": [],
   "source": [
    "from sklearn.preprocessing import MinMaxScaler"
   ]
  },
  {
   "cell_type": "code",
   "execution_count": 59,
   "id": "67a2fa7d",
   "metadata": {},
   "outputs": [],
   "source": [
    "scaler = MinMaxScaler()"
   ]
  },
  {
   "cell_type": "code",
   "execution_count": 60,
   "id": "df3815a6",
   "metadata": {},
   "outputs": [],
   "source": [
    "# Scaling the numerical data."
   ]
  },
  {
   "cell_type": "code",
   "execution_count": 61,
   "id": "b5b26667",
   "metadata": {},
   "outputs": [
    {
     "data": {
      "text/html": [
       "<div>\n",
       "<style scoped>\n",
       "    .dataframe tbody tr th:only-of-type {\n",
       "        vertical-align: middle;\n",
       "    }\n",
       "\n",
       "    .dataframe tbody tr th {\n",
       "        vertical-align: top;\n",
       "    }\n",
       "\n",
       "    .dataframe thead th {\n",
       "        text-align: right;\n",
       "    }\n",
       "</style>\n",
       "<table border=\"1\" class=\"dataframe\">\n",
       "  <thead>\n",
       "    <tr style=\"text-align: right;\">\n",
       "      <th></th>\n",
       "      <th>SeniorCitizen</th>\n",
       "      <th>tenure</th>\n",
       "      <th>MonthlyCharges</th>\n",
       "      <th>TotalCharges</th>\n",
       "      <th>gender_Male</th>\n",
       "      <th>Partner_Yes</th>\n",
       "      <th>Dependents_Yes</th>\n",
       "      <th>PhoneService_Yes</th>\n",
       "      <th>MultipleLines_No phone service</th>\n",
       "      <th>MultipleLines_Yes</th>\n",
       "      <th>...</th>\n",
       "      <th>StreamingTV_Yes</th>\n",
       "      <th>StreamingMovies_No internet service</th>\n",
       "      <th>StreamingMovies_Yes</th>\n",
       "      <th>Contract_One year</th>\n",
       "      <th>Contract_Two year</th>\n",
       "      <th>PaperlessBilling_Yes</th>\n",
       "      <th>PaymentMethod_Credit card (automatic)</th>\n",
       "      <th>PaymentMethod_Electronic check</th>\n",
       "      <th>PaymentMethod_Mailed check</th>\n",
       "      <th>Churn_Yes</th>\n",
       "    </tr>\n",
       "  </thead>\n",
       "  <tbody>\n",
       "    <tr>\n",
       "      <th>0</th>\n",
       "      <td>0.0</td>\n",
       "      <td>0.000000</td>\n",
       "      <td>0.115423</td>\n",
       "      <td>0.001275</td>\n",
       "      <td>0.0</td>\n",
       "      <td>1.0</td>\n",
       "      <td>0.0</td>\n",
       "      <td>0.0</td>\n",
       "      <td>1.0</td>\n",
       "      <td>0.0</td>\n",
       "      <td>...</td>\n",
       "      <td>0.0</td>\n",
       "      <td>0.0</td>\n",
       "      <td>0.0</td>\n",
       "      <td>0.0</td>\n",
       "      <td>0.0</td>\n",
       "      <td>1.0</td>\n",
       "      <td>0.0</td>\n",
       "      <td>1.0</td>\n",
       "      <td>0.0</td>\n",
       "      <td>0.0</td>\n",
       "    </tr>\n",
       "    <tr>\n",
       "      <th>1</th>\n",
       "      <td>0.0</td>\n",
       "      <td>0.464789</td>\n",
       "      <td>0.385075</td>\n",
       "      <td>0.215867</td>\n",
       "      <td>1.0</td>\n",
       "      <td>0.0</td>\n",
       "      <td>0.0</td>\n",
       "      <td>1.0</td>\n",
       "      <td>0.0</td>\n",
       "      <td>0.0</td>\n",
       "      <td>...</td>\n",
       "      <td>0.0</td>\n",
       "      <td>0.0</td>\n",
       "      <td>0.0</td>\n",
       "      <td>1.0</td>\n",
       "      <td>0.0</td>\n",
       "      <td>0.0</td>\n",
       "      <td>0.0</td>\n",
       "      <td>0.0</td>\n",
       "      <td>1.0</td>\n",
       "      <td>0.0</td>\n",
       "    </tr>\n",
       "    <tr>\n",
       "      <th>2</th>\n",
       "      <td>0.0</td>\n",
       "      <td>0.014085</td>\n",
       "      <td>0.354229</td>\n",
       "      <td>0.010310</td>\n",
       "      <td>1.0</td>\n",
       "      <td>0.0</td>\n",
       "      <td>0.0</td>\n",
       "      <td>1.0</td>\n",
       "      <td>0.0</td>\n",
       "      <td>0.0</td>\n",
       "      <td>...</td>\n",
       "      <td>0.0</td>\n",
       "      <td>0.0</td>\n",
       "      <td>0.0</td>\n",
       "      <td>0.0</td>\n",
       "      <td>0.0</td>\n",
       "      <td>1.0</td>\n",
       "      <td>0.0</td>\n",
       "      <td>0.0</td>\n",
       "      <td>1.0</td>\n",
       "      <td>1.0</td>\n",
       "    </tr>\n",
       "    <tr>\n",
       "      <th>3</th>\n",
       "      <td>0.0</td>\n",
       "      <td>0.619718</td>\n",
       "      <td>0.239303</td>\n",
       "      <td>0.210241</td>\n",
       "      <td>1.0</td>\n",
       "      <td>0.0</td>\n",
       "      <td>0.0</td>\n",
       "      <td>0.0</td>\n",
       "      <td>1.0</td>\n",
       "      <td>0.0</td>\n",
       "      <td>...</td>\n",
       "      <td>0.0</td>\n",
       "      <td>0.0</td>\n",
       "      <td>0.0</td>\n",
       "      <td>1.0</td>\n",
       "      <td>0.0</td>\n",
       "      <td>0.0</td>\n",
       "      <td>0.0</td>\n",
       "      <td>0.0</td>\n",
       "      <td>0.0</td>\n",
       "      <td>0.0</td>\n",
       "    </tr>\n",
       "    <tr>\n",
       "      <th>4</th>\n",
       "      <td>0.0</td>\n",
       "      <td>0.014085</td>\n",
       "      <td>0.521891</td>\n",
       "      <td>0.015330</td>\n",
       "      <td>0.0</td>\n",
       "      <td>0.0</td>\n",
       "      <td>0.0</td>\n",
       "      <td>1.0</td>\n",
       "      <td>0.0</td>\n",
       "      <td>0.0</td>\n",
       "      <td>...</td>\n",
       "      <td>0.0</td>\n",
       "      <td>0.0</td>\n",
       "      <td>0.0</td>\n",
       "      <td>0.0</td>\n",
       "      <td>0.0</td>\n",
       "      <td>1.0</td>\n",
       "      <td>0.0</td>\n",
       "      <td>1.0</td>\n",
       "      <td>0.0</td>\n",
       "      <td>1.0</td>\n",
       "    </tr>\n",
       "    <tr>\n",
       "      <th>...</th>\n",
       "      <td>...</td>\n",
       "      <td>...</td>\n",
       "      <td>...</td>\n",
       "      <td>...</td>\n",
       "      <td>...</td>\n",
       "      <td>...</td>\n",
       "      <td>...</td>\n",
       "      <td>...</td>\n",
       "      <td>...</td>\n",
       "      <td>...</td>\n",
       "      <td>...</td>\n",
       "      <td>...</td>\n",
       "      <td>...</td>\n",
       "      <td>...</td>\n",
       "      <td>...</td>\n",
       "      <td>...</td>\n",
       "      <td>...</td>\n",
       "      <td>...</td>\n",
       "      <td>...</td>\n",
       "      <td>...</td>\n",
       "      <td>...</td>\n",
       "    </tr>\n",
       "    <tr>\n",
       "      <th>7027</th>\n",
       "      <td>0.0</td>\n",
       "      <td>0.323944</td>\n",
       "      <td>0.662189</td>\n",
       "      <td>0.227521</td>\n",
       "      <td>1.0</td>\n",
       "      <td>1.0</td>\n",
       "      <td>1.0</td>\n",
       "      <td>1.0</td>\n",
       "      <td>0.0</td>\n",
       "      <td>1.0</td>\n",
       "      <td>...</td>\n",
       "      <td>1.0</td>\n",
       "      <td>0.0</td>\n",
       "      <td>1.0</td>\n",
       "      <td>1.0</td>\n",
       "      <td>0.0</td>\n",
       "      <td>1.0</td>\n",
       "      <td>0.0</td>\n",
       "      <td>0.0</td>\n",
       "      <td>1.0</td>\n",
       "      <td>0.0</td>\n",
       "    </tr>\n",
       "    <tr>\n",
       "      <th>7028</th>\n",
       "      <td>0.0</td>\n",
       "      <td>1.000000</td>\n",
       "      <td>0.845274</td>\n",
       "      <td>0.847461</td>\n",
       "      <td>0.0</td>\n",
       "      <td>1.0</td>\n",
       "      <td>1.0</td>\n",
       "      <td>1.0</td>\n",
       "      <td>0.0</td>\n",
       "      <td>1.0</td>\n",
       "      <td>...</td>\n",
       "      <td>1.0</td>\n",
       "      <td>0.0</td>\n",
       "      <td>1.0</td>\n",
       "      <td>1.0</td>\n",
       "      <td>0.0</td>\n",
       "      <td>1.0</td>\n",
       "      <td>1.0</td>\n",
       "      <td>0.0</td>\n",
       "      <td>0.0</td>\n",
       "      <td>0.0</td>\n",
       "    </tr>\n",
       "    <tr>\n",
       "      <th>7029</th>\n",
       "      <td>0.0</td>\n",
       "      <td>0.140845</td>\n",
       "      <td>0.112935</td>\n",
       "      <td>0.037809</td>\n",
       "      <td>0.0</td>\n",
       "      <td>1.0</td>\n",
       "      <td>1.0</td>\n",
       "      <td>0.0</td>\n",
       "      <td>1.0</td>\n",
       "      <td>0.0</td>\n",
       "      <td>...</td>\n",
       "      <td>0.0</td>\n",
       "      <td>0.0</td>\n",
       "      <td>0.0</td>\n",
       "      <td>0.0</td>\n",
       "      <td>0.0</td>\n",
       "      <td>1.0</td>\n",
       "      <td>0.0</td>\n",
       "      <td>1.0</td>\n",
       "      <td>0.0</td>\n",
       "      <td>0.0</td>\n",
       "    </tr>\n",
       "    <tr>\n",
       "      <th>7030</th>\n",
       "      <td>1.0</td>\n",
       "      <td>0.042254</td>\n",
       "      <td>0.558706</td>\n",
       "      <td>0.033210</td>\n",
       "      <td>1.0</td>\n",
       "      <td>1.0</td>\n",
       "      <td>0.0</td>\n",
       "      <td>1.0</td>\n",
       "      <td>0.0</td>\n",
       "      <td>1.0</td>\n",
       "      <td>...</td>\n",
       "      <td>0.0</td>\n",
       "      <td>0.0</td>\n",
       "      <td>0.0</td>\n",
       "      <td>0.0</td>\n",
       "      <td>0.0</td>\n",
       "      <td>1.0</td>\n",
       "      <td>0.0</td>\n",
       "      <td>0.0</td>\n",
       "      <td>1.0</td>\n",
       "      <td>1.0</td>\n",
       "    </tr>\n",
       "    <tr>\n",
       "      <th>7031</th>\n",
       "      <td>0.0</td>\n",
       "      <td>0.915493</td>\n",
       "      <td>0.869652</td>\n",
       "      <td>0.787641</td>\n",
       "      <td>1.0</td>\n",
       "      <td>0.0</td>\n",
       "      <td>0.0</td>\n",
       "      <td>1.0</td>\n",
       "      <td>0.0</td>\n",
       "      <td>0.0</td>\n",
       "      <td>...</td>\n",
       "      <td>1.0</td>\n",
       "      <td>0.0</td>\n",
       "      <td>1.0</td>\n",
       "      <td>0.0</td>\n",
       "      <td>1.0</td>\n",
       "      <td>1.0</td>\n",
       "      <td>0.0</td>\n",
       "      <td>0.0</td>\n",
       "      <td>0.0</td>\n",
       "      <td>0.0</td>\n",
       "    </tr>\n",
       "  </tbody>\n",
       "</table>\n",
       "<p>7032 rows × 31 columns</p>\n",
       "</div>"
      ],
      "text/plain": [
       "      SeniorCitizen    tenure  MonthlyCharges  TotalCharges  gender_Male  \\\n",
       "0               0.0  0.000000        0.115423      0.001275          0.0   \n",
       "1               0.0  0.464789        0.385075      0.215867          1.0   \n",
       "2               0.0  0.014085        0.354229      0.010310          1.0   \n",
       "3               0.0  0.619718        0.239303      0.210241          1.0   \n",
       "4               0.0  0.014085        0.521891      0.015330          0.0   \n",
       "...             ...       ...             ...           ...          ...   \n",
       "7027            0.0  0.323944        0.662189      0.227521          1.0   \n",
       "7028            0.0  1.000000        0.845274      0.847461          0.0   \n",
       "7029            0.0  0.140845        0.112935      0.037809          0.0   \n",
       "7030            1.0  0.042254        0.558706      0.033210          1.0   \n",
       "7031            0.0  0.915493        0.869652      0.787641          1.0   \n",
       "\n",
       "      Partner_Yes  Dependents_Yes  PhoneService_Yes  \\\n",
       "0             1.0             0.0               0.0   \n",
       "1             0.0             0.0               1.0   \n",
       "2             0.0             0.0               1.0   \n",
       "3             0.0             0.0               0.0   \n",
       "4             0.0             0.0               1.0   \n",
       "...           ...             ...               ...   \n",
       "7027          1.0             1.0               1.0   \n",
       "7028          1.0             1.0               1.0   \n",
       "7029          1.0             1.0               0.0   \n",
       "7030          1.0             0.0               1.0   \n",
       "7031          0.0             0.0               1.0   \n",
       "\n",
       "      MultipleLines_No phone service  MultipleLines_Yes  ...  StreamingTV_Yes  \\\n",
       "0                                1.0                0.0  ...              0.0   \n",
       "1                                0.0                0.0  ...              0.0   \n",
       "2                                0.0                0.0  ...              0.0   \n",
       "3                                1.0                0.0  ...              0.0   \n",
       "4                                0.0                0.0  ...              0.0   \n",
       "...                              ...                ...  ...              ...   \n",
       "7027                             0.0                1.0  ...              1.0   \n",
       "7028                             0.0                1.0  ...              1.0   \n",
       "7029                             1.0                0.0  ...              0.0   \n",
       "7030                             0.0                1.0  ...              0.0   \n",
       "7031                             0.0                0.0  ...              1.0   \n",
       "\n",
       "      StreamingMovies_No internet service  StreamingMovies_Yes  \\\n",
       "0                                     0.0                  0.0   \n",
       "1                                     0.0                  0.0   \n",
       "2                                     0.0                  0.0   \n",
       "3                                     0.0                  0.0   \n",
       "4                                     0.0                  0.0   \n",
       "...                                   ...                  ...   \n",
       "7027                                  0.0                  1.0   \n",
       "7028                                  0.0                  1.0   \n",
       "7029                                  0.0                  0.0   \n",
       "7030                                  0.0                  0.0   \n",
       "7031                                  0.0                  1.0   \n",
       "\n",
       "      Contract_One year  Contract_Two year  PaperlessBilling_Yes  \\\n",
       "0                   0.0                0.0                   1.0   \n",
       "1                   1.0                0.0                   0.0   \n",
       "2                   0.0                0.0                   1.0   \n",
       "3                   1.0                0.0                   0.0   \n",
       "4                   0.0                0.0                   1.0   \n",
       "...                 ...                ...                   ...   \n",
       "7027                1.0                0.0                   1.0   \n",
       "7028                1.0                0.0                   1.0   \n",
       "7029                0.0                0.0                   1.0   \n",
       "7030                0.0                0.0                   1.0   \n",
       "7031                0.0                1.0                   1.0   \n",
       "\n",
       "      PaymentMethod_Credit card (automatic)  PaymentMethod_Electronic check  \\\n",
       "0                                       0.0                             1.0   \n",
       "1                                       0.0                             0.0   \n",
       "2                                       0.0                             0.0   \n",
       "3                                       0.0                             0.0   \n",
       "4                                       0.0                             1.0   \n",
       "...                                     ...                             ...   \n",
       "7027                                    0.0                             0.0   \n",
       "7028                                    1.0                             0.0   \n",
       "7029                                    0.0                             1.0   \n",
       "7030                                    0.0                             0.0   \n",
       "7031                                    0.0                             0.0   \n",
       "\n",
       "      PaymentMethod_Mailed check  Churn_Yes  \n",
       "0                            0.0        0.0  \n",
       "1                            1.0        0.0  \n",
       "2                            1.0        1.0  \n",
       "3                            0.0        0.0  \n",
       "4                            0.0        1.0  \n",
       "...                          ...        ...  \n",
       "7027                         1.0        0.0  \n",
       "7028                         0.0        0.0  \n",
       "7029                         0.0        0.0  \n",
       "7030                         1.0        1.0  \n",
       "7031                         0.0        0.0  \n",
       "\n",
       "[7032 rows x 31 columns]"
      ]
     },
     "execution_count": 61,
     "metadata": {},
     "output_type": "execute_result"
    }
   ],
   "source": [
    "telecom_reg_scaled=pd.DataFrame((scaler.fit_transform(telecom_reg)),columns=telecom_reg.columns)\n",
    "telecom_reg_scaled"
   ]
  },
  {
   "cell_type": "code",
   "execution_count": 62,
   "id": "d640f642",
   "metadata": {},
   "outputs": [],
   "source": [
    "# Checking the Churn data"
   ]
  },
  {
   "cell_type": "code",
   "execution_count": 63,
   "id": "d5c2a3e1",
   "metadata": {},
   "outputs": [
    {
     "data": {
      "text/plain": [
       "0.0    5163\n",
       "1.0    1869\n",
       "Name: Churn_Yes, dtype: int64"
      ]
     },
     "execution_count": 63,
     "metadata": {},
     "output_type": "execute_result"
    }
   ],
   "source": [
    "telecom_reg_scaled.Churn_Yes.value_counts()"
   ]
  },
  {
   "cell_type": "code",
   "execution_count": 64,
   "id": "1e898754",
   "metadata": {},
   "outputs": [
    {
     "data": {
      "text/plain": [
       "0.0    73.421502\n",
       "1.0    26.578498\n",
       "Name: Churn_Yes, dtype: float64"
      ]
     },
     "execution_count": 64,
     "metadata": {},
     "output_type": "execute_result"
    }
   ],
   "source": [
    "(telecom_reg_scaled.Churn_Yes.value_counts()/(len(telecom_reg_scaled)))*100"
   ]
  },
  {
   "cell_type": "code",
   "execution_count": 65,
   "id": "98a9dbfe",
   "metadata": {},
   "outputs": [],
   "source": [
    "# The churn column states that approximately 73% customers in this dataset are non-churned and 27% are churned customers.\n",
    "# Hence, there is a class imbalance."
   ]
  },
  {
   "cell_type": "code",
   "execution_count": 66,
   "id": "0dcd6158",
   "metadata": {},
   "outputs": [],
   "source": [
    "# First, let us get a baseline regression model."
   ]
  },
  {
   "cell_type": "code",
   "execution_count": 67,
   "id": "97e46bc7",
   "metadata": {},
   "outputs": [],
   "source": [
    "# Splitting the DataFrame into dependent and independent variables."
   ]
  },
  {
   "cell_type": "code",
   "execution_count": 68,
   "id": "9261ac9a",
   "metadata": {},
   "outputs": [],
   "source": [
    "y=telecom_reg_scaled.Churn_Yes\n",
    "x=telecom_reg_scaled.drop('Churn_Yes',axis=1)"
   ]
  },
  {
   "cell_type": "code",
   "execution_count": 69,
   "id": "fd9932ce",
   "metadata": {},
   "outputs": [],
   "source": [
    "# Splitting the variables into train and test data."
   ]
  },
  {
   "cell_type": "code",
   "execution_count": 70,
   "id": "07d5b76e",
   "metadata": {},
   "outputs": [],
   "source": [
    "from sklearn.model_selection import train_test_split\n",
    "x_train,x_test,y_train,y_test=train_test_split(x,y,random_state=0,test_size=0.2)"
   ]
  },
  {
   "cell_type": "code",
   "execution_count": 71,
   "id": "546e53f7",
   "metadata": {},
   "outputs": [],
   "source": [
    "# Importing libraries needed for logistic regression."
   ]
  },
  {
   "cell_type": "code",
   "execution_count": 72,
   "id": "a36092b1",
   "metadata": {},
   "outputs": [],
   "source": [
    "from sklearn.linear_model import LogisticRegression\n",
    "from sklearn.metrics import accuracy_score\n",
    "from sklearn.linear_model import LinearRegression\n",
    "from sklearn.model_selection import train_test_split\n",
    "from sklearn.metrics import r2_score\n",
    "from sklearn import linear_model\n",
    "from sklearn import metrics"
   ]
  },
  {
   "cell_type": "code",
   "execution_count": 74,
   "id": "1ecd4c66",
   "metadata": {},
   "outputs": [],
   "source": [
    "# Fitting the train data on the logistic regression model."
   ]
  },
  {
   "cell_type": "code",
   "execution_count": 81,
   "id": "f717fdd6",
   "metadata": {},
   "outputs": [
    {
     "name": "stdout",
     "output_type": "stream",
     "text": [
      "accuracy: 80.51555555555555%\n"
     ]
    }
   ],
   "source": [
    "reg=linear_model.LogisticRegression()\n",
    "reg.fit(x_train,y_train)\n",
    "y_pred=reg.predict(x_train)\n",
    "print(\"accuracy: \"+ str(reg.score(x_train,y_train)*100) + \"%\")"
   ]
  },
  {
   "cell_type": "code",
   "execution_count": 76,
   "id": "3a6db30b",
   "metadata": {},
   "outputs": [],
   "source": [
    "# Confusion matrix."
   ]
  },
  {
   "cell_type": "code",
   "execution_count": 82,
   "id": "c38b3825",
   "metadata": {},
   "outputs": [
    {
     "data": {
      "text/plain": [
       "array([[3701,  424],\n",
       "       [ 672,  828]], dtype=int64)"
      ]
     },
     "execution_count": 82,
     "metadata": {},
     "output_type": "execute_result"
    }
   ],
   "source": [
    "cm = metrics.confusion_matrix(y_train, y_pred)\n",
    "cm"
   ]
  },
  {
   "cell_type": "code",
   "execution_count": 78,
   "id": "7a8269e5",
   "metadata": {},
   "outputs": [],
   "source": [
    "# Visualizing the confusion matrix."
   ]
  },
  {
   "cell_type": "code",
   "execution_count": 83,
   "id": "7e35376c",
   "metadata": {},
   "outputs": [
    {
     "data": {
      "image/png": "[encoded data removed]",
      "text/plain": [
       "<Figure size 648x648 with 2 Axes>"
      ]
     },
     "metadata": {
      "needs_background": "light"
     },
     "output_type": "display_data"
    }
   ],
   "source": [
    "plt.figure(figsize=(9,9))\n",
    "sns.heatmap(cm, annot=True, fmt=\".3f\", linewidths=.5, square = True, cmap = 'Blues_r');\n",
    "plt.ylabel('Actual label');\n",
    "plt.xlabel('Predicted label');\n",
    "all_sample_title = 'Accuracy Score: {0}'.format(reg.score(x_train,y_train))\n",
    "plt.title(all_sample_title, size = 15);"
   ]
  },
  {
   "cell_type": "code",
   "execution_count": 84,
   "id": "738564eb",
   "metadata": {},
   "outputs": [
    {
     "name": "stdout",
     "output_type": "stream",
     "text": [
      "Accuracy: 0.8051555555555555\n",
      "Precision: 0.6613418530351438\n",
      "Recall: 0.552\n",
      "F1 Score: 0.7992193329575038\n"
     ]
    }
   ],
   "source": [
    "print(\"Accuracy:\",metrics.accuracy_score(y_train, y_pred))\n",
    "print(\"Precision:\",metrics.precision_score(y_train, y_pred))\n",
    "print(\"Recall:\",metrics.recall_score(y_train, y_pred))\n",
    "print(\"F1 Score:\",metrics.f1_score(y_train, y_pred,average=\"weighted\"))"
   ]
  },
  {
   "cell_type": "code",
   "execution_count": null,
   "id": "83b4ce28",
   "metadata": {},
   "outputs": [],
   "source": [
    "# Test Data"
   ]
  },
  {
   "cell_type": "code",
   "execution_count": 85,
   "id": "54e1c15c",
   "metadata": {},
   "outputs": [
    {
     "name": "stdout",
     "output_type": "stream",
     "text": [
      "accuracy: 80.31272210376687%\n"
     ]
    }
   ],
   "source": [
    "y_pred1=reg.predict(x_test)\n",
    "print(\"accuracy: \"+ str(reg.score(x_test,y_test)*100) + \"%\")"
   ]
  },
  {
   "cell_type": "code",
   "execution_count": 86,
   "id": "5e093187",
   "metadata": {},
   "outputs": [
    {
     "data": {
      "text/plain": [
       "array([[933, 105],\n",
       "       [172, 197]], dtype=int64)"
      ]
     },
     "execution_count": 86,
     "metadata": {},
     "output_type": "execute_result"
    }
   ],
   "source": [
    "cm1 = metrics.confusion_matrix(y_test, y_pred1)\n",
    "cm1"
   ]
  },
  {
   "cell_type": "code",
   "execution_count": 87,
   "id": "09f61bd8",
   "metadata": {},
   "outputs": [
    {
     "data": {
      "image/png": "[encoded data removed]",
      "text/plain": [
       "<Figure size 648x648 with 2 Axes>"
      ]
     },
     "metadata": {
      "needs_background": "light"
     },
     "output_type": "display_data"
    }
   ],
   "source": [
    "plt.figure(figsize=(9,9))\n",
    "sns.heatmap(cm1, annot=True, fmt=\".3f\", linewidths=.5, square = True, cmap = 'Blues_r');\n",
    "plt.ylabel('Actual label');\n",
    "plt.xlabel('Predicted label');\n",
    "all_sample_title = 'Accuracy Score: {0}'.format(reg.score(x_test,y_test))\n",
    "plt.title(all_sample_title, size = 15);"
   ]
  },
  {
   "cell_type": "code",
   "execution_count": 88,
   "id": "9d533a53",
   "metadata": {},
   "outputs": [
    {
     "name": "stdout",
     "output_type": "stream",
     "text": [
      "Accuracy: 0.8031272210376688\n",
      "Precision: 0.652317880794702\n",
      "Recall: 0.5338753387533876\n",
      "F1 Score: 0.7963758247985773\n"
     ]
    }
   ],
   "source": [
    "print(\"Accuracy:\",metrics.accuracy_score(y_test, y_pred1))\n",
    "print(\"Precision:\",metrics.precision_score(y_test, y_pred1))\n",
    "print(\"Recall:\",metrics.recall_score(y_test, y_pred1))\n",
    "print(\"F1 Score:\",metrics.f1_score(y_test, y_pred1,average=\"weighted\"))"
   ]
  },
  {
   "cell_type": "code",
   "execution_count": 89,
   "id": "e4e3f57f",
   "metadata": {},
   "outputs": [],
   "source": [
    "# Accuracy of Logistic Regression is 80%. Recall is 53% and F1 score seems to be a healthy 79%.\n",
    "\n",
    "# Since we are dealing with Churned customers, we need to increase the Recall score as not to wrongly\n",
    "# predict churned customers as non-churned.\n",
    "\n",
    "# If the incorrect predictions of churned customers as non-churned as reduced, the company can target the other customers\n",
    "# with techniques to reduce Churn."
   ]
  },
  {
   "cell_type": "code",
   "execution_count": 90,
   "id": "afd5eea8",
   "metadata": {},
   "outputs": [],
   "source": [
    "# The coefficients of all features"
   ]
  },
  {
   "cell_type": "code",
   "execution_count": 91,
   "id": "f4114444",
   "metadata": {},
   "outputs": [
    {
     "data": {
      "text/plain": [
       "array([ 0.26555854, -3.27425277, -0.10535203,  1.28365151,  0.02160708,\n",
       "        0.03074747, -0.21034774, -0.24520251,  0.23860343,  0.2699405 ,\n",
       "        0.82356518, -0.10343056, -0.10343056, -0.31117891, -0.10343056,\n",
       "       -0.15460113, -0.10343056,  0.0756598 , -0.10343056, -0.34677735,\n",
       "       -0.10343056,  0.17936265, -0.10343056,  0.27339417, -0.65282753,\n",
       "       -1.36462371,  0.36397265, -0.18633771,  0.3502069 , -0.05324765])"
      ]
     },
     "execution_count": 91,
     "metadata": {},
     "output_type": "execute_result"
    }
   ],
   "source": [
    "reg.coef_[0]"
   ]
  },
  {
   "cell_type": "code",
   "execution_count": 92,
   "id": "e0002d0f",
   "metadata": {},
   "outputs": [],
   "source": [
    "feature_imp = pd.DataFrame(data={\n",
    "    'Attribute': x_train.columns,\n",
    "    'Importance': reg.coef_[0]})"
   ]
  },
  {
   "cell_type": "code",
   "execution_count": 93,
   "id": "ee7989e3",
   "metadata": {},
   "outputs": [],
   "source": [
    "feature_imp = feature_imp.sort_values(by='Importance',ascending=False)"
   ]
  },
  {
   "cell_type": "code",
   "execution_count": 94,
   "id": "6352e5bb",
   "metadata": {},
   "outputs": [],
   "source": [
    "# Plotting all the features in descending order of their importance."
   ]
  },
  {
   "cell_type": "code",
   "execution_count": 95,
   "id": "4b3a1bf1",
   "metadata": {},
   "outputs": [
    {
     "data": {
      "image/png": "[encoded data removed]",
      "text/plain": [
       "<Figure size 432x288 with 1 Axes>"
      ]
     },
     "metadata": {
      "needs_background": "light"
     },
     "output_type": "display_data"
    }
   ],
   "source": [
    "plt.bar(x=feature_imp['Attribute'], height=feature_imp['Importance'])\n",
    "plt.title('Feature importances obtained from coefficients', size=20)\n",
    "plt.xticks(rotation='vertical')\n",
    "plt.show()"
   ]
  },
  {
   "cell_type": "code",
   "execution_count": 96,
   "id": "118d9c50",
   "metadata": {},
   "outputs": [],
   "source": [
    "# Below are the features that affect the data the most."
   ]
  },
  {
   "cell_type": "code",
   "execution_count": 97,
   "id": "8c4a2d3e",
   "metadata": {},
   "outputs": [
    {
     "name": "stdout",
     "output_type": "stream",
     "text": [
      "                         Attribute  Importance\n",
      "3                     TotalCharges    1.283652\n",
      "10     InternetService_Fiber optic    0.823565\n",
      "26            PaperlessBilling_Yes    0.363973\n",
      "28  PaymentMethod_Electronic check    0.350207\n",
      "             Attribute  Importance\n",
      "13  OnlineSecurity_Yes   -0.311179\n",
      "19     TechSupport_Yes   -0.346777\n",
      "24   Contract_One year   -0.652828\n",
      "25   Contract_Two year   -1.364624\n",
      "1               tenure   -3.274253\n"
     ]
    }
   ],
   "source": [
    "print((feature_imp.loc[feature_imp.Importance>=0.3]))\n",
    "print((feature_imp.loc[feature_imp.Importance<=(-0.3)]))"
   ]
  },
  {
   "cell_type": "code",
   "execution_count": 98,
   "id": "2f156f94",
   "metadata": {},
   "outputs": [
    {
     "data": {
      "text/plain": [
       "Index(['gender', 'SeniorCitizen', 'Partner', 'Dependents', 'tenure',\n",
       "       'PhoneService', 'MultipleLines', 'InternetService', 'OnlineSecurity',\n",
       "       'OnlineBackup', 'DeviceProtection', 'TechSupport', 'StreamingTV',\n",
       "       'StreamingMovies', 'Contract', 'PaperlessBilling', 'PaymentMethod',\n",
       "       'MonthlyCharges', 'TotalCharges', 'Churn'],\n",
       "      dtype='object')"
      ]
     },
     "execution_count": 98,
     "metadata": {},
     "output_type": "execute_result"
    }
   ],
   "source": [
    "telecom_notna.columns"
   ]
  },
  {
   "cell_type": "code",
   "execution_count": 99,
   "id": "a758aca6",
   "metadata": {},
   "outputs": [],
   "source": [
    "# Filtering the important columns to a new dataset."
   ]
  },
  {
   "cell_type": "code",
   "execution_count": 100,
   "id": "e006cb64",
   "metadata": {},
   "outputs": [],
   "source": [
    "telecom_new_notna = telecom_notna.filter(['TotalCharges','InternetService','PaperlessBilling','PaymentMethod','OnlineSecurity','TechSupport','Contract','tenure','Churn'])"
   ]
  },
  {
   "cell_type": "code",
   "execution_count": 101,
   "id": "cf685450",
   "metadata": {
    "scrolled": true
   },
   "outputs": [
    {
     "data": {
      "text/html": [
       "<div>\n",
       "<style scoped>\n",
       "    .dataframe tbody tr th:only-of-type {\n",
       "        vertical-align: middle;\n",
       "    }\n",
       "\n",
       "    .dataframe tbody tr th {\n",
       "        vertical-align: top;\n",
       "    }\n",
       "\n",
       "    .dataframe thead th {\n",
       "        text-align: right;\n",
       "    }\n",
       "</style>\n",
       "<table border=\"1\" class=\"dataframe\">\n",
       "  <thead>\n",
       "    <tr style=\"text-align: right;\">\n",
       "      <th></th>\n",
       "      <th>TotalCharges</th>\n",
       "      <th>tenure</th>\n",
       "      <th>InternetService_Fiber optic</th>\n",
       "      <th>InternetService_No</th>\n",
       "      <th>PaperlessBilling_Yes</th>\n",
       "      <th>PaymentMethod_Credit card (automatic)</th>\n",
       "      <th>PaymentMethod_Electronic check</th>\n",
       "      <th>PaymentMethod_Mailed check</th>\n",
       "      <th>OnlineSecurity_No internet service</th>\n",
       "      <th>OnlineSecurity_Yes</th>\n",
       "      <th>TechSupport_No internet service</th>\n",
       "      <th>TechSupport_Yes</th>\n",
       "      <th>Contract_One year</th>\n",
       "      <th>Contract_Two year</th>\n",
       "      <th>Churn_Yes</th>\n",
       "    </tr>\n",
       "  </thead>\n",
       "  <tbody>\n",
       "    <tr>\n",
       "      <th>0</th>\n",
       "      <td>29.85</td>\n",
       "      <td>1</td>\n",
       "      <td>0</td>\n",
       "      <td>0</td>\n",
       "      <td>1</td>\n",
       "      <td>0</td>\n",
       "      <td>1</td>\n",
       "      <td>0</td>\n",
       "      <td>0</td>\n",
       "      <td>0</td>\n",
       "      <td>0</td>\n",
       "      <td>0</td>\n",
       "      <td>0</td>\n",
       "      <td>0</td>\n",
       "      <td>0</td>\n",
       "    </tr>\n",
       "    <tr>\n",
       "      <th>1</th>\n",
       "      <td>1889.50</td>\n",
       "      <td>34</td>\n",
       "      <td>0</td>\n",
       "      <td>0</td>\n",
       "      <td>0</td>\n",
       "      <td>0</td>\n",
       "      <td>0</td>\n",
       "      <td>1</td>\n",
       "      <td>0</td>\n",
       "      <td>1</td>\n",
       "      <td>0</td>\n",
       "      <td>0</td>\n",
       "      <td>1</td>\n",
       "      <td>0</td>\n",
       "      <td>0</td>\n",
       "    </tr>\n",
       "    <tr>\n",
       "      <th>2</th>\n",
       "      <td>108.15</td>\n",
       "      <td>2</td>\n",
       "      <td>0</td>\n",
       "      <td>0</td>\n",
       "      <td>1</td>\n",
       "      <td>0</td>\n",
       "      <td>0</td>\n",
       "      <td>1</td>\n",
       "      <td>0</td>\n",
       "      <td>1</td>\n",
       "      <td>0</td>\n",
       "      <td>0</td>\n",
       "      <td>0</td>\n",
       "      <td>0</td>\n",
       "      <td>1</td>\n",
       "    </tr>\n",
       "    <tr>\n",
       "      <th>3</th>\n",
       "      <td>1840.75</td>\n",
       "      <td>45</td>\n",
       "      <td>0</td>\n",
       "      <td>0</td>\n",
       "      <td>0</td>\n",
       "      <td>0</td>\n",
       "      <td>0</td>\n",
       "      <td>0</td>\n",
       "      <td>0</td>\n",
       "      <td>1</td>\n",
       "      <td>0</td>\n",
       "      <td>1</td>\n",
       "      <td>1</td>\n",
       "      <td>0</td>\n",
       "      <td>0</td>\n",
       "    </tr>\n",
       "    <tr>\n",
       "      <th>4</th>\n",
       "      <td>151.65</td>\n",
       "      <td>2</td>\n",
       "      <td>1</td>\n",
       "      <td>0</td>\n",
       "      <td>1</td>\n",
       "      <td>0</td>\n",
       "      <td>1</td>\n",
       "      <td>0</td>\n",
       "      <td>0</td>\n",
       "      <td>0</td>\n",
       "      <td>0</td>\n",
       "      <td>0</td>\n",
       "      <td>0</td>\n",
       "      <td>0</td>\n",
       "      <td>1</td>\n",
       "    </tr>\n",
       "  </tbody>\n",
       "</table>\n",
       "</div>"
      ],
      "text/plain": [
       "   TotalCharges  tenure  InternetService_Fiber optic  InternetService_No  \\\n",
       "0         29.85       1                            0                   0   \n",
       "1       1889.50      34                            0                   0   \n",
       "2        108.15       2                            0                   0   \n",
       "3       1840.75      45                            0                   0   \n",
       "4        151.65       2                            1                   0   \n",
       "\n",
       "   PaperlessBilling_Yes  PaymentMethod_Credit card (automatic)  \\\n",
       "0                     1                                      0   \n",
       "1                     0                                      0   \n",
       "2                     1                                      0   \n",
       "3                     0                                      0   \n",
       "4                     1                                      0   \n",
       "\n",
       "   PaymentMethod_Electronic check  PaymentMethod_Mailed check  \\\n",
       "0                               1                           0   \n",
       "1                               0                           1   \n",
       "2                               0                           1   \n",
       "3                               0                           0   \n",
       "4                               1                           0   \n",
       "\n",
       "   OnlineSecurity_No internet service  OnlineSecurity_Yes  \\\n",
       "0                                   0                   0   \n",
       "1                                   0                   1   \n",
       "2                                   0                   1   \n",
       "3                                   0                   1   \n",
       "4                                   0                   0   \n",
       "\n",
       "   TechSupport_No internet service  TechSupport_Yes  Contract_One year  \\\n",
       "0                                0                0                  0   \n",
       "1                                0                0                  1   \n",
       "2                                0                0                  0   \n",
       "3                                0                1                  1   \n",
       "4                                0                0                  0   \n",
       "\n",
       "   Contract_Two year  Churn_Yes  \n",
       "0                  0          0  \n",
       "1                  0          0  \n",
       "2                  0          1  \n",
       "3                  0          0  \n",
       "4                  0          1  "
      ]
     },
     "execution_count": 101,
     "metadata": {},
     "output_type": "execute_result"
    }
   ],
   "source": [
    "telecom_new_reg =  pd.get_dummies(telecom_new_notna,drop_first=True)\n",
    "telecom_new_reg.head()"
   ]
  },
  {
   "cell_type": "code",
   "execution_count": 102,
   "id": "86acf7c5",
   "metadata": {},
   "outputs": [
    {
     "data": {
      "text/html": [
       "<div>\n",
       "<style scoped>\n",
       "    .dataframe tbody tr th:only-of-type {\n",
       "        vertical-align: middle;\n",
       "    }\n",
       "\n",
       "    .dataframe tbody tr th {\n",
       "        vertical-align: top;\n",
       "    }\n",
       "\n",
       "    .dataframe thead th {\n",
       "        text-align: right;\n",
       "    }\n",
       "</style>\n",
       "<table border=\"1\" class=\"dataframe\">\n",
       "  <thead>\n",
       "    <tr style=\"text-align: right;\">\n",
       "      <th></th>\n",
       "      <th>TotalCharges</th>\n",
       "      <th>tenure</th>\n",
       "      <th>InternetService_Fiber optic</th>\n",
       "      <th>InternetService_No</th>\n",
       "      <th>PaperlessBilling_Yes</th>\n",
       "      <th>PaymentMethod_Credit card (automatic)</th>\n",
       "      <th>PaymentMethod_Electronic check</th>\n",
       "      <th>PaymentMethod_Mailed check</th>\n",
       "      <th>OnlineSecurity_No internet service</th>\n",
       "      <th>OnlineSecurity_Yes</th>\n",
       "      <th>TechSupport_No internet service</th>\n",
       "      <th>TechSupport_Yes</th>\n",
       "      <th>Contract_One year</th>\n",
       "      <th>Contract_Two year</th>\n",
       "      <th>Churn_Yes</th>\n",
       "    </tr>\n",
       "  </thead>\n",
       "  <tbody>\n",
       "    <tr>\n",
       "      <th>0</th>\n",
       "      <td>0.001275</td>\n",
       "      <td>0.000000</td>\n",
       "      <td>0.0</td>\n",
       "      <td>0.0</td>\n",
       "      <td>1.0</td>\n",
       "      <td>0.0</td>\n",
       "      <td>1.0</td>\n",
       "      <td>0.0</td>\n",
       "      <td>0.0</td>\n",
       "      <td>0.0</td>\n",
       "      <td>0.0</td>\n",
       "      <td>0.0</td>\n",
       "      <td>0.0</td>\n",
       "      <td>0.0</td>\n",
       "      <td>0.0</td>\n",
       "    </tr>\n",
       "    <tr>\n",
       "      <th>1</th>\n",
       "      <td>0.215867</td>\n",
       "      <td>0.464789</td>\n",
       "      <td>0.0</td>\n",
       "      <td>0.0</td>\n",
       "      <td>0.0</td>\n",
       "      <td>0.0</td>\n",
       "      <td>0.0</td>\n",
       "      <td>1.0</td>\n",
       "      <td>0.0</td>\n",
       "      <td>1.0</td>\n",
       "      <td>0.0</td>\n",
       "      <td>0.0</td>\n",
       "      <td>1.0</td>\n",
       "      <td>0.0</td>\n",
       "      <td>0.0</td>\n",
       "    </tr>\n",
       "    <tr>\n",
       "      <th>2</th>\n",
       "      <td>0.010310</td>\n",
       "      <td>0.014085</td>\n",
       "      <td>0.0</td>\n",
       "      <td>0.0</td>\n",
       "      <td>1.0</td>\n",
       "      <td>0.0</td>\n",
       "      <td>0.0</td>\n",
       "      <td>1.0</td>\n",
       "      <td>0.0</td>\n",
       "      <td>1.0</td>\n",
       "      <td>0.0</td>\n",
       "      <td>0.0</td>\n",
       "      <td>0.0</td>\n",
       "      <td>0.0</td>\n",
       "      <td>1.0</td>\n",
       "    </tr>\n",
       "    <tr>\n",
       "      <th>3</th>\n",
       "      <td>0.210241</td>\n",
       "      <td>0.619718</td>\n",
       "      <td>0.0</td>\n",
       "      <td>0.0</td>\n",
       "      <td>0.0</td>\n",
       "      <td>0.0</td>\n",
       "      <td>0.0</td>\n",
       "      <td>0.0</td>\n",
       "      <td>0.0</td>\n",
       "      <td>1.0</td>\n",
       "      <td>0.0</td>\n",
       "      <td>1.0</td>\n",
       "      <td>1.0</td>\n",
       "      <td>0.0</td>\n",
       "      <td>0.0</td>\n",
       "    </tr>\n",
       "    <tr>\n",
       "      <th>4</th>\n",
       "      <td>0.015330</td>\n",
       "      <td>0.014085</td>\n",
       "      <td>1.0</td>\n",
       "      <td>0.0</td>\n",
       "      <td>1.0</td>\n",
       "      <td>0.0</td>\n",
       "      <td>1.0</td>\n",
       "      <td>0.0</td>\n",
       "      <td>0.0</td>\n",
       "      <td>0.0</td>\n",
       "      <td>0.0</td>\n",
       "      <td>0.0</td>\n",
       "      <td>0.0</td>\n",
       "      <td>0.0</td>\n",
       "      <td>1.0</td>\n",
       "    </tr>\n",
       "    <tr>\n",
       "      <th>...</th>\n",
       "      <td>...</td>\n",
       "      <td>...</td>\n",
       "      <td>...</td>\n",
       "      <td>...</td>\n",
       "      <td>...</td>\n",
       "      <td>...</td>\n",
       "      <td>...</td>\n",
       "      <td>...</td>\n",
       "      <td>...</td>\n",
       "      <td>...</td>\n",
       "      <td>...</td>\n",
       "      <td>...</td>\n",
       "      <td>...</td>\n",
       "      <td>...</td>\n",
       "      <td>...</td>\n",
       "    </tr>\n",
       "    <tr>\n",
       "      <th>7027</th>\n",
       "      <td>0.227521</td>\n",
       "      <td>0.323944</td>\n",
       "      <td>0.0</td>\n",
       "      <td>0.0</td>\n",
       "      <td>1.0</td>\n",
       "      <td>0.0</td>\n",
       "      <td>0.0</td>\n",
       "      <td>1.0</td>\n",
       "      <td>0.0</td>\n",
       "      <td>1.0</td>\n",
       "      <td>0.0</td>\n",
       "      <td>1.0</td>\n",
       "      <td>1.0</td>\n",
       "      <td>0.0</td>\n",
       "      <td>0.0</td>\n",
       "    </tr>\n",
       "    <tr>\n",
       "      <th>7028</th>\n",
       "      <td>0.847461</td>\n",
       "      <td>1.000000</td>\n",
       "      <td>1.0</td>\n",
       "      <td>0.0</td>\n",
       "      <td>1.0</td>\n",
       "      <td>1.0</td>\n",
       "      <td>0.0</td>\n",
       "      <td>0.0</td>\n",
       "      <td>0.0</td>\n",
       "      <td>0.0</td>\n",
       "      <td>0.0</td>\n",
       "      <td>0.0</td>\n",
       "      <td>1.0</td>\n",
       "      <td>0.0</td>\n",
       "      <td>0.0</td>\n",
       "    </tr>\n",
       "    <tr>\n",
       "      <th>7029</th>\n",
       "      <td>0.037809</td>\n",
       "      <td>0.140845</td>\n",
       "      <td>0.0</td>\n",
       "      <td>0.0</td>\n",
       "      <td>1.0</td>\n",
       "      <td>0.0</td>\n",
       "      <td>1.0</td>\n",
       "      <td>0.0</td>\n",
       "      <td>0.0</td>\n",
       "      <td>1.0</td>\n",
       "      <td>0.0</td>\n",
       "      <td>0.0</td>\n",
       "      <td>0.0</td>\n",
       "      <td>0.0</td>\n",
       "      <td>0.0</td>\n",
       "    </tr>\n",
       "    <tr>\n",
       "      <th>7030</th>\n",
       "      <td>0.033210</td>\n",
       "      <td>0.042254</td>\n",
       "      <td>1.0</td>\n",
       "      <td>0.0</td>\n",
       "      <td>1.0</td>\n",
       "      <td>0.0</td>\n",
       "      <td>0.0</td>\n",
       "      <td>1.0</td>\n",
       "      <td>0.0</td>\n",
       "      <td>0.0</td>\n",
       "      <td>0.0</td>\n",
       "      <td>0.0</td>\n",
       "      <td>0.0</td>\n",
       "      <td>0.0</td>\n",
       "      <td>1.0</td>\n",
       "    </tr>\n",
       "    <tr>\n",
       "      <th>7031</th>\n",
       "      <td>0.787641</td>\n",
       "      <td>0.915493</td>\n",
       "      <td>1.0</td>\n",
       "      <td>0.0</td>\n",
       "      <td>1.0</td>\n",
       "      <td>0.0</td>\n",
       "      <td>0.0</td>\n",
       "      <td>0.0</td>\n",
       "      <td>0.0</td>\n",
       "      <td>1.0</td>\n",
       "      <td>0.0</td>\n",
       "      <td>1.0</td>\n",
       "      <td>0.0</td>\n",
       "      <td>1.0</td>\n",
       "      <td>0.0</td>\n",
       "    </tr>\n",
       "  </tbody>\n",
       "</table>\n",
       "<p>7032 rows × 15 columns</p>\n",
       "</div>"
      ],
      "text/plain": [
       "      TotalCharges    tenure  InternetService_Fiber optic  InternetService_No  \\\n",
       "0         0.001275  0.000000                          0.0                 0.0   \n",
       "1         0.215867  0.464789                          0.0                 0.0   \n",
       "2         0.010310  0.014085                          0.0                 0.0   \n",
       "3         0.210241  0.619718                          0.0                 0.0   \n",
       "4         0.015330  0.014085                          1.0                 0.0   \n",
       "...            ...       ...                          ...                 ...   \n",
       "7027      0.227521  0.323944                          0.0                 0.0   \n",
       "7028      0.847461  1.000000                          1.0                 0.0   \n",
       "7029      0.037809  0.140845                          0.0                 0.0   \n",
       "7030      0.033210  0.042254                          1.0                 0.0   \n",
       "7031      0.787641  0.915493                          1.0                 0.0   \n",
       "\n",
       "      PaperlessBilling_Yes  PaymentMethod_Credit card (automatic)  \\\n",
       "0                      1.0                                    0.0   \n",
       "1                      0.0                                    0.0   \n",
       "2                      1.0                                    0.0   \n",
       "3                      0.0                                    0.0   \n",
       "4                      1.0                                    0.0   \n",
       "...                    ...                                    ...   \n",
       "7027                   1.0                                    0.0   \n",
       "7028                   1.0                                    1.0   \n",
       "7029                   1.0                                    0.0   \n",
       "7030                   1.0                                    0.0   \n",
       "7031                   1.0                                    0.0   \n",
       "\n",
       "      PaymentMethod_Electronic check  PaymentMethod_Mailed check  \\\n",
       "0                                1.0                         0.0   \n",
       "1                                0.0                         1.0   \n",
       "2                                0.0                         1.0   \n",
       "3                                0.0                         0.0   \n",
       "4                                1.0                         0.0   \n",
       "...                              ...                         ...   \n",
       "7027                             0.0                         1.0   \n",
       "7028                             0.0                         0.0   \n",
       "7029                             1.0                         0.0   \n",
       "7030                             0.0                         1.0   \n",
       "7031                             0.0                         0.0   \n",
       "\n",
       "      OnlineSecurity_No internet service  OnlineSecurity_Yes  \\\n",
       "0                                    0.0                 0.0   \n",
       "1                                    0.0                 1.0   \n",
       "2                                    0.0                 1.0   \n",
       "3                                    0.0                 1.0   \n",
       "4                                    0.0                 0.0   \n",
       "...                                  ...                 ...   \n",
       "7027                                 0.0                 1.0   \n",
       "7028                                 0.0                 0.0   \n",
       "7029                                 0.0                 1.0   \n",
       "7030                                 0.0                 0.0   \n",
       "7031                                 0.0                 1.0   \n",
       "\n",
       "      TechSupport_No internet service  TechSupport_Yes  Contract_One year  \\\n",
       "0                                 0.0              0.0                0.0   \n",
       "1                                 0.0              0.0                1.0   \n",
       "2                                 0.0              0.0                0.0   \n",
       "3                                 0.0              1.0                1.0   \n",
       "4                                 0.0              0.0                0.0   \n",
       "...                               ...              ...                ...   \n",
       "7027                              0.0              1.0                1.0   \n",
       "7028                              0.0              0.0                1.0   \n",
       "7029                              0.0              0.0                0.0   \n",
       "7030                              0.0              0.0                0.0   \n",
       "7031                              0.0              1.0                0.0   \n",
       "\n",
       "      Contract_Two year  Churn_Yes  \n",
       "0                   0.0        0.0  \n",
       "1                   0.0        0.0  \n",
       "2                   0.0        1.0  \n",
       "3                   0.0        0.0  \n",
       "4                   0.0        1.0  \n",
       "...                 ...        ...  \n",
       "7027                0.0        0.0  \n",
       "7028                0.0        0.0  \n",
       "7029                0.0        0.0  \n",
       "7030                0.0        1.0  \n",
       "7031                1.0        0.0  \n",
       "\n",
       "[7032 rows x 15 columns]"
      ]
     },
     "execution_count": 102,
     "metadata": {},
     "output_type": "execute_result"
    }
   ],
   "source": [
    "telecom_new_reg_scaled=pd.DataFrame((scaler.fit_transform(telecom_new_reg)),columns=telecom_new_reg.columns)\n",
    "telecom_new_reg_scaled"
   ]
  },
  {
   "cell_type": "code",
   "execution_count": 103,
   "id": "21f674a2",
   "metadata": {},
   "outputs": [],
   "source": [
    "y1=telecom_new_reg_scaled.Churn_Yes\n",
    "x1=telecom_new_reg_scaled.drop('Churn_Yes',axis=1)"
   ]
  },
  {
   "cell_type": "code",
   "execution_count": 104,
   "id": "cb64702f",
   "metadata": {},
   "outputs": [],
   "source": [
    "from sklearn.model_selection import train_test_split\n",
    "x_train1,x_test1,y_train1,y_test1=train_test_split(x1,y1,random_state=0,test_size=0.2)"
   ]
  },
  {
   "cell_type": "code",
   "execution_count": 105,
   "id": "9bcac41d",
   "metadata": {},
   "outputs": [
    {
     "name": "stdout",
     "output_type": "stream",
     "text": [
      "accuracy: 79.98222222222222%\n"
     ]
    }
   ],
   "source": [
    "reg1=linear_model.LogisticRegression()\n",
    "reg1.fit(x_train1,y_train1)\n",
    "y_pred3=reg1.predict(x_train1)\n",
    "print(\"accuracy: \"+ str(reg1.score(x_train1,y_train1)*100) + \"%\")"
   ]
  },
  {
   "cell_type": "code",
   "execution_count": 106,
   "id": "de5d17ba",
   "metadata": {},
   "outputs": [
    {
     "data": {
      "text/plain": [
       "array([[3709,  416],\n",
       "       [ 710,  790]], dtype=int64)"
      ]
     },
     "execution_count": 106,
     "metadata": {},
     "output_type": "execute_result"
    }
   ],
   "source": [
    "cm2 = metrics.confusion_matrix(y_train1, y_pred3)\n",
    "cm2"
   ]
  },
  {
   "cell_type": "code",
   "execution_count": 107,
   "id": "c43a7b1d",
   "metadata": {},
   "outputs": [
    {
     "data": {
      "image/png": "[encoded data removed]",
      "text/plain": [
       "<Figure size 648x648 with 2 Axes>"
      ]
     },
     "metadata": {
      "needs_background": "light"
     },
     "output_type": "display_data"
    }
   ],
   "source": [
    "plt.figure(figsize=(9,9))\n",
    "sns.heatmap(cm2, annot=True, fmt=\".3f\", linewidths=.5, square = True, cmap = 'Blues_r');\n",
    "plt.ylabel('Actual label');\n",
    "plt.xlabel('Predicted label');\n",
    "all_sample_title = 'Accuracy Score: {0}'.format(reg1.score(x_train1,y_train1))\n",
    "plt.title(all_sample_title, size = 15);"
   ]
  },
  {
   "cell_type": "code",
   "execution_count": 108,
   "id": "6421ca5c",
   "metadata": {},
   "outputs": [
    {
     "name": "stdout",
     "output_type": "stream",
     "text": [
      "Accuracy: 0.7998222222222222\n",
      "Precision: 0.6550580431177446\n",
      "Recall: 0.5266666666666666\n",
      "F1 Score: 0.7923918895726241\n"
     ]
    }
   ],
   "source": [
    "print(\"Accuracy:\",metrics.accuracy_score(y_train1, y_pred3))\n",
    "print(\"Precision:\",metrics.precision_score(y_train1, y_pred3))\n",
    "print(\"Recall:\",metrics.recall_score(y_train1, y_pred3))\n",
    "print(\"F1 Score:\",metrics.f1_score(y_train1, y_pred3,average=\"weighted\"))"
   ]
  },
  {
   "cell_type": "code",
   "execution_count": null,
   "id": "cdc299e8",
   "metadata": {},
   "outputs": [],
   "source": [
    "# Test Data"
   ]
  },
  {
   "cell_type": "code",
   "execution_count": 109,
   "id": "ec1ab73f",
   "metadata": {},
   "outputs": [
    {
     "name": "stdout",
     "output_type": "stream",
     "text": [
      "accuracy: 80.02842928216063%\n"
     ]
    }
   ],
   "source": [
    "y_pred4=reg1.predict(x_test1)\n",
    "print(\"accuracy: \"+ str(reg1.score(x_test1,y_test1)*100) + \"%\")"
   ]
  },
  {
   "cell_type": "code",
   "execution_count": 110,
   "id": "eabe0e88",
   "metadata": {},
   "outputs": [
    {
     "data": {
      "text/plain": [
       "array([[934, 104],\n",
       "       [177, 192]], dtype=int64)"
      ]
     },
     "execution_count": 110,
     "metadata": {},
     "output_type": "execute_result"
    }
   ],
   "source": [
    "cm3 = metrics.confusion_matrix(y_test1, y_pred4)\n",
    "cm3"
   ]
  },
  {
   "cell_type": "code",
   "execution_count": 111,
   "id": "2aa5de4e",
   "metadata": {},
   "outputs": [
    {
     "data": {
      "image/png": "[encoded data removed]",
      "text/plain": [
       "<Figure size 648x648 with 2 Axes>"
      ]
     },
     "metadata": {
      "needs_background": "light"
     },
     "output_type": "display_data"
    }
   ],
   "source": [
    "plt.figure(figsize=(9,9))\n",
    "sns.heatmap(cm3, annot=True, fmt=\".3f\", linewidths=.5, square = True, cmap = 'Blues_r');\n",
    "plt.ylabel('Actual label');\n",
    "plt.xlabel('Predicted label');\n",
    "all_sample_title = 'Accuracy Score: {0}'.format(reg1.score(x_test1,y_test1))\n",
    "plt.title(all_sample_title, size = 15);"
   ]
  },
  {
   "cell_type": "code",
   "execution_count": 112,
   "id": "a399faef",
   "metadata": {},
   "outputs": [
    {
     "name": "stdout",
     "output_type": "stream",
     "text": [
      "Accuracy: 0.8002842928216063\n",
      "Precision: 0.6486486486486487\n",
      "Recall: 0.5203252032520326\n",
      "F1 Score: 0.7927145534463942\n"
     ]
    }
   ],
   "source": [
    "print(\"Accuracy:\",metrics.accuracy_score(y_test1, y_pred4))\n",
    "print(\"Precision:\",metrics.precision_score(y_test1, y_pred4))\n",
    "print(\"Recall:\",metrics.recall_score(y_test1, y_pred4))\n",
    "print(\"F1 Score:\",metrics.f1_score(y_test1, y_pred4,average=\"weighted\"))"
   ]
  },
  {
   "cell_type": "code",
   "execution_count": 113,
   "id": "e33165a0",
   "metadata": {},
   "outputs": [],
   "source": [
    "# Accuracy and F1 score have not changed much even after selecting important features.\n",
    "# Recall and Precision have slightly decreased.\n",
    "\n",
    "# Next, hyperparameter tuning using GridSearchCV."
   ]
  },
  {
   "cell_type": "code",
   "execution_count": 114,
   "id": "2bf7a45b",
   "metadata": {},
   "outputs": [],
   "source": [
    "# Disabling warnings as Gridsearch for logistic regression tends to generate a lot of warnings."
   ]
  },
  {
   "cell_type": "markdown",
   "id": "467859b6",
   "metadata": {},
   "source": [
    "# Hyperparameter tuning using Grid Search CV"
   ]
  },
  {
   "cell_type": "code",
   "execution_count": 115,
   "id": "8185d56a",
   "metadata": {},
   "outputs": [],
   "source": [
    "import warnings\n",
    "warnings.filterwarnings('ignore')"
   ]
  },
  {
   "cell_type": "code",
   "execution_count": 116,
   "id": "43b61039",
   "metadata": {},
   "outputs": [],
   "source": [
    "reg2=linear_model.LogisticRegression()"
   ]
  },
  {
   "cell_type": "code",
   "execution_count": 117,
   "id": "fd8fcdbf",
   "metadata": {},
   "outputs": [],
   "source": [
    "# Importing library for GridSearchCV."
   ]
  },
  {
   "cell_type": "code",
   "execution_count": 118,
   "id": "b88bb95a",
   "metadata": {},
   "outputs": [],
   "source": [
    "from sklearn.model_selection import GridSearchCV"
   ]
  },
  {
   "cell_type": "code",
   "execution_count": 119,
   "id": "56a121d5",
   "metadata": {},
   "outputs": [],
   "source": [
    "# Defining parameters."
   ]
  },
  {
   "cell_type": "code",
   "execution_count": 120,
   "id": "7d603a37",
   "metadata": {},
   "outputs": [],
   "source": [
    "params= {'C': (np.logspace(-3,3,7)), 'penalty': ['l1','l2'],\n",
    "                  'class_weight': ['None','balanced'],\n",
    "                    'solver': ['newton-cg', 'lbfgs', 'liblinear', 'sag', 'saga']}"
   ]
  },
  {
   "cell_type": "code",
   "execution_count": 121,
   "id": "7526ef36",
   "metadata": {},
   "outputs": [],
   "source": [
    "# Defining GridSearchCV to find out combinations for best recall score."
   ]
  },
  {
   "cell_type": "code",
   "execution_count": 122,
   "id": "26727284",
   "metadata": {},
   "outputs": [],
   "source": [
    "gscv = GridSearchCV(estimator=reg2, \n",
    "                    param_grid=params,\n",
    "                    scoring= ['accuracy','f1','precision','recall'],\n",
    "                     refit='recall', cv=10)"
   ]
  },
  {
   "cell_type": "code",
   "execution_count": 123,
   "id": "11d4644e",
   "metadata": {},
   "outputs": [],
   "source": [
    "# Fitting train data on defined GridSearch model."
   ]
  },
  {
   "cell_type": "code",
   "execution_count": 124,
   "id": "07e03bb1",
   "metadata": {},
   "outputs": [
    {
     "data": {
      "text/plain": [
       "GridSearchCV(cv=10, estimator=LogisticRegression(),\n",
       "             param_grid={'C': array([1.e-03, 1.e-02, 1.e-01, 1.e+00, 1.e+01, 1.e+02, 1.e+03]),\n",
       "                         'class_weight': ['None', 'balanced'],\n",
       "                         'penalty': ['l1', 'l2'],\n",
       "                         'solver': ['newton-cg', 'lbfgs', 'liblinear', 'sag',\n",
       "                                    'saga']},\n",
       "             refit='recall', scoring=['accuracy', 'f1', 'precision', 'recall'])"
      ]
     },
     "execution_count": 124,
     "metadata": {},
     "output_type": "execute_result"
    }
   ],
   "source": [
    "gscv.fit(x_train1,y_train1)"
   ]
  },
  {
   "cell_type": "code",
   "execution_count": 125,
   "id": "6c4c8401",
   "metadata": {},
   "outputs": [
    {
     "name": "stdout",
     "output_type": "stream",
     "text": [
      "Best parameters: {'C': 100.0, 'class_weight': 'balanced', 'penalty': 'l1', 'solver': 'saga'}\n"
     ]
    }
   ],
   "source": [
    "print(\"Best parameters:\", gscv.best_params_)"
   ]
  },
  {
   "cell_type": "code",
   "execution_count": 126,
   "id": "ff6a7102",
   "metadata": {},
   "outputs": [],
   "source": [
    "# Above are the best parameters as per GridSearchCV."
   ]
  },
  {
   "cell_type": "code",
   "execution_count": 127,
   "id": "d0b39b90",
   "metadata": {},
   "outputs": [
    {
     "name": "stdout",
     "output_type": "stream",
     "text": [
      "Accuracy : 0.8033333333333333\n"
     ]
    }
   ],
   "source": [
    "print(\"Accuracy :\",gscv.best_score_)"
   ]
  },
  {
   "cell_type": "code",
   "execution_count": 128,
   "id": "80cffd3c",
   "metadata": {},
   "outputs": [
    {
     "name": "stdout",
     "output_type": "stream",
     "text": [
      "Accuracy : LogisticRegression(C=100.0, class_weight='balanced', penalty='l1',\n",
      "                   solver='saga')\n"
     ]
    }
   ],
   "source": [
    "print(\"Accuracy :\",gscv.best_estimator_)"
   ]
  },
  {
   "cell_type": "code",
   "execution_count": 129,
   "id": "336532b0",
   "metadata": {},
   "outputs": [],
   "source": [
    "# Using the above parameter results for logistic regression."
   ]
  },
  {
   "cell_type": "code",
   "execution_count": 130,
   "id": "77d1976a",
   "metadata": {},
   "outputs": [
    {
     "name": "stdout",
     "output_type": "stream",
     "text": [
      "accuracy: 74.02666666666666%\n"
     ]
    }
   ],
   "source": [
    "reg3=linear_model.LogisticRegression(C=100,class_weight='balanced',solver='liblinear',penalty='l1')\n",
    "reg3.fit(x_train1,y_train1)\n",
    "y_pred5=reg3.predict(x_train1)\n",
    "print(\"accuracy: \"+ str(reg3.score(x_train1,y_train1)*100) + \"%\")"
   ]
  },
  {
   "cell_type": "code",
   "execution_count": 131,
   "id": "93d00b00",
   "metadata": {},
   "outputs": [
    {
     "data": {
      "text/plain": [
       "array([[2958, 1167],\n",
       "       [ 294, 1206]], dtype=int64)"
      ]
     },
     "execution_count": 131,
     "metadata": {},
     "output_type": "execute_result"
    }
   ],
   "source": [
    "cm4 = metrics.confusion_matrix(y_train1, y_pred5)\n",
    "cm4"
   ]
  },
  {
   "cell_type": "code",
   "execution_count": 132,
   "id": "c10a074a",
   "metadata": {},
   "outputs": [
    {
     "data": {
      "image/png": "[encoded data removed]",
      "text/plain": [
       "<Figure size 648x648 with 2 Axes>"
      ]
     },
     "metadata": {
      "needs_background": "light"
     },
     "output_type": "display_data"
    }
   ],
   "source": [
    "plt.figure(figsize=(9,9))\n",
    "sns.heatmap(cm4, annot=True, fmt=\".3f\", linewidths=.5, square = True, cmap = 'Blues_r');\n",
    "plt.ylabel('Actual label');\n",
    "plt.xlabel('Predicted label');\n",
    "all_sample_title = 'Accuracy Score: {0}'.format(reg3.score(x_train1,y_train1))\n",
    "plt.title(all_sample_title, size = 15);"
   ]
  },
  {
   "cell_type": "code",
   "execution_count": 133,
   "id": "27e49d42",
   "metadata": {},
   "outputs": [
    {
     "name": "stdout",
     "output_type": "stream",
     "text": [
      "Accuracy: 0.7402666666666666\n",
      "Precision: 0.5082174462705437\n",
      "Recall: 0.804\n",
      "F1 Score: 0.7541709546503268\n"
     ]
    }
   ],
   "source": [
    "print(\"Accuracy:\",metrics.accuracy_score(y_train1, y_pred5))\n",
    "print(\"Precision:\",metrics.precision_score(y_train1, y_pred5))\n",
    "print(\"Recall:\",metrics.recall_score(y_train1, y_pred5))\n",
    "print(\"F1 Score:\",metrics.f1_score(y_train1, y_pred5,average=\"weighted\"))"
   ]
  },
  {
   "cell_type": "code",
   "execution_count": 134,
   "id": "fa956421",
   "metadata": {},
   "outputs": [],
   "source": [
    "# Test Data"
   ]
  },
  {
   "cell_type": "code",
   "execution_count": 135,
   "id": "97751352",
   "metadata": {},
   "outputs": [
    {
     "name": "stdout",
     "output_type": "stream",
     "text": [
      "accuracy: 73.77398720682304%\n"
     ]
    }
   ],
   "source": [
    "y_pred6=reg3.predict(x_test1)\n",
    "print(\"accuracy: \"+ str(reg3.score(x_test1,y_test1)*100) + \"%\")"
   ]
  },
  {
   "cell_type": "code",
   "execution_count": 136,
   "id": "65f3efaf",
   "metadata": {},
   "outputs": [
    {
     "data": {
      "text/plain": [
       "array([[742, 296],\n",
       "       [ 73, 296]], dtype=int64)"
      ]
     },
     "execution_count": 136,
     "metadata": {},
     "output_type": "execute_result"
    }
   ],
   "source": [
    "cm5 = metrics.confusion_matrix(y_test1, y_pred6)\n",
    "cm5"
   ]
  },
  {
   "cell_type": "code",
   "execution_count": 137,
   "id": "ba7e927a",
   "metadata": {},
   "outputs": [
    {
     "data": {
      "image/png": "[encoded data removed]",
      "text/plain": [
       "<Figure size 648x648 with 2 Axes>"
      ]
     },
     "metadata": {
      "needs_background": "light"
     },
     "output_type": "display_data"
    }
   ],
   "source": [
    "plt.figure(figsize=(9,9))\n",
    "sns.heatmap(cm5, annot=True, fmt=\".3f\", linewidths=.5, square = True, cmap = 'Blues_r');\n",
    "plt.ylabel('Actual label');\n",
    "plt.xlabel('Predicted label');\n",
    "all_sample_title = 'Accuracy Score: {0}'.format(reg3.score(x_test1,y_test1))\n",
    "plt.title(all_sample_title, size = 15);"
   ]
  },
  {
   "cell_type": "code",
   "execution_count": 138,
   "id": "5f11df59",
   "metadata": {},
   "outputs": [
    {
     "name": "stdout",
     "output_type": "stream",
     "text": [
      "Accuracy: 0.7377398720682303\n",
      "Precision: 0.5\n",
      "Recall: 0.8021680216802168\n",
      "F1 Score: 0.7523876984430083\n"
     ]
    }
   ],
   "source": [
    "print(\"Accuracy:\",metrics.accuracy_score(y_test1, y_pred6))\n",
    "print(\"Precision:\",metrics.precision_score(y_test1, y_pred6))\n",
    "print(\"Recall:\",metrics.recall_score(y_test1, y_pred6))\n",
    "print(\"F1 Score:\",metrics.f1_score(y_test1, y_pred6,average=\"weighted\"))"
   ]
  },
  {
   "cell_type": "markdown",
   "id": "f6ff71c5",
   "metadata": {},
   "source": [
    "# Accuracy and F1 Score have slightly fallen. Precision has taken a dip of 15%.\n",
    "# But the Recall has increased to 80.2%, which was the target. \n",
    "# Now the company can target these customers and use strategies to retain them."
   ]
  },
  {
   "cell_type": "code",
   "execution_count": null,
   "id": "1e8b8c2b",
   "metadata": {},
   "outputs": [],
   "source": []
  },
  {
   "cell_type": "markdown",
   "id": "b706d831",
   "metadata": {},
   "source": [
    "# Oversampling using SMOTE"
   ]
  },
  {
   "cell_type": "code",
   "execution_count": 139,
   "id": "1d36d2c9",
   "metadata": {},
   "outputs": [],
   "source": [
    "# Additional trial to further observe the changes in metrics. \n",
    "# Since the Churn data was imbalanced, using oversampling technique to balance the data."
   ]
  },
  {
   "cell_type": "code",
   "execution_count": 140,
   "id": "41858f02",
   "metadata": {},
   "outputs": [],
   "source": [
    "# Importing library for SMOTE."
   ]
  },
  {
   "cell_type": "code",
   "execution_count": 141,
   "id": "4457e050",
   "metadata": {},
   "outputs": [],
   "source": [
    "from imblearn.over_sampling import SMOTE"
   ]
  },
  {
   "cell_type": "code",
   "execution_count": 142,
   "id": "94fc4a25",
   "metadata": {},
   "outputs": [],
   "source": [
    "smote=SMOTE()"
   ]
  },
  {
   "cell_type": "code",
   "execution_count": 143,
   "id": "4ba00e77",
   "metadata": {},
   "outputs": [],
   "source": [
    "x1_resample, y1_resample = smote.fit_resample(x1, y1)"
   ]
  },
  {
   "cell_type": "code",
   "execution_count": 144,
   "id": "5a6313c5",
   "metadata": {},
   "outputs": [],
   "source": [
    "# Above is the resampled data."
   ]
  },
  {
   "cell_type": "code",
   "execution_count": 145,
   "id": "479bf5ea",
   "metadata": {},
   "outputs": [],
   "source": [
    "from sklearn.model_selection import train_test_split\n",
    "x_train2,x_test2,y_train2,y_test2=train_test_split(x1_resample,y1_resample,random_state=0,test_size=0.2)"
   ]
  },
  {
   "cell_type": "code",
   "execution_count": 146,
   "id": "e4f008bd",
   "metadata": {},
   "outputs": [],
   "source": [
    "# Fitting the resampled data on the model hyperparameters received from GridSearchCV.\n",
    "# Dropped the class_weight parameter, as we have resampled the data."
   ]
  },
  {
   "cell_type": "code",
   "execution_count": 149,
   "id": "928661da",
   "metadata": {},
   "outputs": [
    {
     "name": "stdout",
     "output_type": "stream",
     "text": [
      "accuracy: 75.81113801452784%\n"
     ]
    }
   ],
   "source": [
    "reg4=linear_model.LogisticRegression(C=100,solver='liblinear',penalty='l1')\n",
    "reg4.fit(x_train2,y_train2)\n",
    "y_pred7=reg4.predict(x_train2)\n",
    "print(\"accuracy: \"+ str(reg4.score(x_train2,y_train2)*100) + \"%\")"
   ]
  },
  {
   "cell_type": "code",
   "execution_count": 150,
   "id": "b212f9be",
   "metadata": {},
   "outputs": [
    {
     "data": {
      "text/plain": [
       "array([[2972, 1185],\n",
       "       [ 813, 3290]], dtype=int64)"
      ]
     },
     "execution_count": 150,
     "metadata": {},
     "output_type": "execute_result"
    }
   ],
   "source": [
    "cm6 = metrics.confusion_matrix(y_train2, y_pred7)\n",
    "cm6"
   ]
  },
  {
   "cell_type": "code",
   "execution_count": 151,
   "id": "72f4c2ea",
   "metadata": {},
   "outputs": [
    {
     "data": {
      "image/png": "[encoded data removed]",
      "text/plain": [
       "<Figure size 648x648 with 2 Axes>"
      ]
     },
     "metadata": {
      "needs_background": "light"
     },
     "output_type": "display_data"
    }
   ],
   "source": [
    "plt.figure(figsize=(9,9))\n",
    "sns.heatmap(cm6, annot=True, fmt=\".3f\", linewidths=.5, square = True, cmap = 'Blues_r');\n",
    "plt.ylabel('Actual label');\n",
    "plt.xlabel('Predicted label');\n",
    "all_sample_title = 'Accuracy Score: {0}'.format(reg4.score(x_train2,y_train2))\n",
    "plt.title(all_sample_title, size = 15);"
   ]
  },
  {
   "cell_type": "code",
   "execution_count": 152,
   "id": "c2c62ebf",
   "metadata": {},
   "outputs": [
    {
     "name": "stdout",
     "output_type": "stream",
     "text": [
      "Accuracy: 0.7581113801452785\n",
      "Precision: 0.735195530726257\n",
      "Recall: 0.8018523031927858\n",
      "F1 Score: 0.757691360530961\n"
     ]
    }
   ],
   "source": [
    "print(\"Accuracy:\",metrics.accuracy_score(y_train2, y_pred7))\n",
    "print(\"Precision:\",metrics.precision_score(y_train2, y_pred7))\n",
    "print(\"Recall:\",metrics.recall_score(y_train2, y_pred7))\n",
    "print(\"F1 Score:\",metrics.f1_score(y_train2, y_pred7,average=\"weighted\"))"
   ]
  },
  {
   "cell_type": "code",
   "execution_count": null,
   "id": "be42a037",
   "metadata": {},
   "outputs": [],
   "source": [
    "# Test Data"
   ]
  },
  {
   "cell_type": "code",
   "execution_count": 153,
   "id": "b88cfdf7",
   "metadata": {},
   "outputs": [
    {
     "name": "stdout",
     "output_type": "stream",
     "text": [
      "accuracy: 77.73475314617619%\n"
     ]
    }
   ],
   "source": [
    "y_pred8=reg4.predict(x_test2)\n",
    "print(\"accuracy: \"+ str(reg4.score(x_test2,y_test2)*100) + \"%\")"
   ]
  },
  {
   "cell_type": "code",
   "execution_count": 154,
   "id": "4f726f40",
   "metadata": {},
   "outputs": [
    {
     "data": {
      "text/plain": [
       "array([[745, 261],\n",
       "       [199, 861]], dtype=int64)"
      ]
     },
     "execution_count": 154,
     "metadata": {},
     "output_type": "execute_result"
    }
   ],
   "source": [
    "cm7 = metrics.confusion_matrix(y_test2, y_pred8)\n",
    "cm7"
   ]
  },
  {
   "cell_type": "code",
   "execution_count": 155,
   "id": "a2ccdd58",
   "metadata": {},
   "outputs": [
    {
     "data": {
      "image/png": "[encoded data removed]",
      "text/plain": [
       "<Figure size 648x648 with 2 Axes>"
      ]
     },
     "metadata": {
      "needs_background": "light"
     },
     "output_type": "display_data"
    }
   ],
   "source": [
    "plt.figure(figsize=(9,9))\n",
    "sns.heatmap(cm7, annot=True, fmt=\".3f\", linewidths=.5, square = True, cmap = 'Blues_r');\n",
    "plt.ylabel('Actual label');\n",
    "plt.xlabel('Predicted label');\n",
    "all_sample_title = 'Accuracy Score: {0}'.format(reg4.score(x_test2,y_test2))\n",
    "plt.title(all_sample_title, size = 15);"
   ]
  },
  {
   "cell_type": "code",
   "execution_count": 156,
   "id": "e8a4bbd4",
   "metadata": {},
   "outputs": [
    {
     "name": "stdout",
     "output_type": "stream",
     "text": [
      "Accuracy: 0.7773475314617618\n",
      "Precision: 0.767379679144385\n",
      "Recall: 0.8122641509433962\n",
      "F1 Score: 0.7769711850015097\n"
     ]
    }
   ],
   "source": [
    "print(\"Accuracy:\",metrics.accuracy_score(y_test2, y_pred8))\n",
    "print(\"Precision:\",metrics.precision_score(y_test2, y_pred8))\n",
    "print(\"Recall:\",metrics.recall_score(y_test2, y_pred8))\n",
    "print(\"F1 Score:\",metrics.f1_score(y_test2, y_pred8,average=\"weighted\"))"
   ]
  },
  {
   "cell_type": "code",
   "execution_count": 157,
   "id": "b81d1a17",
   "metadata": {},
   "outputs": [],
   "source": [
    "# The accuracy and F1 score have increased. The recall has slightly increased to 81.7%, from the previous 80%.\n",
    "# Precision has increased from 50% to 76.7%."
   ]
  },
  {
   "cell_type": "markdown",
   "id": "b1ca0b50",
   "metadata": {},
   "source": [
    "# Depending on the requirements, any of the above 2 models could be used to target customers to reduce churn."
   ]
  },
  {
   "cell_type": "code",
   "execution_count": null,
   "id": "6ce4c6d6",
   "metadata": {},
   "outputs": [],
   "source": []
  },
  {
   "cell_type": "markdown",
   "id": "d86a0fe1",
   "metadata": {},
   "source": [
    "# Now, trials using Random Forest Classifier"
   ]
  },
  {
   "cell_type": "code",
   "execution_count": 158,
   "id": "418239b9",
   "metadata": {},
   "outputs": [],
   "source": [
    "# Importing libraries necessary for Random Forest Classifier"
   ]
  },
  {
   "cell_type": "code",
   "execution_count": 159,
   "id": "b123116a",
   "metadata": {},
   "outputs": [],
   "source": [
    "from sklearn.ensemble import RandomForestClassifier\n",
    "from sklearn.metrics import accuracy_score"
   ]
  },
  {
   "cell_type": "code",
   "execution_count": 160,
   "id": "c5d146eb",
   "metadata": {},
   "outputs": [],
   "source": [
    "# Fitting the model with data before SMOTE oversampling."
   ]
  },
  {
   "cell_type": "code",
   "execution_count": 161,
   "id": "78d9de2d",
   "metadata": {},
   "outputs": [
    {
     "name": "stdout",
     "output_type": "stream",
     "text": [
      "Accuracy Score: 0.9957333333333334\n"
     ]
    }
   ],
   "source": [
    "model = RandomForestClassifier(random_state=1)\n",
    "model.fit(x_train1, y_train1)\n",
    "y_pred9 = model.predict(x_train1)\n",
    "\n",
    "print(\"Accuracy Score:\",accuracy_score(y_train1,y_pred9))"
   ]
  },
  {
   "cell_type": "code",
   "execution_count": 162,
   "id": "1630791b",
   "metadata": {},
   "outputs": [
    {
     "data": {
      "text/plain": [
       "array([[4113,   12],\n",
       "       [  12, 1488]], dtype=int64)"
      ]
     },
     "execution_count": 162,
     "metadata": {},
     "output_type": "execute_result"
    }
   ],
   "source": [
    "cm8 = metrics.confusion_matrix(y_train1, y_pred9)\n",
    "cm8"
   ]
  },
  {
   "cell_type": "code",
   "execution_count": 163,
   "id": "05887c8a",
   "metadata": {
    "scrolled": true
   },
   "outputs": [
    {
     "data": {
      "image/png": "[encoded data removed]",
      "text/plain": [
       "<Figure size 648x648 with 2 Axes>"
      ]
     },
     "metadata": {
      "needs_background": "light"
     },
     "output_type": "display_data"
    }
   ],
   "source": [
    "plt.figure(figsize=(9,9))\n",
    "sns.heatmap(cm8, annot=True, fmt=\".3f\", linewidths=.5, square = True, cmap = 'Blues_r');\n",
    "plt.ylabel('Actual label');\n",
    "plt.xlabel('Predicted label');\n",
    "all_sample_title = 'Accuracy Score: {0}'.format(model.score(x_train1,y_train1))\n",
    "plt.title(all_sample_title, size = 15);"
   ]
  },
  {
   "cell_type": "code",
   "execution_count": 164,
   "id": "7acedaa7",
   "metadata": {},
   "outputs": [
    {
     "name": "stdout",
     "output_type": "stream",
     "text": [
      "Accuracy: 0.9957333333333334\n",
      "Precision: 0.992\n",
      "Recall: 0.992\n",
      "F1 Score: 0.9957333333333334\n"
     ]
    }
   ],
   "source": [
    "print(\"Accuracy:\",metrics.accuracy_score(y_train1, y_pred9))\n",
    "print(\"Precision:\",metrics.precision_score(y_train1, y_pred9))\n",
    "print(\"Recall:\",metrics.recall_score(y_train1, y_pred9))\n",
    "print(\"F1 Score:\",metrics.f1_score(y_train1, y_pred9,average=\"weighted\"))"
   ]
  },
  {
   "cell_type": "code",
   "execution_count": null,
   "id": "bc02ea23",
   "metadata": {},
   "outputs": [],
   "source": [
    "# Test Data"
   ]
  },
  {
   "cell_type": "code",
   "execution_count": 165,
   "id": "3dcf9852",
   "metadata": {},
   "outputs": [
    {
     "name": "stdout",
     "output_type": "stream",
     "text": [
      "Accuracy Score: 0.7704335465529495\n"
     ]
    }
   ],
   "source": [
    "y_pred9 = model.predict(x_test1)\n",
    "print(\"Accuracy Score:\",accuracy_score(y_test1,y_pred9))"
   ]
  },
  {
   "cell_type": "code",
   "execution_count": 166,
   "id": "00d5012d",
   "metadata": {},
   "outputs": [
    {
     "data": {
      "text/plain": [
       "array([[907, 131],\n",
       "       [192, 177]], dtype=int64)"
      ]
     },
     "execution_count": 166,
     "metadata": {},
     "output_type": "execute_result"
    }
   ],
   "source": [
    "cm8 = metrics.confusion_matrix(y_test1, y_pred9)\n",
    "cm8"
   ]
  },
  {
   "cell_type": "code",
   "execution_count": 168,
   "id": "84563e40",
   "metadata": {},
   "outputs": [
    {
     "data": {
      "image/png": "[encoded data removed]",
      "text/plain": [
       "<Figure size 648x648 with 2 Axes>"
      ]
     },
     "metadata": {
      "needs_background": "light"
     },
     "output_type": "display_data"
    }
   ],
   "source": [
    "plt.figure(figsize=(9,9))\n",
    "sns.heatmap(cm8, annot=True, fmt=\".3f\", linewidths=.5, square = True, cmap = 'Blues_r');\n",
    "plt.ylabel('Actual label');\n",
    "plt.xlabel('Predicted label');\n",
    "all_sample_title = 'Accuracy Score: {0}'.format(model.score(x_test1,y_test1))\n",
    "plt.title(all_sample_title, size = 15);"
   ]
  },
  {
   "cell_type": "code",
   "execution_count": 169,
   "id": "56765e47",
   "metadata": {},
   "outputs": [
    {
     "name": "stdout",
     "output_type": "stream",
     "text": [
      "Accuracy: 0.7704335465529495\n",
      "Precision: 0.5746753246753247\n",
      "Recall: 0.4796747967479675\n",
      "F1 Score: 0.7633676393555039\n"
     ]
    }
   ],
   "source": [
    "print(\"Accuracy:\",metrics.accuracy_score(y_test1, y_pred9))\n",
    "print(\"Precision:\",metrics.precision_score(y_test1, y_pred9))\n",
    "print(\"Recall:\",metrics.recall_score(y_test1, y_pred9))\n",
    "print(\"F1 Score:\",metrics.f1_score(y_test1, y_pred9,average=\"weighted\"))"
   ]
  },
  {
   "cell_type": "code",
   "execution_count": 170,
   "id": "257a12b0",
   "metadata": {},
   "outputs": [],
   "source": [
    "# Accuracy is a decent 77%, but Precision and Recall are 57.5% and 48% respectively."
   ]
  },
  {
   "cell_type": "code",
   "execution_count": 171,
   "id": "6247e0b7",
   "metadata": {},
   "outputs": [],
   "source": [
    "# Let us see if the scores improve on data that was oversampled using SMOTE."
   ]
  },
  {
   "cell_type": "code",
   "execution_count": 172,
   "id": "fb9534b0",
   "metadata": {},
   "outputs": [],
   "source": [
    "# Fitting the model with data after SMOTE oversampling."
   ]
  },
  {
   "cell_type": "code",
   "execution_count": 173,
   "id": "708f4588",
   "metadata": {},
   "outputs": [
    {
     "name": "stdout",
     "output_type": "stream",
     "text": [
      "Accuracy Score: 0.9972154963680387\n"
     ]
    }
   ],
   "source": [
    "model1 = RandomForestClassifier(random_state=1)\n",
    "model1.fit(x_train2, y_train2)\n",
    "y_pred10 = model1.predict(x_train2)\n",
    "print(\"Accuracy Score:\",accuracy_score(y_train2,y_pred10))"
   ]
  },
  {
   "cell_type": "code",
   "execution_count": 174,
   "id": "721a705c",
   "metadata": {},
   "outputs": [
    {
     "data": {
      "text/plain": [
       "array([[4145,   12],\n",
       "       [  11, 4092]], dtype=int64)"
      ]
     },
     "execution_count": 174,
     "metadata": {},
     "output_type": "execute_result"
    }
   ],
   "source": [
    "cm9 = metrics.confusion_matrix(y_train2, y_pred10)\n",
    "cm9"
   ]
  },
  {
   "cell_type": "code",
   "execution_count": 176,
   "id": "0709ea08",
   "metadata": {},
   "outputs": [
    {
     "data": {
      "image/png": "[encoded data removed]",
      "text/plain": [
       "<Figure size 648x648 with 2 Axes>"
      ]
     },
     "metadata": {
      "needs_background": "light"
     },
     "output_type": "display_data"
    }
   ],
   "source": [
    "plt.figure(figsize=(9,9))\n",
    "sns.heatmap(cm9, annot=True, fmt=\".3f\", linewidths=.5, square = True, cmap = 'Blues_r');\n",
    "plt.ylabel('Actual label');\n",
    "plt.xlabel('Predicted label');\n",
    "all_sample_title = 'Accuracy Score: {0}'.format(model1.score(x_train2,y_train2))\n",
    "plt.title(all_sample_title, size = 15);"
   ]
  },
  {
   "cell_type": "code",
   "execution_count": 177,
   "id": "9c907163",
   "metadata": {},
   "outputs": [
    {
     "name": "stdout",
     "output_type": "stream",
     "text": [
      "Accuracy: 0.9972154963680387\n",
      "Precision: 0.9970760233918129\n",
      "Recall: 0.9973190348525469\n",
      "F1 Score: 0.9972154985311629\n"
     ]
    }
   ],
   "source": [
    "print(\"Accuracy:\",metrics.accuracy_score(y_train2, y_pred10))\n",
    "print(\"Precision:\",metrics.precision_score(y_train2, y_pred10))\n",
    "print(\"Recall:\",metrics.recall_score(y_train2, y_pred10))\n",
    "print(\"F1 Score:\",metrics.f1_score(y_train2, y_pred10,average=\"weighted\"))"
   ]
  },
  {
   "cell_type": "code",
   "execution_count": null,
   "id": "5020b1b4",
   "metadata": {},
   "outputs": [],
   "source": [
    "# Test Data"
   ]
  },
  {
   "cell_type": "code",
   "execution_count": 178,
   "id": "2bac23c3",
   "metadata": {},
   "outputs": [
    {
     "name": "stdout",
     "output_type": "stream",
     "text": [
      "Accuracy Score: 0.8117134559535334\n"
     ]
    }
   ],
   "source": [
    "y_pred11 = model1.predict(x_test2)\n",
    "print(\"Accuracy Score:\",accuracy_score(y_test2,y_pred11))"
   ]
  },
  {
   "cell_type": "code",
   "execution_count": 179,
   "id": "8ae5be58",
   "metadata": {},
   "outputs": [
    {
     "data": {
      "text/plain": [
       "array([[826, 180],\n",
       "       [209, 851]], dtype=int64)"
      ]
     },
     "execution_count": 179,
     "metadata": {},
     "output_type": "execute_result"
    }
   ],
   "source": [
    "cm10 = metrics.confusion_matrix(y_test2, y_pred11)\n",
    "cm10"
   ]
  },
  {
   "cell_type": "code",
   "execution_count": 180,
   "id": "685cbd0b",
   "metadata": {},
   "outputs": [
    {
     "data": {
      "image/png": "[encoded data removed]",
      "text/plain": [
       "<Figure size 648x648 with 2 Axes>"
      ]
     },
     "metadata": {
      "needs_background": "light"
     },
     "output_type": "display_data"
    }
   ],
   "source": [
    "plt.figure(figsize=(9,9))\n",
    "sns.heatmap(cm10, annot=True, fmt=\".3f\", linewidths=.5, square = True, cmap = 'Blues_r');\n",
    "plt.ylabel('Actual label');\n",
    "plt.xlabel('Predicted label');\n",
    "all_sample_title = 'Accuracy Score: {0}'.format(model1.score(x_test2,y_test2))\n",
    "plt.title(all_sample_title, size = 15);"
   ]
  },
  {
   "cell_type": "code",
   "execution_count": 181,
   "id": "22ccfcf8",
   "metadata": {},
   "outputs": [
    {
     "name": "stdout",
     "output_type": "stream",
     "text": [
      "Accuracy: 0.8117134559535334\n",
      "Precision: 0.8254122211445198\n",
      "Recall: 0.8028301886792453\n",
      "F1 Score: 0.8117454419771214\n"
     ]
    }
   ],
   "source": [
    "print(\"Accuracy:\",metrics.accuracy_score(y_test2, y_pred11))\n",
    "print(\"Precision:\",metrics.precision_score(y_test2, y_pred11))\n",
    "print(\"Recall:\",metrics.recall_score(y_test2, y_pred11))\n",
    "print(\"F1 Score:\",metrics.f1_score(y_test2, y_pred11,average=\"weighted\"))"
   ]
  },
  {
   "cell_type": "markdown",
   "id": "813a52e8",
   "metadata": {},
   "source": [
    "# The accuracy and F1 score have increased and are better than any other models. \n",
    "# Recall is 79%, precision has significantly increased to 82.8%.\n",
    "\n",
    "# Hence, this seems to be the best model of all."
   ]
  }
 ],
 "metadata": {
  "hide_input": false,
  "kernelspec": {
   "display_name": "Python 3",
   "language": "python",
   "name": "python3"
  },
  "language_info": {
   "codemirror_mode": {
    "name": "ipython",
    "version": 3
   },
   "file_extension": ".py",
   "mimetype": "text/x-python",
   "name": "python",
   "nbconvert_exporter": "python",
   "pygments_lexer": "ipython3",
   "version": "3.8.8"
  },
  "toc": {
   "base_numbering": 1,
   "nav_menu": {},
   "number_sections": false,
   "sideBar": true,
   "skip_h1_title": false,
   "title_cell": "Table of Contents",
   "title_sidebar": "Contents",
   "toc_cell": false,
   "toc_position": {},
   "toc_section_display": true,
   "toc_window_display": false
  }
 },
 "nbformat": 4,
 "nbformat_minor": 5
}
