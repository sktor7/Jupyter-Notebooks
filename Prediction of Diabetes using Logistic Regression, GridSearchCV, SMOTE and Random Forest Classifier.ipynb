{
 "cells": [
  {
   "cell_type": "code",
   "execution_count": 139,
   "id": "9938ae0d",
   "metadata": {},
   "outputs": [],
   "source": [
    "#Prediction of Diabetes using Logistic Regression, GridSearchCV, SMOTE and Random Forest Classifier"
   ]
  },
  {
   "cell_type": "code",
   "execution_count": 140,
   "id": "acf09893",
   "metadata": {},
   "outputs": [],
   "source": [
    "# Importing necessary libraries"
   ]
  },
  {
   "cell_type": "code",
   "execution_count": 1,
   "id": "d7255e71",
   "metadata": {},
   "outputs": [],
   "source": [
    "import numpy as np\n",
    "import pandas as pd\n",
    "import seaborn as sns\n",
    "import matplotlib.pyplot as plt"
   ]
  },
  {
   "cell_type": "code",
   "execution_count": null,
   "id": "99db9ce5",
   "metadata": {},
   "outputs": [],
   "source": [
    "# Reading data into a DataFrame from dataset stored on my Google Drive."
   ]
  },
  {
   "cell_type": "code",
   "execution_count": 137,
   "id": "e973808f",
   "metadata": {},
   "outputs": [],
   "source": [
    "url='https://drive.google.com/file/d/1o2uMo7phWC8SI9Vb_4EdV9mSIoVfly-i/view?usp=sharing'\n",
    "file_id=url.split('/')[-2]\n",
    "dwn_url='https://drive.google.com/uc?id=' + file_id\n",
    "df = pd.read_csv(dwn_url)"
   ]
  },
  {
   "cell_type": "code",
   "execution_count": 141,
   "id": "923bcad6",
   "metadata": {},
   "outputs": [
    {
     "data": {
      "text/plain": [
       "(768, 9)"
      ]
     },
     "execution_count": 141,
     "metadata": {},
     "output_type": "execute_result"
    }
   ],
   "source": [
    "df.shape"
   ]
  },
  {
   "cell_type": "code",
   "execution_count": 142,
   "id": "35863f69",
   "metadata": {},
   "outputs": [],
   "source": [
    "# Contains 768 rows and 9 columns"
   ]
  },
  {
   "cell_type": "code",
   "execution_count": 143,
   "id": "fb36c230",
   "metadata": {},
   "outputs": [],
   "source": [
    "# Viewing the head and tail of the df to get a basic idea of the dataset."
   ]
  },
  {
   "cell_type": "code",
   "execution_count": 144,
   "id": "e3448e84",
   "metadata": {},
   "outputs": [
    {
     "data": {
      "text/html": [
       "<div>\n",
       "<style scoped>\n",
       "    .dataframe tbody tr th:only-of-type {\n",
       "        vertical-align: middle;\n",
       "    }\n",
       "\n",
       "    .dataframe tbody tr th {\n",
       "        vertical-align: top;\n",
       "    }\n",
       "\n",
       "    .dataframe thead th {\n",
       "        text-align: right;\n",
       "    }\n",
       "</style>\n",
       "<table border=\"1\" class=\"dataframe\">\n",
       "  <thead>\n",
       "    <tr style=\"text-align: right;\">\n",
       "      <th></th>\n",
       "      <th>Pregnancies</th>\n",
       "      <th>Glucose</th>\n",
       "      <th>BloodPressure</th>\n",
       "      <th>SkinThickness</th>\n",
       "      <th>Insulin</th>\n",
       "      <th>BMI</th>\n",
       "      <th>DiabetesPedigreeFunction</th>\n",
       "      <th>Age</th>\n",
       "      <th>Outcome</th>\n",
       "    </tr>\n",
       "  </thead>\n",
       "  <tbody>\n",
       "    <tr>\n",
       "      <th>0</th>\n",
       "      <td>6</td>\n",
       "      <td>148</td>\n",
       "      <td>72</td>\n",
       "      <td>35</td>\n",
       "      <td>0</td>\n",
       "      <td>33.6</td>\n",
       "      <td>0.627</td>\n",
       "      <td>50</td>\n",
       "      <td>1</td>\n",
       "    </tr>\n",
       "    <tr>\n",
       "      <th>1</th>\n",
       "      <td>1</td>\n",
       "      <td>85</td>\n",
       "      <td>66</td>\n",
       "      <td>29</td>\n",
       "      <td>0</td>\n",
       "      <td>26.6</td>\n",
       "      <td>0.351</td>\n",
       "      <td>31</td>\n",
       "      <td>0</td>\n",
       "    </tr>\n",
       "    <tr>\n",
       "      <th>2</th>\n",
       "      <td>8</td>\n",
       "      <td>183</td>\n",
       "      <td>64</td>\n",
       "      <td>0</td>\n",
       "      <td>0</td>\n",
       "      <td>23.3</td>\n",
       "      <td>0.672</td>\n",
       "      <td>32</td>\n",
       "      <td>1</td>\n",
       "    </tr>\n",
       "    <tr>\n",
       "      <th>3</th>\n",
       "      <td>1</td>\n",
       "      <td>89</td>\n",
       "      <td>66</td>\n",
       "      <td>23</td>\n",
       "      <td>94</td>\n",
       "      <td>28.1</td>\n",
       "      <td>0.167</td>\n",
       "      <td>21</td>\n",
       "      <td>0</td>\n",
       "    </tr>\n",
       "    <tr>\n",
       "      <th>4</th>\n",
       "      <td>0</td>\n",
       "      <td>137</td>\n",
       "      <td>40</td>\n",
       "      <td>35</td>\n",
       "      <td>168</td>\n",
       "      <td>43.1</td>\n",
       "      <td>2.288</td>\n",
       "      <td>33</td>\n",
       "      <td>1</td>\n",
       "    </tr>\n",
       "    <tr>\n",
       "      <th>5</th>\n",
       "      <td>5</td>\n",
       "      <td>116</td>\n",
       "      <td>74</td>\n",
       "      <td>0</td>\n",
       "      <td>0</td>\n",
       "      <td>25.6</td>\n",
       "      <td>0.201</td>\n",
       "      <td>30</td>\n",
       "      <td>0</td>\n",
       "    </tr>\n",
       "    <tr>\n",
       "      <th>6</th>\n",
       "      <td>3</td>\n",
       "      <td>78</td>\n",
       "      <td>50</td>\n",
       "      <td>32</td>\n",
       "      <td>88</td>\n",
       "      <td>31.0</td>\n",
       "      <td>0.248</td>\n",
       "      <td>26</td>\n",
       "      <td>1</td>\n",
       "    </tr>\n",
       "    <tr>\n",
       "      <th>7</th>\n",
       "      <td>10</td>\n",
       "      <td>115</td>\n",
       "      <td>0</td>\n",
       "      <td>0</td>\n",
       "      <td>0</td>\n",
       "      <td>35.3</td>\n",
       "      <td>0.134</td>\n",
       "      <td>29</td>\n",
       "      <td>0</td>\n",
       "    </tr>\n",
       "    <tr>\n",
       "      <th>8</th>\n",
       "      <td>2</td>\n",
       "      <td>197</td>\n",
       "      <td>70</td>\n",
       "      <td>45</td>\n",
       "      <td>543</td>\n",
       "      <td>30.5</td>\n",
       "      <td>0.158</td>\n",
       "      <td>53</td>\n",
       "      <td>1</td>\n",
       "    </tr>\n",
       "    <tr>\n",
       "      <th>9</th>\n",
       "      <td>8</td>\n",
       "      <td>125</td>\n",
       "      <td>96</td>\n",
       "      <td>0</td>\n",
       "      <td>0</td>\n",
       "      <td>0.0</td>\n",
       "      <td>0.232</td>\n",
       "      <td>54</td>\n",
       "      <td>1</td>\n",
       "    </tr>\n",
       "  </tbody>\n",
       "</table>\n",
       "</div>"
      ],
      "text/plain": [
       "   Pregnancies  Glucose  BloodPressure  SkinThickness  Insulin   BMI  \\\n",
       "0            6      148             72             35        0  33.6   \n",
       "1            1       85             66             29        0  26.6   \n",
       "2            8      183             64              0        0  23.3   \n",
       "3            1       89             66             23       94  28.1   \n",
       "4            0      137             40             35      168  43.1   \n",
       "5            5      116             74              0        0  25.6   \n",
       "6            3       78             50             32       88  31.0   \n",
       "7           10      115              0              0        0  35.3   \n",
       "8            2      197             70             45      543  30.5   \n",
       "9            8      125             96              0        0   0.0   \n",
       "\n",
       "   DiabetesPedigreeFunction  Age  Outcome  \n",
       "0                     0.627   50        1  \n",
       "1                     0.351   31        0  \n",
       "2                     0.672   32        1  \n",
       "3                     0.167   21        0  \n",
       "4                     2.288   33        1  \n",
       "5                     0.201   30        0  \n",
       "6                     0.248   26        1  \n",
       "7                     0.134   29        0  \n",
       "8                     0.158   53        1  \n",
       "9                     0.232   54        1  "
      ]
     },
     "execution_count": 144,
     "metadata": {},
     "output_type": "execute_result"
    }
   ],
   "source": [
    "df.head(10)"
   ]
  },
  {
   "cell_type": "code",
   "execution_count": 145,
   "id": "ceaa524b",
   "metadata": {},
   "outputs": [
    {
     "data": {
      "text/html": [
       "<div>\n",
       "<style scoped>\n",
       "    .dataframe tbody tr th:only-of-type {\n",
       "        vertical-align: middle;\n",
       "    }\n",
       "\n",
       "    .dataframe tbody tr th {\n",
       "        vertical-align: top;\n",
       "    }\n",
       "\n",
       "    .dataframe thead th {\n",
       "        text-align: right;\n",
       "    }\n",
       "</style>\n",
       "<table border=\"1\" class=\"dataframe\">\n",
       "  <thead>\n",
       "    <tr style=\"text-align: right;\">\n",
       "      <th></th>\n",
       "      <th>Pregnancies</th>\n",
       "      <th>Glucose</th>\n",
       "      <th>BloodPressure</th>\n",
       "      <th>SkinThickness</th>\n",
       "      <th>Insulin</th>\n",
       "      <th>BMI</th>\n",
       "      <th>DiabetesPedigreeFunction</th>\n",
       "      <th>Age</th>\n",
       "      <th>Outcome</th>\n",
       "    </tr>\n",
       "  </thead>\n",
       "  <tbody>\n",
       "    <tr>\n",
       "      <th>758</th>\n",
       "      <td>1</td>\n",
       "      <td>106</td>\n",
       "      <td>76</td>\n",
       "      <td>0</td>\n",
       "      <td>0</td>\n",
       "      <td>37.5</td>\n",
       "      <td>0.197</td>\n",
       "      <td>26</td>\n",
       "      <td>0</td>\n",
       "    </tr>\n",
       "    <tr>\n",
       "      <th>759</th>\n",
       "      <td>6</td>\n",
       "      <td>190</td>\n",
       "      <td>92</td>\n",
       "      <td>0</td>\n",
       "      <td>0</td>\n",
       "      <td>35.5</td>\n",
       "      <td>0.278</td>\n",
       "      <td>66</td>\n",
       "      <td>1</td>\n",
       "    </tr>\n",
       "    <tr>\n",
       "      <th>760</th>\n",
       "      <td>2</td>\n",
       "      <td>88</td>\n",
       "      <td>58</td>\n",
       "      <td>26</td>\n",
       "      <td>16</td>\n",
       "      <td>28.4</td>\n",
       "      <td>0.766</td>\n",
       "      <td>22</td>\n",
       "      <td>0</td>\n",
       "    </tr>\n",
       "    <tr>\n",
       "      <th>761</th>\n",
       "      <td>9</td>\n",
       "      <td>170</td>\n",
       "      <td>74</td>\n",
       "      <td>31</td>\n",
       "      <td>0</td>\n",
       "      <td>44.0</td>\n",
       "      <td>0.403</td>\n",
       "      <td>43</td>\n",
       "      <td>1</td>\n",
       "    </tr>\n",
       "    <tr>\n",
       "      <th>762</th>\n",
       "      <td>9</td>\n",
       "      <td>89</td>\n",
       "      <td>62</td>\n",
       "      <td>0</td>\n",
       "      <td>0</td>\n",
       "      <td>22.5</td>\n",
       "      <td>0.142</td>\n",
       "      <td>33</td>\n",
       "      <td>0</td>\n",
       "    </tr>\n",
       "    <tr>\n",
       "      <th>763</th>\n",
       "      <td>10</td>\n",
       "      <td>101</td>\n",
       "      <td>76</td>\n",
       "      <td>48</td>\n",
       "      <td>180</td>\n",
       "      <td>32.9</td>\n",
       "      <td>0.171</td>\n",
       "      <td>63</td>\n",
       "      <td>0</td>\n",
       "    </tr>\n",
       "    <tr>\n",
       "      <th>764</th>\n",
       "      <td>2</td>\n",
       "      <td>122</td>\n",
       "      <td>70</td>\n",
       "      <td>27</td>\n",
       "      <td>0</td>\n",
       "      <td>36.8</td>\n",
       "      <td>0.340</td>\n",
       "      <td>27</td>\n",
       "      <td>0</td>\n",
       "    </tr>\n",
       "    <tr>\n",
       "      <th>765</th>\n",
       "      <td>5</td>\n",
       "      <td>121</td>\n",
       "      <td>72</td>\n",
       "      <td>23</td>\n",
       "      <td>112</td>\n",
       "      <td>26.2</td>\n",
       "      <td>0.245</td>\n",
       "      <td>30</td>\n",
       "      <td>0</td>\n",
       "    </tr>\n",
       "    <tr>\n",
       "      <th>766</th>\n",
       "      <td>1</td>\n",
       "      <td>126</td>\n",
       "      <td>60</td>\n",
       "      <td>0</td>\n",
       "      <td>0</td>\n",
       "      <td>30.1</td>\n",
       "      <td>0.349</td>\n",
       "      <td>47</td>\n",
       "      <td>1</td>\n",
       "    </tr>\n",
       "    <tr>\n",
       "      <th>767</th>\n",
       "      <td>1</td>\n",
       "      <td>93</td>\n",
       "      <td>70</td>\n",
       "      <td>31</td>\n",
       "      <td>0</td>\n",
       "      <td>30.4</td>\n",
       "      <td>0.315</td>\n",
       "      <td>23</td>\n",
       "      <td>0</td>\n",
       "    </tr>\n",
       "  </tbody>\n",
       "</table>\n",
       "</div>"
      ],
      "text/plain": [
       "     Pregnancies  Glucose  BloodPressure  SkinThickness  Insulin   BMI  \\\n",
       "758            1      106             76              0        0  37.5   \n",
       "759            6      190             92              0        0  35.5   \n",
       "760            2       88             58             26       16  28.4   \n",
       "761            9      170             74             31        0  44.0   \n",
       "762            9       89             62              0        0  22.5   \n",
       "763           10      101             76             48      180  32.9   \n",
       "764            2      122             70             27        0  36.8   \n",
       "765            5      121             72             23      112  26.2   \n",
       "766            1      126             60              0        0  30.1   \n",
       "767            1       93             70             31        0  30.4   \n",
       "\n",
       "     DiabetesPedigreeFunction  Age  Outcome  \n",
       "758                     0.197   26        0  \n",
       "759                     0.278   66        1  \n",
       "760                     0.766   22        0  \n",
       "761                     0.403   43        1  \n",
       "762                     0.142   33        0  \n",
       "763                     0.171   63        0  \n",
       "764                     0.340   27        0  \n",
       "765                     0.245   30        0  \n",
       "766                     0.349   47        1  \n",
       "767                     0.315   23        0  "
      ]
     },
     "execution_count": 145,
     "metadata": {},
     "output_type": "execute_result"
    }
   ],
   "source": [
    "df.tail(10)"
   ]
  },
  {
   "cell_type": "code",
   "execution_count": 147,
   "id": "de061491",
   "metadata": {},
   "outputs": [
    {
     "name": "stdout",
     "output_type": "stream",
     "text": [
      "<class 'pandas.core.frame.DataFrame'>\n",
      "RangeIndex: 768 entries, 0 to 767\n",
      "Data columns (total 9 columns):\n",
      " #   Column                    Non-Null Count  Dtype  \n",
      "---  ------                    --------------  -----  \n",
      " 0   Pregnancies               768 non-null    int64  \n",
      " 1   Glucose                   768 non-null    int64  \n",
      " 2   BloodPressure             768 non-null    int64  \n",
      " 3   SkinThickness             768 non-null    int64  \n",
      " 4   Insulin                   768 non-null    int64  \n",
      " 5   BMI                       768 non-null    float64\n",
      " 6   DiabetesPedigreeFunction  768 non-null    float64\n",
      " 7   Age                       768 non-null    int64  \n",
      " 8   Outcome                   768 non-null    int64  \n",
      "dtypes: float64(2), int64(7)\n",
      "memory usage: 54.1 KB\n"
     ]
    }
   ],
   "source": [
    "df.info()"
   ]
  },
  {
   "cell_type": "code",
   "execution_count": 148,
   "id": "ef4d987d",
   "metadata": {},
   "outputs": [],
   "source": [
    "# 2 Float and 7 int columns"
   ]
  },
  {
   "cell_type": "markdown",
   "id": "c6c80d09",
   "metadata": {},
   "source": [
    "sns.heatmap(df.corr())"
   ]
  },
  {
   "cell_type": "code",
   "execution_count": null,
   "id": "4a5d1ad7",
   "metadata": {},
   "outputs": [],
   "source": [
    "# Checking for null values."
   ]
  },
  {
   "cell_type": "code",
   "execution_count": 5,
   "id": "0f1adce4",
   "metadata": {},
   "outputs": [
    {
     "data": {
      "text/plain": [
       "Pregnancies                 0\n",
       "Glucose                     0\n",
       "BloodPressure               0\n",
       "SkinThickness               0\n",
       "Insulin                     0\n",
       "BMI                         0\n",
       "DiabetesPedigreeFunction    0\n",
       "Age                         0\n",
       "Outcome                     0\n",
       "dtype: int64"
      ]
     },
     "execution_count": 5,
     "metadata": {},
     "output_type": "execute_result"
    }
   ],
   "source": [
    "df.isna().sum()"
   ]
  },
  {
   "cell_type": "code",
   "execution_count": null,
   "id": "1773a3af",
   "metadata": {},
   "outputs": [],
   "source": [
    "# No null values"
   ]
  },
  {
   "cell_type": "code",
   "execution_count": null,
   "id": "b5cb3a92",
   "metadata": {},
   "outputs": [],
   "source": [
    "# Plotting histograms"
   ]
  },
  {
   "cell_type": "code",
   "execution_count": 6,
   "id": "27ed46f3",
   "metadata": {
    "scrolled": true
   },
   "outputs": [
    {
     "data": {
      "text/plain": [
       "array([[<AxesSubplot:title={'center':'Pregnancies'}>,\n",
       "        <AxesSubplot:title={'center':'Glucose'}>,\n",
       "        <AxesSubplot:title={'center':'BloodPressure'}>],\n",
       "       [<AxesSubplot:title={'center':'SkinThickness'}>,\n",
       "        <AxesSubplot:title={'center':'Insulin'}>,\n",
       "        <AxesSubplot:title={'center':'BMI'}>],\n",
       "       [<AxesSubplot:title={'center':'DiabetesPedigreeFunction'}>,\n",
       "        <AxesSubplot:title={'center':'Age'}>,\n",
       "        <AxesSubplot:title={'center':'Outcome'}>]], dtype=object)"
      ]
     },
     "execution_count": 6,
     "metadata": {},
     "output_type": "execute_result"
    },
    {
     "data": {
      "image/png": "[encoded data removed]",
      "text/plain": [
       "<Figure size 864x864 with 9 Axes>"
      ]
     },
     "metadata": {
      "needs_background": "light"
     },
     "output_type": "display_data"
    }
   ],
   "source": [
    "df.hist(figsize=(12,12))"
   ]
  },
  {
   "cell_type": "code",
   "execution_count": 150,
   "id": "cb890ec8",
   "metadata": {},
   "outputs": [],
   "source": [
    "# Importing library for data scaling."
   ]
  },
  {
   "cell_type": "code",
   "execution_count": 47,
   "id": "b17ba87a",
   "metadata": {},
   "outputs": [],
   "source": [
    "from sklearn.preprocessing import MinMaxScaler"
   ]
  },
  {
   "cell_type": "code",
   "execution_count": 48,
   "id": "29313d31",
   "metadata": {},
   "outputs": [],
   "source": [
    "scaler = MinMaxScaler()"
   ]
  },
  {
   "cell_type": "code",
   "execution_count": 151,
   "id": "ac203a3d",
   "metadata": {},
   "outputs": [],
   "source": [
    "# Scaling the numerical data."
   ]
  },
  {
   "cell_type": "code",
   "execution_count": 49,
   "id": "747b72e1",
   "metadata": {},
   "outputs": [
    {
     "data": {
      "text/html": [
       "<div>\n",
       "<style scoped>\n",
       "    .dataframe tbody tr th:only-of-type {\n",
       "        vertical-align: middle;\n",
       "    }\n",
       "\n",
       "    .dataframe tbody tr th {\n",
       "        vertical-align: top;\n",
       "    }\n",
       "\n",
       "    .dataframe thead th {\n",
       "        text-align: right;\n",
       "    }\n",
       "</style>\n",
       "<table border=\"1\" class=\"dataframe\">\n",
       "  <thead>\n",
       "    <tr style=\"text-align: right;\">\n",
       "      <th></th>\n",
       "      <th>Pregnancies</th>\n",
       "      <th>Glucose</th>\n",
       "      <th>BloodPressure</th>\n",
       "      <th>SkinThickness</th>\n",
       "      <th>Insulin</th>\n",
       "      <th>BMI</th>\n",
       "      <th>DiabetesPedigreeFunction</th>\n",
       "      <th>Age</th>\n",
       "      <th>Outcome</th>\n",
       "    </tr>\n",
       "  </thead>\n",
       "  <tbody>\n",
       "    <tr>\n",
       "      <th>0</th>\n",
       "      <td>0.352941</td>\n",
       "      <td>0.743719</td>\n",
       "      <td>0.590164</td>\n",
       "      <td>0.353535</td>\n",
       "      <td>0.000000</td>\n",
       "      <td>0.500745</td>\n",
       "      <td>0.234415</td>\n",
       "      <td>0.483333</td>\n",
       "      <td>1.0</td>\n",
       "    </tr>\n",
       "    <tr>\n",
       "      <th>1</th>\n",
       "      <td>0.058824</td>\n",
       "      <td>0.427136</td>\n",
       "      <td>0.540984</td>\n",
       "      <td>0.292929</td>\n",
       "      <td>0.000000</td>\n",
       "      <td>0.396423</td>\n",
       "      <td>0.116567</td>\n",
       "      <td>0.166667</td>\n",
       "      <td>0.0</td>\n",
       "    </tr>\n",
       "    <tr>\n",
       "      <th>2</th>\n",
       "      <td>0.470588</td>\n",
       "      <td>0.919598</td>\n",
       "      <td>0.524590</td>\n",
       "      <td>0.000000</td>\n",
       "      <td>0.000000</td>\n",
       "      <td>0.347243</td>\n",
       "      <td>0.253629</td>\n",
       "      <td>0.183333</td>\n",
       "      <td>1.0</td>\n",
       "    </tr>\n",
       "    <tr>\n",
       "      <th>3</th>\n",
       "      <td>0.058824</td>\n",
       "      <td>0.447236</td>\n",
       "      <td>0.540984</td>\n",
       "      <td>0.232323</td>\n",
       "      <td>0.111111</td>\n",
       "      <td>0.418778</td>\n",
       "      <td>0.038002</td>\n",
       "      <td>0.000000</td>\n",
       "      <td>0.0</td>\n",
       "    </tr>\n",
       "    <tr>\n",
       "      <th>4</th>\n",
       "      <td>0.000000</td>\n",
       "      <td>0.688442</td>\n",
       "      <td>0.327869</td>\n",
       "      <td>0.353535</td>\n",
       "      <td>0.198582</td>\n",
       "      <td>0.642325</td>\n",
       "      <td>0.943638</td>\n",
       "      <td>0.200000</td>\n",
       "      <td>1.0</td>\n",
       "    </tr>\n",
       "    <tr>\n",
       "      <th>...</th>\n",
       "      <td>...</td>\n",
       "      <td>...</td>\n",
       "      <td>...</td>\n",
       "      <td>...</td>\n",
       "      <td>...</td>\n",
       "      <td>...</td>\n",
       "      <td>...</td>\n",
       "      <td>...</td>\n",
       "      <td>...</td>\n",
       "    </tr>\n",
       "    <tr>\n",
       "      <th>763</th>\n",
       "      <td>0.588235</td>\n",
       "      <td>0.507538</td>\n",
       "      <td>0.622951</td>\n",
       "      <td>0.484848</td>\n",
       "      <td>0.212766</td>\n",
       "      <td>0.490313</td>\n",
       "      <td>0.039710</td>\n",
       "      <td>0.700000</td>\n",
       "      <td>0.0</td>\n",
       "    </tr>\n",
       "    <tr>\n",
       "      <th>764</th>\n",
       "      <td>0.117647</td>\n",
       "      <td>0.613065</td>\n",
       "      <td>0.573770</td>\n",
       "      <td>0.272727</td>\n",
       "      <td>0.000000</td>\n",
       "      <td>0.548435</td>\n",
       "      <td>0.111870</td>\n",
       "      <td>0.100000</td>\n",
       "      <td>0.0</td>\n",
       "    </tr>\n",
       "    <tr>\n",
       "      <th>765</th>\n",
       "      <td>0.294118</td>\n",
       "      <td>0.608040</td>\n",
       "      <td>0.590164</td>\n",
       "      <td>0.232323</td>\n",
       "      <td>0.132388</td>\n",
       "      <td>0.390462</td>\n",
       "      <td>0.071307</td>\n",
       "      <td>0.150000</td>\n",
       "      <td>0.0</td>\n",
       "    </tr>\n",
       "    <tr>\n",
       "      <th>766</th>\n",
       "      <td>0.058824</td>\n",
       "      <td>0.633166</td>\n",
       "      <td>0.491803</td>\n",
       "      <td>0.000000</td>\n",
       "      <td>0.000000</td>\n",
       "      <td>0.448584</td>\n",
       "      <td>0.115713</td>\n",
       "      <td>0.433333</td>\n",
       "      <td>1.0</td>\n",
       "    </tr>\n",
       "    <tr>\n",
       "      <th>767</th>\n",
       "      <td>0.058824</td>\n",
       "      <td>0.467337</td>\n",
       "      <td>0.573770</td>\n",
       "      <td>0.313131</td>\n",
       "      <td>0.000000</td>\n",
       "      <td>0.453055</td>\n",
       "      <td>0.101196</td>\n",
       "      <td>0.033333</td>\n",
       "      <td>0.0</td>\n",
       "    </tr>\n",
       "  </tbody>\n",
       "</table>\n",
       "<p>768 rows × 9 columns</p>\n",
       "</div>"
      ],
      "text/plain": [
       "     Pregnancies   Glucose  BloodPressure  SkinThickness   Insulin       BMI  \\\n",
       "0       0.352941  0.743719       0.590164       0.353535  0.000000  0.500745   \n",
       "1       0.058824  0.427136       0.540984       0.292929  0.000000  0.396423   \n",
       "2       0.470588  0.919598       0.524590       0.000000  0.000000  0.347243   \n",
       "3       0.058824  0.447236       0.540984       0.232323  0.111111  0.418778   \n",
       "4       0.000000  0.688442       0.327869       0.353535  0.198582  0.642325   \n",
       "..           ...       ...            ...            ...       ...       ...   \n",
       "763     0.588235  0.507538       0.622951       0.484848  0.212766  0.490313   \n",
       "764     0.117647  0.613065       0.573770       0.272727  0.000000  0.548435   \n",
       "765     0.294118  0.608040       0.590164       0.232323  0.132388  0.390462   \n",
       "766     0.058824  0.633166       0.491803       0.000000  0.000000  0.448584   \n",
       "767     0.058824  0.467337       0.573770       0.313131  0.000000  0.453055   \n",
       "\n",
       "     DiabetesPedigreeFunction       Age  Outcome  \n",
       "0                    0.234415  0.483333      1.0  \n",
       "1                    0.116567  0.166667      0.0  \n",
       "2                    0.253629  0.183333      1.0  \n",
       "3                    0.038002  0.000000      0.0  \n",
       "4                    0.943638  0.200000      1.0  \n",
       "..                        ...       ...      ...  \n",
       "763                  0.039710  0.700000      0.0  \n",
       "764                  0.111870  0.100000      0.0  \n",
       "765                  0.071307  0.150000      0.0  \n",
       "766                  0.115713  0.433333      1.0  \n",
       "767                  0.101196  0.033333      0.0  \n",
       "\n",
       "[768 rows x 9 columns]"
      ]
     },
     "execution_count": 49,
     "metadata": {},
     "output_type": "execute_result"
    }
   ],
   "source": [
    "diabetes_scaled=pd.DataFrame((scaler.fit_transform(df)),columns=df.columns)\n",
    "diabetes_scaled"
   ]
  },
  {
   "cell_type": "code",
   "execution_count": 152,
   "id": "09d2fe7d",
   "metadata": {},
   "outputs": [],
   "source": [
    "# Checking the Outcome column data"
   ]
  },
  {
   "cell_type": "code",
   "execution_count": 50,
   "id": "401c1c30",
   "metadata": {},
   "outputs": [
    {
     "data": {
      "text/plain": [
       "0.0    500\n",
       "1.0    268\n",
       "Name: Outcome, dtype: int64"
      ]
     },
     "execution_count": 50,
     "metadata": {},
     "output_type": "execute_result"
    }
   ],
   "source": [
    "diabetes_scaled.Outcome.value_counts()"
   ]
  },
  {
   "cell_type": "code",
   "execution_count": 153,
   "id": "e05055a6",
   "metadata": {},
   "outputs": [
    {
     "data": {
      "text/plain": [
       "0.0    0.651042\n",
       "1.0    0.348958\n",
       "Name: Outcome, dtype: float64"
      ]
     },
     "execution_count": 153,
     "metadata": {},
     "output_type": "execute_result"
    }
   ],
   "source": [
    "diabetes_scaled.Outcome.value_counts()/len(diabetes_scaled)"
   ]
  },
  {
   "cell_type": "code",
   "execution_count": 154,
   "id": "14aeb2c4",
   "metadata": {},
   "outputs": [],
   "source": [
    "# The outcome column states that approximately 65% customers in this dataset do NOT have diabetes and 27% have diabetes.\n",
    "# Hence, there is a class imbalance."
   ]
  },
  {
   "cell_type": "code",
   "execution_count": 155,
   "id": "e2069776",
   "metadata": {},
   "outputs": [],
   "source": [
    "# First, let us get a baseline regression model."
   ]
  },
  {
   "cell_type": "code",
   "execution_count": 156,
   "id": "a11b416d",
   "metadata": {},
   "outputs": [],
   "source": [
    "# Splitting the DataFrame into dependent and independent variables."
   ]
  },
  {
   "cell_type": "code",
   "execution_count": 51,
   "id": "34fb1a9d",
   "metadata": {},
   "outputs": [],
   "source": [
    "y=diabetes_scaled.Outcome\n",
    "x=diabetes_scaled.drop('Outcome',axis=1)"
   ]
  },
  {
   "cell_type": "code",
   "execution_count": 157,
   "id": "204b6e67",
   "metadata": {},
   "outputs": [],
   "source": [
    "# Splitting the variables into train and test data."
   ]
  },
  {
   "cell_type": "code",
   "execution_count": 52,
   "id": "151e61e0",
   "metadata": {},
   "outputs": [],
   "source": [
    "from sklearn.model_selection import train_test_split\n",
    "x_train,x_test,y_train,y_test=train_test_split(x,y,random_state=0,test_size=0.2)"
   ]
  },
  {
   "cell_type": "code",
   "execution_count": 158,
   "id": "c2e71a4a",
   "metadata": {},
   "outputs": [],
   "source": [
    "# Importing libraries needed for logistic regression."
   ]
  },
  {
   "cell_type": "code",
   "execution_count": 53,
   "id": "9d99bb21",
   "metadata": {},
   "outputs": [],
   "source": [
    "from sklearn.linear_model import LogisticRegression\n",
    "from sklearn.metrics import accuracy_score\n",
    "from sklearn.linear_model import LinearRegression\n",
    "from sklearn.model_selection import train_test_split\n",
    "from sklearn.metrics import r2_score\n",
    "from sklearn import linear_model\n",
    "from sklearn import metrics"
   ]
  },
  {
   "cell_type": "code",
   "execution_count": 159,
   "id": "b14bdf57",
   "metadata": {},
   "outputs": [],
   "source": [
    "# Fitting the train data on the logistic regression model."
   ]
  },
  {
   "cell_type": "code",
   "execution_count": 54,
   "id": "99e07b42",
   "metadata": {},
   "outputs": [
    {
     "name": "stdout",
     "output_type": "stream",
     "text": [
      "accuracy: 81.81818181818183%\n"
     ]
    }
   ],
   "source": [
    "reg=linear_model.LogisticRegression()\n",
    "reg.fit(x_train,y_train)\n",
    "y_pred=reg.predict(x_test)\n",
    "print(\"accuracy: \"+ str(reg.score(x_test,y_test)*100) + \"%\")"
   ]
  },
  {
   "cell_type": "code",
   "execution_count": 160,
   "id": "2c54bfa9",
   "metadata": {},
   "outputs": [],
   "source": [
    "# Confusion matrix."
   ]
  },
  {
   "cell_type": "code",
   "execution_count": 55,
   "id": "ddc167c2",
   "metadata": {},
   "outputs": [
    {
     "data": {
      "text/plain": [
       "array([[99,  8],\n",
       "       [20, 27]], dtype=int64)"
      ]
     },
     "execution_count": 55,
     "metadata": {},
     "output_type": "execute_result"
    }
   ],
   "source": [
    "cm = metrics.confusion_matrix(y_test, y_pred)\n",
    "cm"
   ]
  },
  {
   "cell_type": "code",
   "execution_count": 161,
   "id": "6fc2d212",
   "metadata": {},
   "outputs": [],
   "source": [
    "# Visualizing the confusion matrix."
   ]
  },
  {
   "cell_type": "code",
   "execution_count": 56,
   "id": "74cfd901",
   "metadata": {},
   "outputs": [
    {
     "data": {
      "image/png": "[encoded data removed]",
      "text/plain": [
       "<Figure size 648x648 with 2 Axes>"
      ]
     },
     "metadata": {
      "needs_background": "light"
     },
     "output_type": "display_data"
    }
   ],
   "source": [
    "plt.figure(figsize=(9,9))\n",
    "sns.heatmap(cm, annot=True, fmt=\".3f\", linewidths=.5, square = True, cmap = 'Blues_r');\n",
    "plt.ylabel('Actual label');\n",
    "plt.xlabel('Predicted label');\n",
    "all_sample_title = 'Accuracy Score: {0}'.format(reg.score(x_test,y_test))\n",
    "plt.title(all_sample_title, size = 15);"
   ]
  },
  {
   "cell_type": "code",
   "execution_count": 57,
   "id": "85c2e024",
   "metadata": {},
   "outputs": [
    {
     "name": "stdout",
     "output_type": "stream",
     "text": [
      "Accuracy: 0.8181818181818182\n",
      "Precision: 0.7714285714285715\n",
      "Recall: 0.574468085106383\n",
      "F1 Score: 0.8097050801561917\n"
     ]
    }
   ],
   "source": [
    "print(\"Accuracy:\",metrics.accuracy_score(y_test, y_pred))\n",
    "print(\"Precision:\",metrics.precision_score(y_test, y_pred))\n",
    "print(\"Recall:\",metrics.recall_score(y_test, y_pred))\n",
    "print(\"F1 Score:\",metrics.f1_score(y_test, y_pred,average=\"weighted\"))"
   ]
  },
  {
   "cell_type": "code",
   "execution_count": 162,
   "id": "bba28cf7",
   "metadata": {},
   "outputs": [],
   "source": [
    "# Accuracy of Logistic Regression is 81.8%. Recall is 57% and F1 score seems to be a healthy 81%.\n",
    "\n",
    "# Since we are dealing with health data, we need to increase the Recall score as not to wrongly\n",
    "# predict diseased patients as healthy."
   ]
  },
  {
   "cell_type": "code",
   "execution_count": 163,
   "id": "ac1f7103",
   "metadata": {},
   "outputs": [],
   "source": [
    "# The coefficients of all features"
   ]
  },
  {
   "cell_type": "code",
   "execution_count": 61,
   "id": "173fa073",
   "metadata": {},
   "outputs": [
    {
     "data": {
      "text/plain": [
       "array([ 1.55085905,  4.8465318 , -0.7584637 ,  0.18402503, -0.10588792,\n",
       "        3.28666164,  1.50608285,  0.98877862])"
      ]
     },
     "execution_count": 61,
     "metadata": {},
     "output_type": "execute_result"
    }
   ],
   "source": [
    "reg.coef_[0]"
   ]
  },
  {
   "cell_type": "code",
   "execution_count": 62,
   "id": "eefa849b",
   "metadata": {},
   "outputs": [],
   "source": [
    "feature_imp = pd.DataFrame(data={\n",
    "    'Attribute': x_train.columns,\n",
    "    'Importance': reg.coef_[0]})"
   ]
  },
  {
   "cell_type": "code",
   "execution_count": 63,
   "id": "1e5d5dc1",
   "metadata": {},
   "outputs": [],
   "source": [
    "feature_imp = feature_imp.sort_values(by='Importance',ascending=False)"
   ]
  },
  {
   "cell_type": "code",
   "execution_count": 164,
   "id": "a2270fca",
   "metadata": {},
   "outputs": [],
   "source": [
    "# Plotting all the features in descending order of their importance."
   ]
  },
  {
   "cell_type": "code",
   "execution_count": 64,
   "id": "7321ecac",
   "metadata": {},
   "outputs": [
    {
     "data": {
      "image/png": "[encoded data removed]",
      "text/plain": [
       "<Figure size 432x288 with 1 Axes>"
      ]
     },
     "metadata": {
      "needs_background": "light"
     },
     "output_type": "display_data"
    }
   ],
   "source": [
    "plt.bar(x=feature_imp['Attribute'], height=feature_imp['Importance'])\n",
    "plt.title('Feature importances obtained from coefficients', size=20)\n",
    "plt.xticks(rotation='vertical')\n",
    "plt.show()"
   ]
  },
  {
   "cell_type": "code",
   "execution_count": 165,
   "id": "c85b61f9",
   "metadata": {},
   "outputs": [],
   "source": [
    "# Filtering the important columns to a new dataset."
   ]
  },
  {
   "cell_type": "code",
   "execution_count": 68,
   "id": "2993c749",
   "metadata": {},
   "outputs": [],
   "source": [
    "diabetes_scaled_imp=diabetes_scaled.filter(['Glucose','BMI','Pregnancies','DiabetesPedigreeFunction','Age','BloodPressure','Outcome'])"
   ]
  },
  {
   "cell_type": "code",
   "execution_count": 69,
   "id": "98997d3c",
   "metadata": {},
   "outputs": [],
   "source": [
    "y1=diabetes_scaled_imp.Outcome\n",
    "x1=diabetes_scaled_imp.drop('Outcome',axis=1)"
   ]
  },
  {
   "cell_type": "code",
   "execution_count": 70,
   "id": "990702e2",
   "metadata": {},
   "outputs": [],
   "source": [
    "from sklearn.model_selection import train_test_split\n",
    "x_train1,x_test1,y_train1,y_test1=train_test_split(x1,y1,random_state=0,test_size=0.2)"
   ]
  },
  {
   "cell_type": "code",
   "execution_count": 84,
   "id": "afef15d8",
   "metadata": {},
   "outputs": [
    {
     "name": "stdout",
     "output_type": "stream",
     "text": [
      "accuracy: 83.76623376623377%\n"
     ]
    }
   ],
   "source": [
    "reg1=linear_model.LogisticRegression()\n",
    "reg1.fit(x_train1,y_train1)\n",
    "y_pred1=reg1.predict(x_test1)\n",
    "print(\"accuracy: \"+ str(reg1.score(x_test1,y_test1)*100) + \"%\")"
   ]
  },
  {
   "cell_type": "code",
   "execution_count": 85,
   "id": "3be61591",
   "metadata": {},
   "outputs": [
    {
     "data": {
      "text/plain": [
       "array([[101,   6],\n",
       "       [ 19,  28]], dtype=int64)"
      ]
     },
     "execution_count": 85,
     "metadata": {},
     "output_type": "execute_result"
    }
   ],
   "source": [
    "cm1 = metrics.confusion_matrix(y_test1, y_pred1)\n",
    "cm1"
   ]
  },
  {
   "cell_type": "code",
   "execution_count": 86,
   "id": "10fbc27b",
   "metadata": {},
   "outputs": [
    {
     "data": {
      "image/png": "[encoded data removed]",
      "text/plain": [
       "<Figure size 648x648 with 2 Axes>"
      ]
     },
     "metadata": {
      "needs_background": "light"
     },
     "output_type": "display_data"
    }
   ],
   "source": [
    "plt.figure(figsize=(9,9))\n",
    "sns.heatmap(cm1, annot=True, fmt=\".3f\", linewidths=.5, square = True, cmap = 'Blues_r');\n",
    "plt.ylabel('Actual label');\n",
    "plt.xlabel('Predicted label');\n",
    "all_sample_title = 'Accuracy Score: {0}'.format(reg1.score(x_test1,y_test1))\n",
    "plt.title(all_sample_title, size = 15);"
   ]
  },
  {
   "cell_type": "code",
   "execution_count": 87,
   "id": "8c8ad1bb",
   "metadata": {},
   "outputs": [
    {
     "name": "stdout",
     "output_type": "stream",
     "text": [
      "Accuracy: 0.8376623376623377\n",
      "Precision: 0.8235294117647058\n",
      "Recall: 0.5957446808510638\n",
      "F1 Score: 0.8292836765670833\n"
     ]
    }
   ],
   "source": [
    "print(\"Accuracy:\",metrics.accuracy_score(y_test1, y_pred1))\n",
    "print(\"Precision:\",metrics.precision_score(y_test1, y_pred1))\n",
    "print(\"Recall:\",metrics.recall_score(y_test1, y_pred1))\n",
    "print(\"F1 Score:\",metrics.f1_score(y_test1, y_pred1,average=\"weighted\"))"
   ]
  },
  {
   "cell_type": "code",
   "execution_count": 75,
   "id": "1d31d8eb",
   "metadata": {},
   "outputs": [],
   "source": [
    "# All metrics have slightly increased after selecting features based on coefficients that we received from Logistic Regression."
   ]
  },
  {
   "cell_type": "code",
   "execution_count": 166,
   "id": "e3b2b9d7",
   "metadata": {},
   "outputs": [],
   "source": [
    "# Next, hyperparameter tuning using GridSearchCV."
   ]
  },
  {
   "cell_type": "code",
   "execution_count": 167,
   "id": "a4cb5ffe",
   "metadata": {},
   "outputs": [],
   "source": [
    "# Disabling warnings as Gridsearch for logistic regression tends to generate a lot of warnings."
   ]
  },
  {
   "cell_type": "code",
   "execution_count": 76,
   "id": "63b892c5",
   "metadata": {},
   "outputs": [],
   "source": [
    "import warnings\n",
    "warnings.filterwarnings('ignore')"
   ]
  },
  {
   "cell_type": "markdown",
   "id": "06d531ca",
   "metadata": {},
   "source": [
    "# Hyperparameter tuning using Grid Search CV"
   ]
  },
  {
   "cell_type": "code",
   "execution_count": 77,
   "id": "07a99a24",
   "metadata": {},
   "outputs": [],
   "source": [
    "reg2=linear_model.LogisticRegression()"
   ]
  },
  {
   "cell_type": "code",
   "execution_count": 168,
   "id": "5e40b57c",
   "metadata": {},
   "outputs": [],
   "source": [
    "# Importing library for GridSearchCV."
   ]
  },
  {
   "cell_type": "code",
   "execution_count": 78,
   "id": "6ba68f80",
   "metadata": {},
   "outputs": [],
   "source": [
    "from sklearn.model_selection import GridSearchCV"
   ]
  },
  {
   "cell_type": "code",
   "execution_count": 169,
   "id": "249d1981",
   "metadata": {},
   "outputs": [],
   "source": [
    "# Defining parameters."
   ]
  },
  {
   "cell_type": "code",
   "execution_count": 79,
   "id": "34d04844",
   "metadata": {},
   "outputs": [],
   "source": [
    "params= {'C': (np.logspace(-3,3,7)), 'penalty': ['l1','l2'],\n",
    "                  'class_weight': ['None','balanced'],\n",
    "                    'solver': ['newton-cg', 'lbfgs', 'liblinear', 'sag', 'saga']}"
   ]
  },
  {
   "cell_type": "code",
   "execution_count": 170,
   "id": "8768a84f",
   "metadata": {},
   "outputs": [],
   "source": [
    "# Defining GridSearchCV to find out combinations for best recall score."
   ]
  },
  {
   "cell_type": "code",
   "execution_count": 88,
   "id": "38ecb845",
   "metadata": {},
   "outputs": [],
   "source": [
    "gscv = GridSearchCV(estimator=reg2, \n",
    "                    param_grid=params,\n",
    "                    scoring= ['accuracy','f1','precision','recall'],\n",
    "                     refit='recall', cv=10)"
   ]
  },
  {
   "cell_type": "code",
   "execution_count": 171,
   "id": "eb63cba8",
   "metadata": {},
   "outputs": [],
   "source": [
    "# Fitting train data on defined GridSearch model."
   ]
  },
  {
   "cell_type": "code",
   "execution_count": 89,
   "id": "788a4b46",
   "metadata": {},
   "outputs": [
    {
     "data": {
      "text/plain": [
       "GridSearchCV(cv=10, estimator=LogisticRegression(),\n",
       "             param_grid={'C': array([1.e-03, 1.e-02, 1.e-01, 1.e+00, 1.e+01, 1.e+02, 1.e+03]),\n",
       "                         'class_weight': ['None', 'balanced'],\n",
       "                         'penalty': ['l1', 'l2'],\n",
       "                         'solver': ['newton-cg', 'lbfgs', 'liblinear', 'sag',\n",
       "                                    'saga']},\n",
       "             refit='recall', scoring=['accuracy', 'f1', 'precision', 'recall'])"
      ]
     },
     "execution_count": 89,
     "metadata": {},
     "output_type": "execute_result"
    }
   ],
   "source": [
    "gscv.fit(x_train1,y_train1)"
   ]
  },
  {
   "cell_type": "code",
   "execution_count": 90,
   "id": "278b81a5",
   "metadata": {},
   "outputs": [
    {
     "name": "stdout",
     "output_type": "stream",
     "text": [
      "Best parameters: {'C': 0.001, 'class_weight': 'balanced', 'penalty': 'l2', 'solver': 'liblinear'}\n"
     ]
    }
   ],
   "source": [
    "print(\"Best parameters:\", gscv.best_params_)"
   ]
  },
  {
   "cell_type": "code",
   "execution_count": 172,
   "id": "488f826f",
   "metadata": {},
   "outputs": [],
   "source": [
    "# Above are the best parameters as per GridSearchCV."
   ]
  },
  {
   "cell_type": "code",
   "execution_count": 91,
   "id": "382f4e61",
   "metadata": {},
   "outputs": [
    {
     "name": "stdout",
     "output_type": "stream",
     "text": [
      "Accuracy : 1.0\n"
     ]
    }
   ],
   "source": [
    "print(\"Accuracy :\",gscv.best_score_)"
   ]
  },
  {
   "cell_type": "code",
   "execution_count": 92,
   "id": "b3bf8d4b",
   "metadata": {},
   "outputs": [
    {
     "name": "stdout",
     "output_type": "stream",
     "text": [
      "Accuracy : LogisticRegression(C=0.001, class_weight='balanced', solver='liblinear')\n"
     ]
    }
   ],
   "source": [
    "print(\"Accuracy :\",gscv.best_estimator_)"
   ]
  },
  {
   "cell_type": "code",
   "execution_count": 173,
   "id": "7d2b00ee",
   "metadata": {},
   "outputs": [],
   "source": [
    "# Using the above parameter results for logistic regression, with a few changes"
   ]
  },
  {
   "cell_type": "code",
   "execution_count": 96,
   "id": "69ef51fc",
   "metadata": {},
   "outputs": [
    {
     "name": "stdout",
     "output_type": "stream",
     "text": [
      "accuracy: 76.62337662337663%\n"
     ]
    }
   ],
   "source": [
    "reg3=linear_model.LogisticRegression(C=0.1,class_weight='balanced',solver='liblinear',penalty='l2')\n",
    "reg3.fit(x_train1,y_train1)\n",
    "y_pred3=reg3.predict(x_test1)\n",
    "print(\"accuracy: \"+ str(reg3.score(x_test1,y_test1)*100) + \"%\")"
   ]
  },
  {
   "cell_type": "code",
   "execution_count": 97,
   "id": "c55316dd",
   "metadata": {},
   "outputs": [
    {
     "data": {
      "text/plain": [
       "array([[79, 28],\n",
       "       [ 8, 39]], dtype=int64)"
      ]
     },
     "execution_count": 97,
     "metadata": {},
     "output_type": "execute_result"
    }
   ],
   "source": [
    "cm3 = metrics.confusion_matrix(y_test1, y_pred3)\n",
    "cm3"
   ]
  },
  {
   "cell_type": "code",
   "execution_count": 98,
   "id": "508e7a5c",
   "metadata": {},
   "outputs": [
    {
     "name": "stdout",
     "output_type": "stream",
     "text": [
      "Accuracy: 0.7662337662337663\n",
      "Precision: 0.582089552238806\n",
      "Recall: 0.8297872340425532\n",
      "F1 Score: 0.7746897703490215\n"
     ]
    }
   ],
   "source": [
    "print(\"Accuracy:\",metrics.accuracy_score(y_test1, y_pred3))\n",
    "print(\"Precision:\",metrics.precision_score(y_test1, y_pred3))\n",
    "print(\"Recall:\",metrics.recall_score(y_test1, y_pred3))\n",
    "print(\"F1 Score:\",metrics.f1_score(y_test1, y_pred3,average=\"weighted\"))"
   ]
  },
  {
   "cell_type": "markdown",
   "id": "4f0414e9",
   "metadata": {},
   "source": [
    "# Accuracy and F1 Score have slightly fallen. Precision has taken a dip of 24%.\n",
    "# But the Recall has increased to 83%, which was the target."
   ]
  },
  {
   "cell_type": "markdown",
   "id": "7148d37a",
   "metadata": {},
   "source": [
    "# Oversampling using SMOTE"
   ]
  },
  {
   "cell_type": "code",
   "execution_count": 174,
   "id": "8c2b39cd",
   "metadata": {},
   "outputs": [],
   "source": [
    "# Additional trial to further observe the changes in metrics. \n",
    "# Since the data is imbalanced, using oversampling technique to balance the data."
   ]
  },
  {
   "cell_type": "code",
   "execution_count": 175,
   "id": "b7875559",
   "metadata": {},
   "outputs": [],
   "source": [
    "# Importing library for SMOTE."
   ]
  },
  {
   "cell_type": "code",
   "execution_count": 99,
   "id": "1e77edc2",
   "metadata": {},
   "outputs": [],
   "source": [
    "from imblearn.over_sampling import SMOTE"
   ]
  },
  {
   "cell_type": "code",
   "execution_count": 100,
   "id": "ef4a024a",
   "metadata": {},
   "outputs": [],
   "source": [
    "smote=SMOTE()"
   ]
  },
  {
   "cell_type": "code",
   "execution_count": 101,
   "id": "56ebcc75",
   "metadata": {},
   "outputs": [],
   "source": [
    "x1_resample, y1_resample = smote.fit_resample(x1, y1)"
   ]
  },
  {
   "cell_type": "code",
   "execution_count": 176,
   "id": "a22e5fbf",
   "metadata": {},
   "outputs": [],
   "source": [
    "# Above is the resampled data."
   ]
  },
  {
   "cell_type": "code",
   "execution_count": 102,
   "id": "6d1b7db9",
   "metadata": {},
   "outputs": [],
   "source": [
    "from sklearn.model_selection import train_test_split\n",
    "x_train2,x_test2,y_train2,y_test2=train_test_split(x1_resample,y1_resample,random_state=0,test_size=0.2)"
   ]
  },
  {
   "cell_type": "code",
   "execution_count": 177,
   "id": "20c59f90",
   "metadata": {},
   "outputs": [],
   "source": [
    "# Fitting the resampled data on the model hyperparameters received from GridSearchCV.\n",
    "# Dropped the class_weight parameter, as we have resampled the data."
   ]
  },
  {
   "cell_type": "code",
   "execution_count": 119,
   "id": "1f6b6ac0",
   "metadata": {},
   "outputs": [
    {
     "name": "stdout",
     "output_type": "stream",
     "text": [
      "accuracy: 78.0%\n"
     ]
    }
   ],
   "source": [
    "reg4=linear_model.LogisticRegression(C=100,solver='liblinear',penalty='l1')\n",
    "reg4.fit(x_train2,y_train2)\n",
    "y_pred4=reg4.predict(x_test2)\n",
    "print(\"accuracy: \"+ str(reg4.score(x_test2,y_test2)*100) + \"%\")"
   ]
  },
  {
   "cell_type": "code",
   "execution_count": 120,
   "id": "b5d55182",
   "metadata": {},
   "outputs": [
    {
     "data": {
      "text/plain": [
       "array([[82, 23],\n",
       "       [21, 74]], dtype=int64)"
      ]
     },
     "execution_count": 120,
     "metadata": {},
     "output_type": "execute_result"
    }
   ],
   "source": [
    "cm4 = metrics.confusion_matrix(y_test2, y_pred4)\n",
    "cm4"
   ]
  },
  {
   "cell_type": "code",
   "execution_count": 121,
   "id": "b27d3bb6",
   "metadata": {},
   "outputs": [
    {
     "data": {
      "image/png": "[encoded data removed]",
      "text/plain": [
       "<Figure size 648x648 with 2 Axes>"
      ]
     },
     "metadata": {
      "needs_background": "light"
     },
     "output_type": "display_data"
    }
   ],
   "source": [
    "plt.figure(figsize=(9,9))\n",
    "sns.heatmap(cm4, annot=True, fmt=\".3f\", linewidths=.5, square = True, cmap = 'Blues_r');\n",
    "plt.ylabel('Actual label');\n",
    "plt.xlabel('Predicted label');\n",
    "all_sample_title = 'Accuracy Score: {0}'.format(reg4.score(x_test2,y_test2))\n",
    "plt.title(all_sample_title, size = 15);"
   ]
  },
  {
   "cell_type": "code",
   "execution_count": 122,
   "id": "d41274c7",
   "metadata": {},
   "outputs": [
    {
     "name": "stdout",
     "output_type": "stream",
     "text": [
      "Accuracy: 0.78\n",
      "Precision: 0.7628865979381443\n",
      "Recall: 0.7789473684210526\n",
      "F1 Score: 0.7800881410256408\n"
     ]
    }
   ],
   "source": [
    "print(\"Accuracy:\",metrics.accuracy_score(y_test2, y_pred4))\n",
    "print(\"Precision:\",metrics.precision_score(y_test2, y_pred4))\n",
    "print(\"Recall:\",metrics.recall_score(y_test2, y_pred4))\n",
    "print(\"F1 Score:\",metrics.f1_score(y_test2, y_pred4,average=\"weighted\"))"
   ]
  },
  {
   "cell_type": "markdown",
   "id": "ab735c82",
   "metadata": {},
   "source": [
    "# Accuracy, Precision and F1 score have increased, while Recall score has decreased from 82% to 78%"
   ]
  },
  {
   "cell_type": "code",
   "execution_count": null,
   "id": "45b24e06",
   "metadata": {},
   "outputs": [],
   "source": []
  },
  {
   "cell_type": "markdown",
   "id": "6e5b6bda",
   "metadata": {},
   "source": [
    "# Now, trials using Random Forest Classifier"
   ]
  },
  {
   "cell_type": "code",
   "execution_count": 178,
   "id": "126c2a85",
   "metadata": {},
   "outputs": [],
   "source": [
    "# Importing libraries necessary for Random Forest Classifier"
   ]
  },
  {
   "cell_type": "code",
   "execution_count": 123,
   "id": "527858f5",
   "metadata": {},
   "outputs": [],
   "source": [
    "from sklearn.ensemble import RandomForestClassifier\n",
    "from sklearn.metrics import accuracy_score"
   ]
  },
  {
   "cell_type": "code",
   "execution_count": 179,
   "id": "9db0219d",
   "metadata": {},
   "outputs": [],
   "source": [
    "# Fitting the model with data before SMOTE oversampling and scaling."
   ]
  },
  {
   "cell_type": "code",
   "execution_count": 124,
   "id": "6bf4f2e9",
   "metadata": {},
   "outputs": [
    {
     "name": "stdout",
     "output_type": "stream",
     "text": [
      "Accuracy Score: 0.7987012987012987\n"
     ]
    }
   ],
   "source": [
    "model = RandomForestClassifier(random_state=1)\n",
    "model.fit(x_train, y_train)\n",
    "y_pred5 = model.predict(x_test)\n",
    "\n",
    "print(\"Accuracy Score:\",accuracy_score(y_test,y_pred5))"
   ]
  },
  {
   "cell_type": "code",
   "execution_count": 125,
   "id": "ede1c048",
   "metadata": {},
   "outputs": [
    {
     "data": {
      "text/plain": [
       "array([[94, 13],\n",
       "       [18, 29]], dtype=int64)"
      ]
     },
     "execution_count": 125,
     "metadata": {},
     "output_type": "execute_result"
    }
   ],
   "source": [
    "cm5 = metrics.confusion_matrix(y_test, y_pred5)\n",
    "cm5"
   ]
  },
  {
   "cell_type": "code",
   "execution_count": 126,
   "id": "05ecffc3",
   "metadata": {},
   "outputs": [
    {
     "name": "stdout",
     "output_type": "stream",
     "text": [
      "Accuracy: 0.7987012987012987\n",
      "Precision: 0.6904761904761905\n",
      "Recall: 0.6170212765957447\n",
      "F1 Score: 0.795344771179772\n"
     ]
    }
   ],
   "source": [
    "print(\"Accuracy:\",metrics.accuracy_score(y_test, y_pred5))\n",
    "print(\"Precision:\",metrics.precision_score(y_test, y_pred5))\n",
    "print(\"Recall:\",metrics.recall_score(y_test, y_pred5))\n",
    "print(\"F1 Score:\",metrics.f1_score(y_test, y_pred5,average=\"weighted\"))"
   ]
  },
  {
   "cell_type": "code",
   "execution_count": null,
   "id": "da3e83c2",
   "metadata": {},
   "outputs": [],
   "source": [
    "# Accuracy is a decent 79.9%, but Precision and Recall are 69% and 61.7% respectively."
   ]
  },
  {
   "cell_type": "code",
   "execution_count": 128,
   "id": "5457e388",
   "metadata": {},
   "outputs": [
    {
     "name": "stdout",
     "output_type": "stream",
     "text": [
      "Accuracy Score: 0.7987012987012987\n"
     ]
    }
   ],
   "source": [
    "model1 = RandomForestClassifier(random_state=1)\n",
    "model1.fit(x_train1, y_train1)\n",
    "y_pred6 = model1.predict(x_test1)\n",
    "\n",
    "print(\"Accuracy Score:\",accuracy_score(y_test1,y_pred6))"
   ]
  },
  {
   "cell_type": "code",
   "execution_count": 129,
   "id": "324eeddb",
   "metadata": {},
   "outputs": [
    {
     "data": {
      "text/plain": [
       "array([[95, 12],\n",
       "       [19, 28]], dtype=int64)"
      ]
     },
     "execution_count": 129,
     "metadata": {},
     "output_type": "execute_result"
    }
   ],
   "source": [
    "cm6 = metrics.confusion_matrix(y_test1, y_pred6)\n",
    "cm6"
   ]
  },
  {
   "cell_type": "code",
   "execution_count": 130,
   "id": "962e4bd9",
   "metadata": {},
   "outputs": [
    {
     "data": {
      "image/png": "[encoded data removed]",
      "text/plain": [
       "<Figure size 648x648 with 2 Axes>"
      ]
     },
     "metadata": {
      "needs_background": "light"
     },
     "output_type": "display_data"
    }
   ],
   "source": [
    "plt.figure(figsize=(9,9))\n",
    "sns.heatmap(cm6, annot=True, fmt=\".3f\", linewidths=.5, square = True, cmap = 'Blues_r');\n",
    "plt.ylabel('Actual label');\n",
    "plt.xlabel('Predicted label');\n",
    "all_sample_title = 'Accuracy Score: {0}'.format(model1.score(x_test1,y_test1))\n",
    "plt.title(all_sample_title, size = 15);"
   ]
  },
  {
   "cell_type": "code",
   "execution_count": 131,
   "id": "009215d7",
   "metadata": {},
   "outputs": [
    {
     "name": "stdout",
     "output_type": "stream",
     "text": [
      "Accuracy: 0.7987012987012987\n",
      "Precision: 0.7\n",
      "Recall: 0.5957446808510638\n",
      "F1 Score: 0.7937910635679397\n"
     ]
    }
   ],
   "source": [
    "print(\"Accuracy:\",metrics.accuracy_score(y_test1, y_pred6))\n",
    "print(\"Precision:\",metrics.precision_score(y_test1, y_pred6))\n",
    "print(\"Recall:\",metrics.recall_score(y_test1, y_pred6))\n",
    "print(\"F1 Score:\",metrics.f1_score(y_test1, y_pred6,average=\"weighted\"))"
   ]
  },
  {
   "cell_type": "code",
   "execution_count": null,
   "id": "1015cd8f",
   "metadata": {},
   "outputs": [],
   "source": [
    "# Accuracy remained the same, Precision has slightly increased and Recall has slightly decreased."
   ]
  },
  {
   "cell_type": "code",
   "execution_count": 180,
   "id": "302191fa",
   "metadata": {},
   "outputs": [],
   "source": [
    "# Let us see if the scores improve on data that was oversampled using SMOTE."
   ]
  },
  {
   "cell_type": "code",
   "execution_count": 181,
   "id": "0302b217",
   "metadata": {},
   "outputs": [],
   "source": [
    "# Fitting the model with data after SMOTE oversampling."
   ]
  },
  {
   "cell_type": "code",
   "execution_count": 132,
   "id": "437bb775",
   "metadata": {},
   "outputs": [
    {
     "name": "stdout",
     "output_type": "stream",
     "text": [
      "Accuracy Score: 0.845\n"
     ]
    }
   ],
   "source": [
    "model2 = RandomForestClassifier(random_state=1)\n",
    "model2.fit(x_train2, y_train2)\n",
    "y_pred7 = model2.predict(x_test2)\n",
    "\n",
    "print(\"Accuracy Score:\",accuracy_score(y_test2,y_pred7))"
   ]
  },
  {
   "cell_type": "code",
   "execution_count": 133,
   "id": "8e1f6a9e",
   "metadata": {},
   "outputs": [
    {
     "data": {
      "text/plain": [
       "array([[87, 18],\n",
       "       [13, 82]], dtype=int64)"
      ]
     },
     "execution_count": 133,
     "metadata": {},
     "output_type": "execute_result"
    }
   ],
   "source": [
    "cm7 = metrics.confusion_matrix(y_test2, y_pred7)\n",
    "cm7"
   ]
  },
  {
   "cell_type": "code",
   "execution_count": 135,
   "id": "863c9c98",
   "metadata": {},
   "outputs": [
    {
     "data": {
      "image/png": "[encoded data removed]",
      "text/plain": [
       "<Figure size 648x648 with 2 Axes>"
      ]
     },
     "metadata": {
      "needs_background": "light"
     },
     "output_type": "display_data"
    }
   ],
   "source": [
    "plt.figure(figsize=(9,9))\n",
    "sns.heatmap(cm7, annot=True, fmt=\".3f\", linewidths=.5, square = True, cmap = 'Blues_r');\n",
    "plt.ylabel('Actual label');\n",
    "plt.xlabel('Predicted label');\n",
    "all_sample_title = 'Accuracy Score: {0}'.format(model2.score(x_test2,y_test2))\n",
    "plt.title(all_sample_title, size = 15);"
   ]
  },
  {
   "cell_type": "code",
   "execution_count": 136,
   "id": "69749d46",
   "metadata": {},
   "outputs": [
    {
     "name": "stdout",
     "output_type": "stream",
     "text": [
      "Accuracy: 0.845\n",
      "Precision: 0.82\n",
      "Recall: 0.8631578947368421\n",
      "F1 Score: 0.8450969355847405\n"
     ]
    }
   ],
   "source": [
    "print(\"Accuracy:\",metrics.accuracy_score(y_test2, y_pred7))\n",
    "print(\"Precision:\",metrics.precision_score(y_test2, y_pred7))\n",
    "print(\"Recall:\",metrics.recall_score(y_test2, y_pred7))\n",
    "print(\"F1 Score:\",metrics.f1_score(y_test2, y_pred7,average=\"weighted\"))"
   ]
  },
  {
   "cell_type": "markdown",
   "id": "b79ae363",
   "metadata": {},
   "source": [
    "# The accuracy and F1 score have increased and are better than any other models. Accuracy and F1 Score are both 84.5%.\n",
    "# Recall is 86.3%, precision has significantly increased to 82%.\n",
    "\n",
    "# Hence, this seems to be the best model of all.\n"
   ]
  },
  {
   "cell_type": "code",
   "execution_count": null,
   "id": "9ce1c74f",
   "metadata": {},
   "outputs": [],
   "source": []
  }
 ],
 "metadata": {
  "hide_input": false,
  "kernelspec": {
   "display_name": "Python 3",
   "language": "python",
   "name": "python3"
  },
  "language_info": {
   "codemirror_mode": {
    "name": "ipython",
    "version": 3
   },
   "file_extension": ".py",
   "mimetype": "text/x-python",
   "name": "python",
   "nbconvert_exporter": "python",
   "pygments_lexer": "ipython3",
   "version": "3.8.8"
  },
  "toc": {
   "base_numbering": 1,
   "nav_menu": {},
   "number_sections": false,
   "sideBar": true,
   "skip_h1_title": false,
   "title_cell": "Table of Contents",
   "title_sidebar": "Contents",
   "toc_cell": false,
   "toc_position": {},
   "toc_section_display": true,
   "toc_window_display": false
  }
 },
 "nbformat": 4,
 "nbformat_minor": 5
}
